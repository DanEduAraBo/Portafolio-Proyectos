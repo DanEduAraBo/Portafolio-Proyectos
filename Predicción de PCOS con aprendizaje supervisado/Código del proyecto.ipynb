{
  "nbformat": 4,
  "nbformat_minor": 0,
  "metadata": {
    "colab": {
      "provenance": []
    },
    "kernelspec": {
      "name": "python3",
      "display_name": "Python 3"
    },
    "language_info": {
      "name": "python"
    }
  },
  "cells": [
    {
      "cell_type": "markdown",
      "source": [
        "# Etapa 1: Proyecto de Aprendizaje Supervisado\n",
        "Daniel Eduardo Arana Bodart, A01741202\n",
        "\n",
        "Jose Manuel Guerrero Arellano, A01747623\n",
        "\n",
        "Valeria García Hernández, A01742811"
      ],
      "metadata": {
        "id": "xpjvkErhY64f"
      }
    },
    {
      "cell_type": "markdown",
      "source": [
        "## Limpieza"
      ],
      "metadata": {
        "id": "AVUG5eyibWXh"
      }
    },
    {
      "cell_type": "markdown",
      "source": [
        "#### Importar librerías"
      ],
      "metadata": {
        "id": "MJbVovcvlnSp"
      }
    },
    {
      "cell_type": "code",
      "execution_count": 1,
      "metadata": {
        "id": "gUFogOpmh5if"
      },
      "outputs": [],
      "source": [
        "import pandas as pd\n",
        "import numpy as np\n",
        "import matplotlib.pyplot as plt"
      ]
    },
    {
      "cell_type": "markdown",
      "source": [
        "### Crear dataset"
      ],
      "metadata": {
        "id": "7FEWcFohnXAX"
      }
    },
    {
      "cell_type": "code",
      "source": [
        "df = pd.read_csv(\"dataset_PCOS.csv\")\n",
        "display(df.shape)\n",
        "df"
      ],
      "metadata": {
        "colab": {
          "base_uri": "https://localhost:8080/",
          "height": 530
        },
        "id": "IKb8rTgGnbfu",
        "outputId": "58ebdd61-98ba-49a7-bf01-47c2e178c513"
      },
      "execution_count": 3,
      "outputs": [
        {
          "output_type": "display_data",
          "data": {
            "text/plain": [
              "(999, 45)"
            ]
          },
          "metadata": {}
        },
        {
          "output_type": "execute_result",
          "data": {
            "text/plain": [
              "     Sl. No  Patient File No.  PCOS (Y/N)   Age (yrs)  Weight (Kg)  \\\n",
              "0       1.0               1.0         0.0        28.0         44.6   \n",
              "1       2.0               2.0         0.0        36.0         65.0   \n",
              "2       3.0               3.0         1.0        33.0         68.8   \n",
              "3       4.0               4.0         0.0        37.0         65.0   \n",
              "4       5.0               5.0         0.0        25.0         52.0   \n",
              "..      ...               ...         ...         ...          ...   \n",
              "994     NaN               NaN         NaN         NaN          NaN   \n",
              "995     NaN               NaN         NaN         NaN          NaN   \n",
              "996     NaN               NaN         NaN         NaN          NaN   \n",
              "997     NaN               NaN         NaN         NaN          NaN   \n",
              "998     NaN               NaN         NaN         NaN          NaN   \n",
              "\n",
              "     Height(Cm)         BMI  Blood Group  Pulse rate(bpm)   RR (breaths/min)  \\\n",
              "0          152.0  19.300000         15.0              78.0              22.0   \n",
              "1          161.5  24.921163         15.0              74.0              20.0   \n",
              "2          165.0  25.270891         11.0              72.0              18.0   \n",
              "3          148.0  29.674945         13.0              72.0              20.0   \n",
              "4          161.0  20.060954         11.0              72.0              18.0   \n",
              "..           ...        ...          ...               ...               ...   \n",
              "994          NaN        NaN          NaN               NaN               NaN   \n",
              "995          NaN        NaN          NaN               NaN               NaN   \n",
              "996          NaN        NaN          NaN               NaN               NaN   \n",
              "997          NaN        NaN          NaN               NaN               NaN   \n",
              "998          NaN        NaN          NaN               NaN               NaN   \n",
              "\n",
              "     ...  Fast food (Y/N)  Reg.Exercise(Y/N)  BP _Systolic (mmHg)  \\\n",
              "0    ...              1.0                0.0                110.0   \n",
              "1    ...              0.0                0.0                120.0   \n",
              "2    ...              1.0                0.0                120.0   \n",
              "3    ...              0.0                0.0                120.0   \n",
              "4    ...              0.0                0.0                120.0   \n",
              "..   ...              ...                ...                  ...   \n",
              "994  ...              NaN                NaN                  NaN   \n",
              "995  ...              NaN                NaN                  NaN   \n",
              "996  ...              NaN                NaN                  NaN   \n",
              "997  ...              NaN                NaN                  NaN   \n",
              "998  ...              NaN                NaN                  NaN   \n",
              "\n",
              "     BP _Diastolic (mmHg)  Follicle No. (L)  Follicle No. (R)  \\\n",
              "0                    80.0               3.0               3.0   \n",
              "1                    70.0               3.0               5.0   \n",
              "2                    80.0              13.0              15.0   \n",
              "3                    70.0               2.0               2.0   \n",
              "4                    80.0               3.0               4.0   \n",
              "..                    ...               ...               ...   \n",
              "994                   NaN               NaN               NaN   \n",
              "995                   NaN               NaN               NaN   \n",
              "996                   NaN               NaN               NaN   \n",
              "997                   NaN               NaN               NaN   \n",
              "998                   NaN               NaN               NaN   \n",
              "\n",
              "     Avg. F size (L) (mm) Avg. F size (R) (mm)  Endometrium (mm)  Unnamed: 44  \n",
              "0                    18.0                 18.0               8.5          NaN  \n",
              "1                    15.0                 14.0               3.7          NaN  \n",
              "2                    18.0                 20.0              10.0          NaN  \n",
              "3                    15.0                 14.0               7.5          NaN  \n",
              "4                    16.0                 14.0               7.0          NaN  \n",
              "..                    ...                  ...               ...          ...  \n",
              "994                   NaN                  NaN               NaN          NaN  \n",
              "995                   NaN                  NaN               NaN          NaN  \n",
              "996                   NaN                  NaN               NaN          NaN  \n",
              "997                   NaN                  NaN               NaN          NaN  \n",
              "998                   NaN                  NaN               NaN          NaN  \n",
              "\n",
              "[999 rows x 45 columns]"
            ],
            "text/html": [
              "\n",
              "  <div id=\"df-f2b09744-5d6d-478b-8e67-d369926d802b\" class=\"colab-df-container\">\n",
              "    <div>\n",
              "<style scoped>\n",
              "    .dataframe tbody tr th:only-of-type {\n",
              "        vertical-align: middle;\n",
              "    }\n",
              "\n",
              "    .dataframe tbody tr th {\n",
              "        vertical-align: top;\n",
              "    }\n",
              "\n",
              "    .dataframe thead th {\n",
              "        text-align: right;\n",
              "    }\n",
              "</style>\n",
              "<table border=\"1\" class=\"dataframe\">\n",
              "  <thead>\n",
              "    <tr style=\"text-align: right;\">\n",
              "      <th></th>\n",
              "      <th>Sl. No</th>\n",
              "      <th>Patient File No.</th>\n",
              "      <th>PCOS (Y/N)</th>\n",
              "      <th>Age (yrs)</th>\n",
              "      <th>Weight (Kg)</th>\n",
              "      <th>Height(Cm)</th>\n",
              "      <th>BMI</th>\n",
              "      <th>Blood Group</th>\n",
              "      <th>Pulse rate(bpm)</th>\n",
              "      <th>RR (breaths/min)</th>\n",
              "      <th>...</th>\n",
              "      <th>Fast food (Y/N)</th>\n",
              "      <th>Reg.Exercise(Y/N)</th>\n",
              "      <th>BP _Systolic (mmHg)</th>\n",
              "      <th>BP _Diastolic (mmHg)</th>\n",
              "      <th>Follicle No. (L)</th>\n",
              "      <th>Follicle No. (R)</th>\n",
              "      <th>Avg. F size (L) (mm)</th>\n",
              "      <th>Avg. F size (R) (mm)</th>\n",
              "      <th>Endometrium (mm)</th>\n",
              "      <th>Unnamed: 44</th>\n",
              "    </tr>\n",
              "  </thead>\n",
              "  <tbody>\n",
              "    <tr>\n",
              "      <th>0</th>\n",
              "      <td>1.0</td>\n",
              "      <td>1.0</td>\n",
              "      <td>0.0</td>\n",
              "      <td>28.0</td>\n",
              "      <td>44.6</td>\n",
              "      <td>152.0</td>\n",
              "      <td>19.300000</td>\n",
              "      <td>15.0</td>\n",
              "      <td>78.0</td>\n",
              "      <td>22.0</td>\n",
              "      <td>...</td>\n",
              "      <td>1.0</td>\n",
              "      <td>0.0</td>\n",
              "      <td>110.0</td>\n",
              "      <td>80.0</td>\n",
              "      <td>3.0</td>\n",
              "      <td>3.0</td>\n",
              "      <td>18.0</td>\n",
              "      <td>18.0</td>\n",
              "      <td>8.5</td>\n",
              "      <td>NaN</td>\n",
              "    </tr>\n",
              "    <tr>\n",
              "      <th>1</th>\n",
              "      <td>2.0</td>\n",
              "      <td>2.0</td>\n",
              "      <td>0.0</td>\n",
              "      <td>36.0</td>\n",
              "      <td>65.0</td>\n",
              "      <td>161.5</td>\n",
              "      <td>24.921163</td>\n",
              "      <td>15.0</td>\n",
              "      <td>74.0</td>\n",
              "      <td>20.0</td>\n",
              "      <td>...</td>\n",
              "      <td>0.0</td>\n",
              "      <td>0.0</td>\n",
              "      <td>120.0</td>\n",
              "      <td>70.0</td>\n",
              "      <td>3.0</td>\n",
              "      <td>5.0</td>\n",
              "      <td>15.0</td>\n",
              "      <td>14.0</td>\n",
              "      <td>3.7</td>\n",
              "      <td>NaN</td>\n",
              "    </tr>\n",
              "    <tr>\n",
              "      <th>2</th>\n",
              "      <td>3.0</td>\n",
              "      <td>3.0</td>\n",
              "      <td>1.0</td>\n",
              "      <td>33.0</td>\n",
              "      <td>68.8</td>\n",
              "      <td>165.0</td>\n",
              "      <td>25.270891</td>\n",
              "      <td>11.0</td>\n",
              "      <td>72.0</td>\n",
              "      <td>18.0</td>\n",
              "      <td>...</td>\n",
              "      <td>1.0</td>\n",
              "      <td>0.0</td>\n",
              "      <td>120.0</td>\n",
              "      <td>80.0</td>\n",
              "      <td>13.0</td>\n",
              "      <td>15.0</td>\n",
              "      <td>18.0</td>\n",
              "      <td>20.0</td>\n",
              "      <td>10.0</td>\n",
              "      <td>NaN</td>\n",
              "    </tr>\n",
              "    <tr>\n",
              "      <th>3</th>\n",
              "      <td>4.0</td>\n",
              "      <td>4.0</td>\n",
              "      <td>0.0</td>\n",
              "      <td>37.0</td>\n",
              "      <td>65.0</td>\n",
              "      <td>148.0</td>\n",
              "      <td>29.674945</td>\n",
              "      <td>13.0</td>\n",
              "      <td>72.0</td>\n",
              "      <td>20.0</td>\n",
              "      <td>...</td>\n",
              "      <td>0.0</td>\n",
              "      <td>0.0</td>\n",
              "      <td>120.0</td>\n",
              "      <td>70.0</td>\n",
              "      <td>2.0</td>\n",
              "      <td>2.0</td>\n",
              "      <td>15.0</td>\n",
              "      <td>14.0</td>\n",
              "      <td>7.5</td>\n",
              "      <td>NaN</td>\n",
              "    </tr>\n",
              "    <tr>\n",
              "      <th>4</th>\n",
              "      <td>5.0</td>\n",
              "      <td>5.0</td>\n",
              "      <td>0.0</td>\n",
              "      <td>25.0</td>\n",
              "      <td>52.0</td>\n",
              "      <td>161.0</td>\n",
              "      <td>20.060954</td>\n",
              "      <td>11.0</td>\n",
              "      <td>72.0</td>\n",
              "      <td>18.0</td>\n",
              "      <td>...</td>\n",
              "      <td>0.0</td>\n",
              "      <td>0.0</td>\n",
              "      <td>120.0</td>\n",
              "      <td>80.0</td>\n",
              "      <td>3.0</td>\n",
              "      <td>4.0</td>\n",
              "      <td>16.0</td>\n",
              "      <td>14.0</td>\n",
              "      <td>7.0</td>\n",
              "      <td>NaN</td>\n",
              "    </tr>\n",
              "    <tr>\n",
              "      <th>...</th>\n",
              "      <td>...</td>\n",
              "      <td>...</td>\n",
              "      <td>...</td>\n",
              "      <td>...</td>\n",
              "      <td>...</td>\n",
              "      <td>...</td>\n",
              "      <td>...</td>\n",
              "      <td>...</td>\n",
              "      <td>...</td>\n",
              "      <td>...</td>\n",
              "      <td>...</td>\n",
              "      <td>...</td>\n",
              "      <td>...</td>\n",
              "      <td>...</td>\n",
              "      <td>...</td>\n",
              "      <td>...</td>\n",
              "      <td>...</td>\n",
              "      <td>...</td>\n",
              "      <td>...</td>\n",
              "      <td>...</td>\n",
              "      <td>...</td>\n",
              "    </tr>\n",
              "    <tr>\n",
              "      <th>994</th>\n",
              "      <td>NaN</td>\n",
              "      <td>NaN</td>\n",
              "      <td>NaN</td>\n",
              "      <td>NaN</td>\n",
              "      <td>NaN</td>\n",
              "      <td>NaN</td>\n",
              "      <td>NaN</td>\n",
              "      <td>NaN</td>\n",
              "      <td>NaN</td>\n",
              "      <td>NaN</td>\n",
              "      <td>...</td>\n",
              "      <td>NaN</td>\n",
              "      <td>NaN</td>\n",
              "      <td>NaN</td>\n",
              "      <td>NaN</td>\n",
              "      <td>NaN</td>\n",
              "      <td>NaN</td>\n",
              "      <td>NaN</td>\n",
              "      <td>NaN</td>\n",
              "      <td>NaN</td>\n",
              "      <td>NaN</td>\n",
              "    </tr>\n",
              "    <tr>\n",
              "      <th>995</th>\n",
              "      <td>NaN</td>\n",
              "      <td>NaN</td>\n",
              "      <td>NaN</td>\n",
              "      <td>NaN</td>\n",
              "      <td>NaN</td>\n",
              "      <td>NaN</td>\n",
              "      <td>NaN</td>\n",
              "      <td>NaN</td>\n",
              "      <td>NaN</td>\n",
              "      <td>NaN</td>\n",
              "      <td>...</td>\n",
              "      <td>NaN</td>\n",
              "      <td>NaN</td>\n",
              "      <td>NaN</td>\n",
              "      <td>NaN</td>\n",
              "      <td>NaN</td>\n",
              "      <td>NaN</td>\n",
              "      <td>NaN</td>\n",
              "      <td>NaN</td>\n",
              "      <td>NaN</td>\n",
              "      <td>NaN</td>\n",
              "    </tr>\n",
              "    <tr>\n",
              "      <th>996</th>\n",
              "      <td>NaN</td>\n",
              "      <td>NaN</td>\n",
              "      <td>NaN</td>\n",
              "      <td>NaN</td>\n",
              "      <td>NaN</td>\n",
              "      <td>NaN</td>\n",
              "      <td>NaN</td>\n",
              "      <td>NaN</td>\n",
              "      <td>NaN</td>\n",
              "      <td>NaN</td>\n",
              "      <td>...</td>\n",
              "      <td>NaN</td>\n",
              "      <td>NaN</td>\n",
              "      <td>NaN</td>\n",
              "      <td>NaN</td>\n",
              "      <td>NaN</td>\n",
              "      <td>NaN</td>\n",
              "      <td>NaN</td>\n",
              "      <td>NaN</td>\n",
              "      <td>NaN</td>\n",
              "      <td>NaN</td>\n",
              "    </tr>\n",
              "    <tr>\n",
              "      <th>997</th>\n",
              "      <td>NaN</td>\n",
              "      <td>NaN</td>\n",
              "      <td>NaN</td>\n",
              "      <td>NaN</td>\n",
              "      <td>NaN</td>\n",
              "      <td>NaN</td>\n",
              "      <td>NaN</td>\n",
              "      <td>NaN</td>\n",
              "      <td>NaN</td>\n",
              "      <td>NaN</td>\n",
              "      <td>...</td>\n",
              "      <td>NaN</td>\n",
              "      <td>NaN</td>\n",
              "      <td>NaN</td>\n",
              "      <td>NaN</td>\n",
              "      <td>NaN</td>\n",
              "      <td>NaN</td>\n",
              "      <td>NaN</td>\n",
              "      <td>NaN</td>\n",
              "      <td>NaN</td>\n",
              "      <td>NaN</td>\n",
              "    </tr>\n",
              "    <tr>\n",
              "      <th>998</th>\n",
              "      <td>NaN</td>\n",
              "      <td>NaN</td>\n",
              "      <td>NaN</td>\n",
              "      <td>NaN</td>\n",
              "      <td>NaN</td>\n",
              "      <td>NaN</td>\n",
              "      <td>NaN</td>\n",
              "      <td>NaN</td>\n",
              "      <td>NaN</td>\n",
              "      <td>NaN</td>\n",
              "      <td>...</td>\n",
              "      <td>NaN</td>\n",
              "      <td>NaN</td>\n",
              "      <td>NaN</td>\n",
              "      <td>NaN</td>\n",
              "      <td>NaN</td>\n",
              "      <td>NaN</td>\n",
              "      <td>NaN</td>\n",
              "      <td>NaN</td>\n",
              "      <td>NaN</td>\n",
              "      <td>NaN</td>\n",
              "    </tr>\n",
              "  </tbody>\n",
              "</table>\n",
              "<p>999 rows × 45 columns</p>\n",
              "</div>\n",
              "    <div class=\"colab-df-buttons\">\n",
              "\n",
              "  <div class=\"colab-df-container\">\n",
              "    <button class=\"colab-df-convert\" onclick=\"convertToInteractive('df-f2b09744-5d6d-478b-8e67-d369926d802b')\"\n",
              "            title=\"Convert this dataframe to an interactive table.\"\n",
              "            style=\"display:none;\">\n",
              "\n",
              "  <svg xmlns=\"http://www.w3.org/2000/svg\" height=\"24px\" viewBox=\"0 -960 960 960\">\n",
              "    <path d=\"M120-120v-720h720v720H120Zm60-500h600v-160H180v160Zm220 220h160v-160H400v160Zm0 220h160v-160H400v160ZM180-400h160v-160H180v160Zm440 0h160v-160H620v160ZM180-180h160v-160H180v160Zm440 0h160v-160H620v160Z\"/>\n",
              "  </svg>\n",
              "    </button>\n",
              "\n",
              "  <style>\n",
              "    .colab-df-container {\n",
              "      display:flex;\n",
              "      gap: 12px;\n",
              "    }\n",
              "\n",
              "    .colab-df-convert {\n",
              "      background-color: #E8F0FE;\n",
              "      border: none;\n",
              "      border-radius: 50%;\n",
              "      cursor: pointer;\n",
              "      display: none;\n",
              "      fill: #1967D2;\n",
              "      height: 32px;\n",
              "      padding: 0 0 0 0;\n",
              "      width: 32px;\n",
              "    }\n",
              "\n",
              "    .colab-df-convert:hover {\n",
              "      background-color: #E2EBFA;\n",
              "      box-shadow: 0px 1px 2px rgba(60, 64, 67, 0.3), 0px 1px 3px 1px rgba(60, 64, 67, 0.15);\n",
              "      fill: #174EA6;\n",
              "    }\n",
              "\n",
              "    .colab-df-buttons div {\n",
              "      margin-bottom: 4px;\n",
              "    }\n",
              "\n",
              "    [theme=dark] .colab-df-convert {\n",
              "      background-color: #3B4455;\n",
              "      fill: #D2E3FC;\n",
              "    }\n",
              "\n",
              "    [theme=dark] .colab-df-convert:hover {\n",
              "      background-color: #434B5C;\n",
              "      box-shadow: 0px 1px 3px 1px rgba(0, 0, 0, 0.15);\n",
              "      filter: drop-shadow(0px 1px 2px rgba(0, 0, 0, 0.3));\n",
              "      fill: #FFFFFF;\n",
              "    }\n",
              "  </style>\n",
              "\n",
              "    <script>\n",
              "      const buttonEl =\n",
              "        document.querySelector('#df-f2b09744-5d6d-478b-8e67-d369926d802b button.colab-df-convert');\n",
              "      buttonEl.style.display =\n",
              "        google.colab.kernel.accessAllowed ? 'block' : 'none';\n",
              "\n",
              "      async function convertToInteractive(key) {\n",
              "        const element = document.querySelector('#df-f2b09744-5d6d-478b-8e67-d369926d802b');\n",
              "        const dataTable =\n",
              "          await google.colab.kernel.invokeFunction('convertToInteractive',\n",
              "                                                    [key], {});\n",
              "        if (!dataTable) return;\n",
              "\n",
              "        const docLinkHtml = 'Like what you see? Visit the ' +\n",
              "          '<a target=\"_blank\" href=https://colab.research.google.com/notebooks/data_table.ipynb>data table notebook</a>'\n",
              "          + ' to learn more about interactive tables.';\n",
              "        element.innerHTML = '';\n",
              "        dataTable['output_type'] = 'display_data';\n",
              "        await google.colab.output.renderOutput(dataTable, element);\n",
              "        const docLink = document.createElement('div');\n",
              "        docLink.innerHTML = docLinkHtml;\n",
              "        element.appendChild(docLink);\n",
              "      }\n",
              "    </script>\n",
              "  </div>\n",
              "\n",
              "\n",
              "<div id=\"df-e44f9416-a25b-4292-b0d8-17f11181a7b0\">\n",
              "  <button class=\"colab-df-quickchart\" onclick=\"quickchart('df-e44f9416-a25b-4292-b0d8-17f11181a7b0')\"\n",
              "            title=\"Suggest charts\"\n",
              "            style=\"display:none;\">\n",
              "\n",
              "<svg xmlns=\"http://www.w3.org/2000/svg\" height=\"24px\"viewBox=\"0 0 24 24\"\n",
              "     width=\"24px\">\n",
              "    <g>\n",
              "        <path d=\"M19 3H5c-1.1 0-2 .9-2 2v14c0 1.1.9 2 2 2h14c1.1 0 2-.9 2-2V5c0-1.1-.9-2-2-2zM9 17H7v-7h2v7zm4 0h-2V7h2v10zm4 0h-2v-4h2v4z\"/>\n",
              "    </g>\n",
              "</svg>\n",
              "  </button>\n",
              "\n",
              "<style>\n",
              "  .colab-df-quickchart {\n",
              "      --bg-color: #E8F0FE;\n",
              "      --fill-color: #1967D2;\n",
              "      --hover-bg-color: #E2EBFA;\n",
              "      --hover-fill-color: #174EA6;\n",
              "      --disabled-fill-color: #AAA;\n",
              "      --disabled-bg-color: #DDD;\n",
              "  }\n",
              "\n",
              "  [theme=dark] .colab-df-quickchart {\n",
              "      --bg-color: #3B4455;\n",
              "      --fill-color: #D2E3FC;\n",
              "      --hover-bg-color: #434B5C;\n",
              "      --hover-fill-color: #FFFFFF;\n",
              "      --disabled-bg-color: #3B4455;\n",
              "      --disabled-fill-color: #666;\n",
              "  }\n",
              "\n",
              "  .colab-df-quickchart {\n",
              "    background-color: var(--bg-color);\n",
              "    border: none;\n",
              "    border-radius: 50%;\n",
              "    cursor: pointer;\n",
              "    display: none;\n",
              "    fill: var(--fill-color);\n",
              "    height: 32px;\n",
              "    padding: 0;\n",
              "    width: 32px;\n",
              "  }\n",
              "\n",
              "  .colab-df-quickchart:hover {\n",
              "    background-color: var(--hover-bg-color);\n",
              "    box-shadow: 0 1px 2px rgba(60, 64, 67, 0.3), 0 1px 3px 1px rgba(60, 64, 67, 0.15);\n",
              "    fill: var(--button-hover-fill-color);\n",
              "  }\n",
              "\n",
              "  .colab-df-quickchart-complete:disabled,\n",
              "  .colab-df-quickchart-complete:disabled:hover {\n",
              "    background-color: var(--disabled-bg-color);\n",
              "    fill: var(--disabled-fill-color);\n",
              "    box-shadow: none;\n",
              "  }\n",
              "\n",
              "  .colab-df-spinner {\n",
              "    border: 2px solid var(--fill-color);\n",
              "    border-color: transparent;\n",
              "    border-bottom-color: var(--fill-color);\n",
              "    animation:\n",
              "      spin 1s steps(1) infinite;\n",
              "  }\n",
              "\n",
              "  @keyframes spin {\n",
              "    0% {\n",
              "      border-color: transparent;\n",
              "      border-bottom-color: var(--fill-color);\n",
              "      border-left-color: var(--fill-color);\n",
              "    }\n",
              "    20% {\n",
              "      border-color: transparent;\n",
              "      border-left-color: var(--fill-color);\n",
              "      border-top-color: var(--fill-color);\n",
              "    }\n",
              "    30% {\n",
              "      border-color: transparent;\n",
              "      border-left-color: var(--fill-color);\n",
              "      border-top-color: var(--fill-color);\n",
              "      border-right-color: var(--fill-color);\n",
              "    }\n",
              "    40% {\n",
              "      border-color: transparent;\n",
              "      border-right-color: var(--fill-color);\n",
              "      border-top-color: var(--fill-color);\n",
              "    }\n",
              "    60% {\n",
              "      border-color: transparent;\n",
              "      border-right-color: var(--fill-color);\n",
              "    }\n",
              "    80% {\n",
              "      border-color: transparent;\n",
              "      border-right-color: var(--fill-color);\n",
              "      border-bottom-color: var(--fill-color);\n",
              "    }\n",
              "    90% {\n",
              "      border-color: transparent;\n",
              "      border-bottom-color: var(--fill-color);\n",
              "    }\n",
              "  }\n",
              "</style>\n",
              "\n",
              "  <script>\n",
              "    async function quickchart(key) {\n",
              "      const quickchartButtonEl =\n",
              "        document.querySelector('#' + key + ' button');\n",
              "      quickchartButtonEl.disabled = true;  // To prevent multiple clicks.\n",
              "      quickchartButtonEl.classList.add('colab-df-spinner');\n",
              "      try {\n",
              "        const charts = await google.colab.kernel.invokeFunction(\n",
              "            'suggestCharts', [key], {});\n",
              "      } catch (error) {\n",
              "        console.error('Error during call to suggestCharts:', error);\n",
              "      }\n",
              "      quickchartButtonEl.classList.remove('colab-df-spinner');\n",
              "      quickchartButtonEl.classList.add('colab-df-quickchart-complete');\n",
              "    }\n",
              "    (() => {\n",
              "      let quickchartButtonEl =\n",
              "        document.querySelector('#df-e44f9416-a25b-4292-b0d8-17f11181a7b0 button');\n",
              "      quickchartButtonEl.style.display =\n",
              "        google.colab.kernel.accessAllowed ? 'block' : 'none';\n",
              "    })();\n",
              "  </script>\n",
              "</div>\n",
              "    </div>\n",
              "  </div>\n"
            ],
            "application/vnd.google.colaboratory.intrinsic+json": {
              "type": "dataframe",
              "variable_name": "df"
            }
          },
          "metadata": {},
          "execution_count": 3
        }
      ]
    },
    {
      "cell_type": "markdown",
      "source": [
        "Hubo un error con nuestro dataframe, y presenta cientos de registros con valores nulos y una columna con valores nulos, por lo que tenemos que eliminar estos registros y la columna."
      ],
      "metadata": {
        "id": "89BKEG6cr1yn"
      }
    },
    {
      "cell_type": "markdown",
      "source": [
        "### Remover NaNs"
      ],
      "metadata": {
        "id": "D1awui64n7ZZ"
      }
    },
    {
      "cell_type": "code",
      "source": [
        "df = df.dropna(how = \"all\")\n",
        "df = df.drop(df.columns[44], axis = 1)\n",
        "display(df.shape)\n",
        "df"
      ],
      "metadata": {
        "colab": {
          "base_uri": "https://localhost:8080/",
          "height": 530
        },
        "id": "W334-qZYn6y6",
        "outputId": "3f2c3605-be52-431f-8aae-4f574cd9afdf"
      },
      "execution_count": 4,
      "outputs": [
        {
          "output_type": "display_data",
          "data": {
            "text/plain": [
              "(541, 44)"
            ]
          },
          "metadata": {}
        },
        {
          "output_type": "execute_result",
          "data": {
            "text/plain": [
              "     Sl. No  Patient File No.  PCOS (Y/N)   Age (yrs)  Weight (Kg)  \\\n",
              "0       1.0               1.0         0.0        28.0         44.6   \n",
              "1       2.0               2.0         0.0        36.0         65.0   \n",
              "2       3.0               3.0         1.0        33.0         68.8   \n",
              "3       4.0               4.0         0.0        37.0         65.0   \n",
              "4       5.0               5.0         0.0        25.0         52.0   \n",
              "..      ...               ...         ...         ...          ...   \n",
              "536   537.0             537.0         0.0        35.0         50.0   \n",
              "537   538.0             538.0         0.0        30.0         63.2   \n",
              "538   539.0             539.0         0.0        36.0         54.0   \n",
              "539   540.0             540.0         0.0        27.0         50.0   \n",
              "540   541.0             541.0         1.0        23.0         82.0   \n",
              "\n",
              "     Height(Cm)         BMI  Blood Group  Pulse rate(bpm)   RR (breaths/min)  \\\n",
              "0        152.000  19.300000         15.0              78.0              22.0   \n",
              "1        161.500  24.921163         15.0              74.0              20.0   \n",
              "2        165.000  25.270891         11.0              72.0              18.0   \n",
              "3        148.000  29.674945         13.0              72.0              20.0   \n",
              "4        161.000  20.060954         11.0              72.0              18.0   \n",
              "..           ...        ...          ...               ...               ...   \n",
              "536      164.592  18.500000         17.0              72.0              16.0   \n",
              "537      158.000  25.300000         15.0              72.0              18.0   \n",
              "538      152.000  23.400000         13.0              74.0              20.0   \n",
              "539      150.000  22.200000         15.0              74.0              20.0   \n",
              "540      165.000  30.100000         13.0              80.0              20.0   \n",
              "\n",
              "     ...  Pimples(Y/N)  Fast food (Y/N)  Reg.Exercise(Y/N)  \\\n",
              "0    ...           0.0              1.0                0.0   \n",
              "1    ...           0.0              0.0                0.0   \n",
              "2    ...           1.0              1.0                0.0   \n",
              "3    ...           0.0              0.0                0.0   \n",
              "4    ...           0.0              0.0                0.0   \n",
              "..   ...           ...              ...                ...   \n",
              "536  ...           0.0              0.0                0.0   \n",
              "537  ...           0.0              0.0                0.0   \n",
              "538  ...           0.0              0.0                0.0   \n",
              "539  ...           1.0              0.0                0.0   \n",
              "540  ...           1.0              1.0                0.0   \n",
              "\n",
              "     BP _Systolic (mmHg)  BP _Diastolic (mmHg)  Follicle No. (L)  \\\n",
              "0                  110.0                  80.0               3.0   \n",
              "1                  120.0                  70.0               3.0   \n",
              "2                  120.0                  80.0              13.0   \n",
              "3                  120.0                  70.0               2.0   \n",
              "4                  120.0                  80.0               3.0   \n",
              "..                   ...                   ...               ...   \n",
              "536                110.0                  70.0               1.0   \n",
              "537                110.0                  70.0               9.0   \n",
              "538                110.0                  80.0               1.0   \n",
              "539                110.0                  70.0               7.0   \n",
              "540                120.0                  70.0               9.0   \n",
              "\n",
              "     Follicle No. (R) Avg. F size (L) (mm)  Avg. F size (R) (mm)  \\\n",
              "0                 3.0                 18.0                  18.0   \n",
              "1                 5.0                 15.0                  14.0   \n",
              "2                15.0                 18.0                  20.0   \n",
              "3                 2.0                 15.0                  14.0   \n",
              "4                 4.0                 16.0                  14.0   \n",
              "..                ...                  ...                   ...   \n",
              "536               0.0                 17.5                  10.0   \n",
              "537               7.0                 19.0                  18.0   \n",
              "538               0.0                 18.0                   9.0   \n",
              "539               6.0                 18.0                  16.0   \n",
              "540              10.0                 19.0                  18.0   \n",
              "\n",
              "     Endometrium (mm)  \n",
              "0                 8.5  \n",
              "1                 3.7  \n",
              "2                10.0  \n",
              "3                 7.5  \n",
              "4                 7.0  \n",
              "..                ...  \n",
              "536               6.7  \n",
              "537               8.2  \n",
              "538               7.3  \n",
              "539              11.5  \n",
              "540               6.9  \n",
              "\n",
              "[541 rows x 44 columns]"
            ],
            "text/html": [
              "\n",
              "  <div id=\"df-2cbf13af-0196-4027-b5b8-170ec102c9b3\" class=\"colab-df-container\">\n",
              "    <div>\n",
              "<style scoped>\n",
              "    .dataframe tbody tr th:only-of-type {\n",
              "        vertical-align: middle;\n",
              "    }\n",
              "\n",
              "    .dataframe tbody tr th {\n",
              "        vertical-align: top;\n",
              "    }\n",
              "\n",
              "    .dataframe thead th {\n",
              "        text-align: right;\n",
              "    }\n",
              "</style>\n",
              "<table border=\"1\" class=\"dataframe\">\n",
              "  <thead>\n",
              "    <tr style=\"text-align: right;\">\n",
              "      <th></th>\n",
              "      <th>Sl. No</th>\n",
              "      <th>Patient File No.</th>\n",
              "      <th>PCOS (Y/N)</th>\n",
              "      <th>Age (yrs)</th>\n",
              "      <th>Weight (Kg)</th>\n",
              "      <th>Height(Cm)</th>\n",
              "      <th>BMI</th>\n",
              "      <th>Blood Group</th>\n",
              "      <th>Pulse rate(bpm)</th>\n",
              "      <th>RR (breaths/min)</th>\n",
              "      <th>...</th>\n",
              "      <th>Pimples(Y/N)</th>\n",
              "      <th>Fast food (Y/N)</th>\n",
              "      <th>Reg.Exercise(Y/N)</th>\n",
              "      <th>BP _Systolic (mmHg)</th>\n",
              "      <th>BP _Diastolic (mmHg)</th>\n",
              "      <th>Follicle No. (L)</th>\n",
              "      <th>Follicle No. (R)</th>\n",
              "      <th>Avg. F size (L) (mm)</th>\n",
              "      <th>Avg. F size (R) (mm)</th>\n",
              "      <th>Endometrium (mm)</th>\n",
              "    </tr>\n",
              "  </thead>\n",
              "  <tbody>\n",
              "    <tr>\n",
              "      <th>0</th>\n",
              "      <td>1.0</td>\n",
              "      <td>1.0</td>\n",
              "      <td>0.0</td>\n",
              "      <td>28.0</td>\n",
              "      <td>44.6</td>\n",
              "      <td>152.000</td>\n",
              "      <td>19.300000</td>\n",
              "      <td>15.0</td>\n",
              "      <td>78.0</td>\n",
              "      <td>22.0</td>\n",
              "      <td>...</td>\n",
              "      <td>0.0</td>\n",
              "      <td>1.0</td>\n",
              "      <td>0.0</td>\n",
              "      <td>110.0</td>\n",
              "      <td>80.0</td>\n",
              "      <td>3.0</td>\n",
              "      <td>3.0</td>\n",
              "      <td>18.0</td>\n",
              "      <td>18.0</td>\n",
              "      <td>8.5</td>\n",
              "    </tr>\n",
              "    <tr>\n",
              "      <th>1</th>\n",
              "      <td>2.0</td>\n",
              "      <td>2.0</td>\n",
              "      <td>0.0</td>\n",
              "      <td>36.0</td>\n",
              "      <td>65.0</td>\n",
              "      <td>161.500</td>\n",
              "      <td>24.921163</td>\n",
              "      <td>15.0</td>\n",
              "      <td>74.0</td>\n",
              "      <td>20.0</td>\n",
              "      <td>...</td>\n",
              "      <td>0.0</td>\n",
              "      <td>0.0</td>\n",
              "      <td>0.0</td>\n",
              "      <td>120.0</td>\n",
              "      <td>70.0</td>\n",
              "      <td>3.0</td>\n",
              "      <td>5.0</td>\n",
              "      <td>15.0</td>\n",
              "      <td>14.0</td>\n",
              "      <td>3.7</td>\n",
              "    </tr>\n",
              "    <tr>\n",
              "      <th>2</th>\n",
              "      <td>3.0</td>\n",
              "      <td>3.0</td>\n",
              "      <td>1.0</td>\n",
              "      <td>33.0</td>\n",
              "      <td>68.8</td>\n",
              "      <td>165.000</td>\n",
              "      <td>25.270891</td>\n",
              "      <td>11.0</td>\n",
              "      <td>72.0</td>\n",
              "      <td>18.0</td>\n",
              "      <td>...</td>\n",
              "      <td>1.0</td>\n",
              "      <td>1.0</td>\n",
              "      <td>0.0</td>\n",
              "      <td>120.0</td>\n",
              "      <td>80.0</td>\n",
              "      <td>13.0</td>\n",
              "      <td>15.0</td>\n",
              "      <td>18.0</td>\n",
              "      <td>20.0</td>\n",
              "      <td>10.0</td>\n",
              "    </tr>\n",
              "    <tr>\n",
              "      <th>3</th>\n",
              "      <td>4.0</td>\n",
              "      <td>4.0</td>\n",
              "      <td>0.0</td>\n",
              "      <td>37.0</td>\n",
              "      <td>65.0</td>\n",
              "      <td>148.000</td>\n",
              "      <td>29.674945</td>\n",
              "      <td>13.0</td>\n",
              "      <td>72.0</td>\n",
              "      <td>20.0</td>\n",
              "      <td>...</td>\n",
              "      <td>0.0</td>\n",
              "      <td>0.0</td>\n",
              "      <td>0.0</td>\n",
              "      <td>120.0</td>\n",
              "      <td>70.0</td>\n",
              "      <td>2.0</td>\n",
              "      <td>2.0</td>\n",
              "      <td>15.0</td>\n",
              "      <td>14.0</td>\n",
              "      <td>7.5</td>\n",
              "    </tr>\n",
              "    <tr>\n",
              "      <th>4</th>\n",
              "      <td>5.0</td>\n",
              "      <td>5.0</td>\n",
              "      <td>0.0</td>\n",
              "      <td>25.0</td>\n",
              "      <td>52.0</td>\n",
              "      <td>161.000</td>\n",
              "      <td>20.060954</td>\n",
              "      <td>11.0</td>\n",
              "      <td>72.0</td>\n",
              "      <td>18.0</td>\n",
              "      <td>...</td>\n",
              "      <td>0.0</td>\n",
              "      <td>0.0</td>\n",
              "      <td>0.0</td>\n",
              "      <td>120.0</td>\n",
              "      <td>80.0</td>\n",
              "      <td>3.0</td>\n",
              "      <td>4.0</td>\n",
              "      <td>16.0</td>\n",
              "      <td>14.0</td>\n",
              "      <td>7.0</td>\n",
              "    </tr>\n",
              "    <tr>\n",
              "      <th>...</th>\n",
              "      <td>...</td>\n",
              "      <td>...</td>\n",
              "      <td>...</td>\n",
              "      <td>...</td>\n",
              "      <td>...</td>\n",
              "      <td>...</td>\n",
              "      <td>...</td>\n",
              "      <td>...</td>\n",
              "      <td>...</td>\n",
              "      <td>...</td>\n",
              "      <td>...</td>\n",
              "      <td>...</td>\n",
              "      <td>...</td>\n",
              "      <td>...</td>\n",
              "      <td>...</td>\n",
              "      <td>...</td>\n",
              "      <td>...</td>\n",
              "      <td>...</td>\n",
              "      <td>...</td>\n",
              "      <td>...</td>\n",
              "      <td>...</td>\n",
              "    </tr>\n",
              "    <tr>\n",
              "      <th>536</th>\n",
              "      <td>537.0</td>\n",
              "      <td>537.0</td>\n",
              "      <td>0.0</td>\n",
              "      <td>35.0</td>\n",
              "      <td>50.0</td>\n",
              "      <td>164.592</td>\n",
              "      <td>18.500000</td>\n",
              "      <td>17.0</td>\n",
              "      <td>72.0</td>\n",
              "      <td>16.0</td>\n",
              "      <td>...</td>\n",
              "      <td>0.0</td>\n",
              "      <td>0.0</td>\n",
              "      <td>0.0</td>\n",
              "      <td>110.0</td>\n",
              "      <td>70.0</td>\n",
              "      <td>1.0</td>\n",
              "      <td>0.0</td>\n",
              "      <td>17.5</td>\n",
              "      <td>10.0</td>\n",
              "      <td>6.7</td>\n",
              "    </tr>\n",
              "    <tr>\n",
              "      <th>537</th>\n",
              "      <td>538.0</td>\n",
              "      <td>538.0</td>\n",
              "      <td>0.0</td>\n",
              "      <td>30.0</td>\n",
              "      <td>63.2</td>\n",
              "      <td>158.000</td>\n",
              "      <td>25.300000</td>\n",
              "      <td>15.0</td>\n",
              "      <td>72.0</td>\n",
              "      <td>18.0</td>\n",
              "      <td>...</td>\n",
              "      <td>0.0</td>\n",
              "      <td>0.0</td>\n",
              "      <td>0.0</td>\n",
              "      <td>110.0</td>\n",
              "      <td>70.0</td>\n",
              "      <td>9.0</td>\n",
              "      <td>7.0</td>\n",
              "      <td>19.0</td>\n",
              "      <td>18.0</td>\n",
              "      <td>8.2</td>\n",
              "    </tr>\n",
              "    <tr>\n",
              "      <th>538</th>\n",
              "      <td>539.0</td>\n",
              "      <td>539.0</td>\n",
              "      <td>0.0</td>\n",
              "      <td>36.0</td>\n",
              "      <td>54.0</td>\n",
              "      <td>152.000</td>\n",
              "      <td>23.400000</td>\n",
              "      <td>13.0</td>\n",
              "      <td>74.0</td>\n",
              "      <td>20.0</td>\n",
              "      <td>...</td>\n",
              "      <td>0.0</td>\n",
              "      <td>0.0</td>\n",
              "      <td>0.0</td>\n",
              "      <td>110.0</td>\n",
              "      <td>80.0</td>\n",
              "      <td>1.0</td>\n",
              "      <td>0.0</td>\n",
              "      <td>18.0</td>\n",
              "      <td>9.0</td>\n",
              "      <td>7.3</td>\n",
              "    </tr>\n",
              "    <tr>\n",
              "      <th>539</th>\n",
              "      <td>540.0</td>\n",
              "      <td>540.0</td>\n",
              "      <td>0.0</td>\n",
              "      <td>27.0</td>\n",
              "      <td>50.0</td>\n",
              "      <td>150.000</td>\n",
              "      <td>22.200000</td>\n",
              "      <td>15.0</td>\n",
              "      <td>74.0</td>\n",
              "      <td>20.0</td>\n",
              "      <td>...</td>\n",
              "      <td>1.0</td>\n",
              "      <td>0.0</td>\n",
              "      <td>0.0</td>\n",
              "      <td>110.0</td>\n",
              "      <td>70.0</td>\n",
              "      <td>7.0</td>\n",
              "      <td>6.0</td>\n",
              "      <td>18.0</td>\n",
              "      <td>16.0</td>\n",
              "      <td>11.5</td>\n",
              "    </tr>\n",
              "    <tr>\n",
              "      <th>540</th>\n",
              "      <td>541.0</td>\n",
              "      <td>541.0</td>\n",
              "      <td>1.0</td>\n",
              "      <td>23.0</td>\n",
              "      <td>82.0</td>\n",
              "      <td>165.000</td>\n",
              "      <td>30.100000</td>\n",
              "      <td>13.0</td>\n",
              "      <td>80.0</td>\n",
              "      <td>20.0</td>\n",
              "      <td>...</td>\n",
              "      <td>1.0</td>\n",
              "      <td>1.0</td>\n",
              "      <td>0.0</td>\n",
              "      <td>120.0</td>\n",
              "      <td>70.0</td>\n",
              "      <td>9.0</td>\n",
              "      <td>10.0</td>\n",
              "      <td>19.0</td>\n",
              "      <td>18.0</td>\n",
              "      <td>6.9</td>\n",
              "    </tr>\n",
              "  </tbody>\n",
              "</table>\n",
              "<p>541 rows × 44 columns</p>\n",
              "</div>\n",
              "    <div class=\"colab-df-buttons\">\n",
              "\n",
              "  <div class=\"colab-df-container\">\n",
              "    <button class=\"colab-df-convert\" onclick=\"convertToInteractive('df-2cbf13af-0196-4027-b5b8-170ec102c9b3')\"\n",
              "            title=\"Convert this dataframe to an interactive table.\"\n",
              "            style=\"display:none;\">\n",
              "\n",
              "  <svg xmlns=\"http://www.w3.org/2000/svg\" height=\"24px\" viewBox=\"0 -960 960 960\">\n",
              "    <path d=\"M120-120v-720h720v720H120Zm60-500h600v-160H180v160Zm220 220h160v-160H400v160Zm0 220h160v-160H400v160ZM180-400h160v-160H180v160Zm440 0h160v-160H620v160ZM180-180h160v-160H180v160Zm440 0h160v-160H620v160Z\"/>\n",
              "  </svg>\n",
              "    </button>\n",
              "\n",
              "  <style>\n",
              "    .colab-df-container {\n",
              "      display:flex;\n",
              "      gap: 12px;\n",
              "    }\n",
              "\n",
              "    .colab-df-convert {\n",
              "      background-color: #E8F0FE;\n",
              "      border: none;\n",
              "      border-radius: 50%;\n",
              "      cursor: pointer;\n",
              "      display: none;\n",
              "      fill: #1967D2;\n",
              "      height: 32px;\n",
              "      padding: 0 0 0 0;\n",
              "      width: 32px;\n",
              "    }\n",
              "\n",
              "    .colab-df-convert:hover {\n",
              "      background-color: #E2EBFA;\n",
              "      box-shadow: 0px 1px 2px rgba(60, 64, 67, 0.3), 0px 1px 3px 1px rgba(60, 64, 67, 0.15);\n",
              "      fill: #174EA6;\n",
              "    }\n",
              "\n",
              "    .colab-df-buttons div {\n",
              "      margin-bottom: 4px;\n",
              "    }\n",
              "\n",
              "    [theme=dark] .colab-df-convert {\n",
              "      background-color: #3B4455;\n",
              "      fill: #D2E3FC;\n",
              "    }\n",
              "\n",
              "    [theme=dark] .colab-df-convert:hover {\n",
              "      background-color: #434B5C;\n",
              "      box-shadow: 0px 1px 3px 1px rgba(0, 0, 0, 0.15);\n",
              "      filter: drop-shadow(0px 1px 2px rgba(0, 0, 0, 0.3));\n",
              "      fill: #FFFFFF;\n",
              "    }\n",
              "  </style>\n",
              "\n",
              "    <script>\n",
              "      const buttonEl =\n",
              "        document.querySelector('#df-2cbf13af-0196-4027-b5b8-170ec102c9b3 button.colab-df-convert');\n",
              "      buttonEl.style.display =\n",
              "        google.colab.kernel.accessAllowed ? 'block' : 'none';\n",
              "\n",
              "      async function convertToInteractive(key) {\n",
              "        const element = document.querySelector('#df-2cbf13af-0196-4027-b5b8-170ec102c9b3');\n",
              "        const dataTable =\n",
              "          await google.colab.kernel.invokeFunction('convertToInteractive',\n",
              "                                                    [key], {});\n",
              "        if (!dataTable) return;\n",
              "\n",
              "        const docLinkHtml = 'Like what you see? Visit the ' +\n",
              "          '<a target=\"_blank\" href=https://colab.research.google.com/notebooks/data_table.ipynb>data table notebook</a>'\n",
              "          + ' to learn more about interactive tables.';\n",
              "        element.innerHTML = '';\n",
              "        dataTable['output_type'] = 'display_data';\n",
              "        await google.colab.output.renderOutput(dataTable, element);\n",
              "        const docLink = document.createElement('div');\n",
              "        docLink.innerHTML = docLinkHtml;\n",
              "        element.appendChild(docLink);\n",
              "      }\n",
              "    </script>\n",
              "  </div>\n",
              "\n",
              "\n",
              "<div id=\"df-131a779c-4b2a-4c7b-b6f5-d5ee1f9b5a0e\">\n",
              "  <button class=\"colab-df-quickchart\" onclick=\"quickchart('df-131a779c-4b2a-4c7b-b6f5-d5ee1f9b5a0e')\"\n",
              "            title=\"Suggest charts\"\n",
              "            style=\"display:none;\">\n",
              "\n",
              "<svg xmlns=\"http://www.w3.org/2000/svg\" height=\"24px\"viewBox=\"0 0 24 24\"\n",
              "     width=\"24px\">\n",
              "    <g>\n",
              "        <path d=\"M19 3H5c-1.1 0-2 .9-2 2v14c0 1.1.9 2 2 2h14c1.1 0 2-.9 2-2V5c0-1.1-.9-2-2-2zM9 17H7v-7h2v7zm4 0h-2V7h2v10zm4 0h-2v-4h2v4z\"/>\n",
              "    </g>\n",
              "</svg>\n",
              "  </button>\n",
              "\n",
              "<style>\n",
              "  .colab-df-quickchart {\n",
              "      --bg-color: #E8F0FE;\n",
              "      --fill-color: #1967D2;\n",
              "      --hover-bg-color: #E2EBFA;\n",
              "      --hover-fill-color: #174EA6;\n",
              "      --disabled-fill-color: #AAA;\n",
              "      --disabled-bg-color: #DDD;\n",
              "  }\n",
              "\n",
              "  [theme=dark] .colab-df-quickchart {\n",
              "      --bg-color: #3B4455;\n",
              "      --fill-color: #D2E3FC;\n",
              "      --hover-bg-color: #434B5C;\n",
              "      --hover-fill-color: #FFFFFF;\n",
              "      --disabled-bg-color: #3B4455;\n",
              "      --disabled-fill-color: #666;\n",
              "  }\n",
              "\n",
              "  .colab-df-quickchart {\n",
              "    background-color: var(--bg-color);\n",
              "    border: none;\n",
              "    border-radius: 50%;\n",
              "    cursor: pointer;\n",
              "    display: none;\n",
              "    fill: var(--fill-color);\n",
              "    height: 32px;\n",
              "    padding: 0;\n",
              "    width: 32px;\n",
              "  }\n",
              "\n",
              "  .colab-df-quickchart:hover {\n",
              "    background-color: var(--hover-bg-color);\n",
              "    box-shadow: 0 1px 2px rgba(60, 64, 67, 0.3), 0 1px 3px 1px rgba(60, 64, 67, 0.15);\n",
              "    fill: var(--button-hover-fill-color);\n",
              "  }\n",
              "\n",
              "  .colab-df-quickchart-complete:disabled,\n",
              "  .colab-df-quickchart-complete:disabled:hover {\n",
              "    background-color: var(--disabled-bg-color);\n",
              "    fill: var(--disabled-fill-color);\n",
              "    box-shadow: none;\n",
              "  }\n",
              "\n",
              "  .colab-df-spinner {\n",
              "    border: 2px solid var(--fill-color);\n",
              "    border-color: transparent;\n",
              "    border-bottom-color: var(--fill-color);\n",
              "    animation:\n",
              "      spin 1s steps(1) infinite;\n",
              "  }\n",
              "\n",
              "  @keyframes spin {\n",
              "    0% {\n",
              "      border-color: transparent;\n",
              "      border-bottom-color: var(--fill-color);\n",
              "      border-left-color: var(--fill-color);\n",
              "    }\n",
              "    20% {\n",
              "      border-color: transparent;\n",
              "      border-left-color: var(--fill-color);\n",
              "      border-top-color: var(--fill-color);\n",
              "    }\n",
              "    30% {\n",
              "      border-color: transparent;\n",
              "      border-left-color: var(--fill-color);\n",
              "      border-top-color: var(--fill-color);\n",
              "      border-right-color: var(--fill-color);\n",
              "    }\n",
              "    40% {\n",
              "      border-color: transparent;\n",
              "      border-right-color: var(--fill-color);\n",
              "      border-top-color: var(--fill-color);\n",
              "    }\n",
              "    60% {\n",
              "      border-color: transparent;\n",
              "      border-right-color: var(--fill-color);\n",
              "    }\n",
              "    80% {\n",
              "      border-color: transparent;\n",
              "      border-right-color: var(--fill-color);\n",
              "      border-bottom-color: var(--fill-color);\n",
              "    }\n",
              "    90% {\n",
              "      border-color: transparent;\n",
              "      border-bottom-color: var(--fill-color);\n",
              "    }\n",
              "  }\n",
              "</style>\n",
              "\n",
              "  <script>\n",
              "    async function quickchart(key) {\n",
              "      const quickchartButtonEl =\n",
              "        document.querySelector('#' + key + ' button');\n",
              "      quickchartButtonEl.disabled = true;  // To prevent multiple clicks.\n",
              "      quickchartButtonEl.classList.add('colab-df-spinner');\n",
              "      try {\n",
              "        const charts = await google.colab.kernel.invokeFunction(\n",
              "            'suggestCharts', [key], {});\n",
              "      } catch (error) {\n",
              "        console.error('Error during call to suggestCharts:', error);\n",
              "      }\n",
              "      quickchartButtonEl.classList.remove('colab-df-spinner');\n",
              "      quickchartButtonEl.classList.add('colab-df-quickchart-complete');\n",
              "    }\n",
              "    (() => {\n",
              "      let quickchartButtonEl =\n",
              "        document.querySelector('#df-131a779c-4b2a-4c7b-b6f5-d5ee1f9b5a0e button');\n",
              "      quickchartButtonEl.style.display =\n",
              "        google.colab.kernel.accessAllowed ? 'block' : 'none';\n",
              "    })();\n",
              "  </script>\n",
              "</div>\n",
              "    </div>\n",
              "  </div>\n"
            ],
            "application/vnd.google.colaboratory.intrinsic+json": {
              "type": "dataframe",
              "variable_name": "df"
            }
          },
          "metadata": {},
          "execution_count": 4
        }
      ]
    },
    {
      "cell_type": "markdown",
      "source": [
        "Las primeras dos columnas son de identificación de los pacientes y son IDs, por lo tanto, no agregan valor a determinar si un paciente padece la enfermedad o no, por lo tanto, se eliminan. Al igual que una variable denominada Waist:Hip Ratio, ya que simplemente es la división de dos variables."
      ],
      "metadata": {
        "id": "xu0DeiZc0bER"
      }
    },
    {
      "cell_type": "code",
      "source": [
        "df = df.drop(columns=[\"Sl. No\", \"Patient File No.\", \"Waist:Hip Ratio\"])\n",
        "df"
      ],
      "metadata": {
        "colab": {
          "base_uri": "https://localhost:8080/",
          "height": 513
        },
        "id": "djVkGVta0x2Z",
        "outputId": "1c816783-9f44-42a6-a45f-0e36da9bfaa3"
      },
      "execution_count": 5,
      "outputs": [
        {
          "output_type": "execute_result",
          "data": {
            "text/plain": [
              "     PCOS (Y/N)   Age (yrs)  Weight (Kg)  Height(Cm)         BMI  Blood Group  \\\n",
              "0           0.0        28.0         44.6      152.000  19.300000         15.0   \n",
              "1           0.0        36.0         65.0      161.500  24.921163         15.0   \n",
              "2           1.0        33.0         68.8      165.000  25.270891         11.0   \n",
              "3           0.0        37.0         65.0      148.000  29.674945         13.0   \n",
              "4           0.0        25.0         52.0      161.000  20.060954         11.0   \n",
              "..          ...         ...          ...          ...        ...          ...   \n",
              "536         0.0        35.0         50.0      164.592  18.500000         17.0   \n",
              "537         0.0        30.0         63.2      158.000  25.300000         15.0   \n",
              "538         0.0        36.0         54.0      152.000  23.400000         13.0   \n",
              "539         0.0        27.0         50.0      150.000  22.200000         15.0   \n",
              "540         1.0        23.0         82.0      165.000  30.100000         13.0   \n",
              "\n",
              "     Pulse rate(bpm)   RR (breaths/min)  Hb(g/dl)  Cycle(R/I)  ...  \\\n",
              "0                78.0              22.0     10.48         2.0  ...   \n",
              "1                74.0              20.0     11.70         2.0  ...   \n",
              "2                72.0              18.0     11.80         2.0  ...   \n",
              "3                72.0              20.0     12.00         2.0  ...   \n",
              "4                72.0              18.0     10.00         2.0  ...   \n",
              "..                ...               ...       ...         ...  ...   \n",
              "536              72.0              16.0     11.00         2.0  ...   \n",
              "537              72.0              18.0     10.80         2.0  ...   \n",
              "538              74.0              20.0     10.80         2.0  ...   \n",
              "539              74.0              20.0     12.00         4.0  ...   \n",
              "540              80.0              20.0     10.20         4.0  ...   \n",
              "\n",
              "     Pimples(Y/N)  Fast food (Y/N)  Reg.Exercise(Y/N)  BP _Systolic (mmHg)  \\\n",
              "0             0.0              1.0                0.0                110.0   \n",
              "1             0.0              0.0                0.0                120.0   \n",
              "2             1.0              1.0                0.0                120.0   \n",
              "3             0.0              0.0                0.0                120.0   \n",
              "4             0.0              0.0                0.0                120.0   \n",
              "..            ...              ...                ...                  ...   \n",
              "536           0.0              0.0                0.0                110.0   \n",
              "537           0.0              0.0                0.0                110.0   \n",
              "538           0.0              0.0                0.0                110.0   \n",
              "539           1.0              0.0                0.0                110.0   \n",
              "540           1.0              1.0                0.0                120.0   \n",
              "\n",
              "     BP _Diastolic (mmHg) Follicle No. (L)  Follicle No. (R)  \\\n",
              "0                    80.0              3.0               3.0   \n",
              "1                    70.0              3.0               5.0   \n",
              "2                    80.0             13.0              15.0   \n",
              "3                    70.0              2.0               2.0   \n",
              "4                    80.0              3.0               4.0   \n",
              "..                    ...              ...               ...   \n",
              "536                  70.0              1.0               0.0   \n",
              "537                  70.0              9.0               7.0   \n",
              "538                  80.0              1.0               0.0   \n",
              "539                  70.0              7.0               6.0   \n",
              "540                  70.0              9.0              10.0   \n",
              "\n",
              "     Avg. F size (L) (mm)  Avg. F size (R) (mm)  Endometrium (mm)  \n",
              "0                    18.0                  18.0               8.5  \n",
              "1                    15.0                  14.0               3.7  \n",
              "2                    18.0                  20.0              10.0  \n",
              "3                    15.0                  14.0               7.5  \n",
              "4                    16.0                  14.0               7.0  \n",
              "..                    ...                   ...               ...  \n",
              "536                  17.5                  10.0               6.7  \n",
              "537                  19.0                  18.0               8.2  \n",
              "538                  18.0                   9.0               7.3  \n",
              "539                  18.0                  16.0              11.5  \n",
              "540                  19.0                  18.0               6.9  \n",
              "\n",
              "[541 rows x 41 columns]"
            ],
            "text/html": [
              "\n",
              "  <div id=\"df-7b1ade96-04c1-405a-9124-13119e6160eb\" class=\"colab-df-container\">\n",
              "    <div>\n",
              "<style scoped>\n",
              "    .dataframe tbody tr th:only-of-type {\n",
              "        vertical-align: middle;\n",
              "    }\n",
              "\n",
              "    .dataframe tbody tr th {\n",
              "        vertical-align: top;\n",
              "    }\n",
              "\n",
              "    .dataframe thead th {\n",
              "        text-align: right;\n",
              "    }\n",
              "</style>\n",
              "<table border=\"1\" class=\"dataframe\">\n",
              "  <thead>\n",
              "    <tr style=\"text-align: right;\">\n",
              "      <th></th>\n",
              "      <th>PCOS (Y/N)</th>\n",
              "      <th>Age (yrs)</th>\n",
              "      <th>Weight (Kg)</th>\n",
              "      <th>Height(Cm)</th>\n",
              "      <th>BMI</th>\n",
              "      <th>Blood Group</th>\n",
              "      <th>Pulse rate(bpm)</th>\n",
              "      <th>RR (breaths/min)</th>\n",
              "      <th>Hb(g/dl)</th>\n",
              "      <th>Cycle(R/I)</th>\n",
              "      <th>...</th>\n",
              "      <th>Pimples(Y/N)</th>\n",
              "      <th>Fast food (Y/N)</th>\n",
              "      <th>Reg.Exercise(Y/N)</th>\n",
              "      <th>BP _Systolic (mmHg)</th>\n",
              "      <th>BP _Diastolic (mmHg)</th>\n",
              "      <th>Follicle No. (L)</th>\n",
              "      <th>Follicle No. (R)</th>\n",
              "      <th>Avg. F size (L) (mm)</th>\n",
              "      <th>Avg. F size (R) (mm)</th>\n",
              "      <th>Endometrium (mm)</th>\n",
              "    </tr>\n",
              "  </thead>\n",
              "  <tbody>\n",
              "    <tr>\n",
              "      <th>0</th>\n",
              "      <td>0.0</td>\n",
              "      <td>28.0</td>\n",
              "      <td>44.6</td>\n",
              "      <td>152.000</td>\n",
              "      <td>19.300000</td>\n",
              "      <td>15.0</td>\n",
              "      <td>78.0</td>\n",
              "      <td>22.0</td>\n",
              "      <td>10.48</td>\n",
              "      <td>2.0</td>\n",
              "      <td>...</td>\n",
              "      <td>0.0</td>\n",
              "      <td>1.0</td>\n",
              "      <td>0.0</td>\n",
              "      <td>110.0</td>\n",
              "      <td>80.0</td>\n",
              "      <td>3.0</td>\n",
              "      <td>3.0</td>\n",
              "      <td>18.0</td>\n",
              "      <td>18.0</td>\n",
              "      <td>8.5</td>\n",
              "    </tr>\n",
              "    <tr>\n",
              "      <th>1</th>\n",
              "      <td>0.0</td>\n",
              "      <td>36.0</td>\n",
              "      <td>65.0</td>\n",
              "      <td>161.500</td>\n",
              "      <td>24.921163</td>\n",
              "      <td>15.0</td>\n",
              "      <td>74.0</td>\n",
              "      <td>20.0</td>\n",
              "      <td>11.70</td>\n",
              "      <td>2.0</td>\n",
              "      <td>...</td>\n",
              "      <td>0.0</td>\n",
              "      <td>0.0</td>\n",
              "      <td>0.0</td>\n",
              "      <td>120.0</td>\n",
              "      <td>70.0</td>\n",
              "      <td>3.0</td>\n",
              "      <td>5.0</td>\n",
              "      <td>15.0</td>\n",
              "      <td>14.0</td>\n",
              "      <td>3.7</td>\n",
              "    </tr>\n",
              "    <tr>\n",
              "      <th>2</th>\n",
              "      <td>1.0</td>\n",
              "      <td>33.0</td>\n",
              "      <td>68.8</td>\n",
              "      <td>165.000</td>\n",
              "      <td>25.270891</td>\n",
              "      <td>11.0</td>\n",
              "      <td>72.0</td>\n",
              "      <td>18.0</td>\n",
              "      <td>11.80</td>\n",
              "      <td>2.0</td>\n",
              "      <td>...</td>\n",
              "      <td>1.0</td>\n",
              "      <td>1.0</td>\n",
              "      <td>0.0</td>\n",
              "      <td>120.0</td>\n",
              "      <td>80.0</td>\n",
              "      <td>13.0</td>\n",
              "      <td>15.0</td>\n",
              "      <td>18.0</td>\n",
              "      <td>20.0</td>\n",
              "      <td>10.0</td>\n",
              "    </tr>\n",
              "    <tr>\n",
              "      <th>3</th>\n",
              "      <td>0.0</td>\n",
              "      <td>37.0</td>\n",
              "      <td>65.0</td>\n",
              "      <td>148.000</td>\n",
              "      <td>29.674945</td>\n",
              "      <td>13.0</td>\n",
              "      <td>72.0</td>\n",
              "      <td>20.0</td>\n",
              "      <td>12.00</td>\n",
              "      <td>2.0</td>\n",
              "      <td>...</td>\n",
              "      <td>0.0</td>\n",
              "      <td>0.0</td>\n",
              "      <td>0.0</td>\n",
              "      <td>120.0</td>\n",
              "      <td>70.0</td>\n",
              "      <td>2.0</td>\n",
              "      <td>2.0</td>\n",
              "      <td>15.0</td>\n",
              "      <td>14.0</td>\n",
              "      <td>7.5</td>\n",
              "    </tr>\n",
              "    <tr>\n",
              "      <th>4</th>\n",
              "      <td>0.0</td>\n",
              "      <td>25.0</td>\n",
              "      <td>52.0</td>\n",
              "      <td>161.000</td>\n",
              "      <td>20.060954</td>\n",
              "      <td>11.0</td>\n",
              "      <td>72.0</td>\n",
              "      <td>18.0</td>\n",
              "      <td>10.00</td>\n",
              "      <td>2.0</td>\n",
              "      <td>...</td>\n",
              "      <td>0.0</td>\n",
              "      <td>0.0</td>\n",
              "      <td>0.0</td>\n",
              "      <td>120.0</td>\n",
              "      <td>80.0</td>\n",
              "      <td>3.0</td>\n",
              "      <td>4.0</td>\n",
              "      <td>16.0</td>\n",
              "      <td>14.0</td>\n",
              "      <td>7.0</td>\n",
              "    </tr>\n",
              "    <tr>\n",
              "      <th>...</th>\n",
              "      <td>...</td>\n",
              "      <td>...</td>\n",
              "      <td>...</td>\n",
              "      <td>...</td>\n",
              "      <td>...</td>\n",
              "      <td>...</td>\n",
              "      <td>...</td>\n",
              "      <td>...</td>\n",
              "      <td>...</td>\n",
              "      <td>...</td>\n",
              "      <td>...</td>\n",
              "      <td>...</td>\n",
              "      <td>...</td>\n",
              "      <td>...</td>\n",
              "      <td>...</td>\n",
              "      <td>...</td>\n",
              "      <td>...</td>\n",
              "      <td>...</td>\n",
              "      <td>...</td>\n",
              "      <td>...</td>\n",
              "      <td>...</td>\n",
              "    </tr>\n",
              "    <tr>\n",
              "      <th>536</th>\n",
              "      <td>0.0</td>\n",
              "      <td>35.0</td>\n",
              "      <td>50.0</td>\n",
              "      <td>164.592</td>\n",
              "      <td>18.500000</td>\n",
              "      <td>17.0</td>\n",
              "      <td>72.0</td>\n",
              "      <td>16.0</td>\n",
              "      <td>11.00</td>\n",
              "      <td>2.0</td>\n",
              "      <td>...</td>\n",
              "      <td>0.0</td>\n",
              "      <td>0.0</td>\n",
              "      <td>0.0</td>\n",
              "      <td>110.0</td>\n",
              "      <td>70.0</td>\n",
              "      <td>1.0</td>\n",
              "      <td>0.0</td>\n",
              "      <td>17.5</td>\n",
              "      <td>10.0</td>\n",
              "      <td>6.7</td>\n",
              "    </tr>\n",
              "    <tr>\n",
              "      <th>537</th>\n",
              "      <td>0.0</td>\n",
              "      <td>30.0</td>\n",
              "      <td>63.2</td>\n",
              "      <td>158.000</td>\n",
              "      <td>25.300000</td>\n",
              "      <td>15.0</td>\n",
              "      <td>72.0</td>\n",
              "      <td>18.0</td>\n",
              "      <td>10.80</td>\n",
              "      <td>2.0</td>\n",
              "      <td>...</td>\n",
              "      <td>0.0</td>\n",
              "      <td>0.0</td>\n",
              "      <td>0.0</td>\n",
              "      <td>110.0</td>\n",
              "      <td>70.0</td>\n",
              "      <td>9.0</td>\n",
              "      <td>7.0</td>\n",
              "      <td>19.0</td>\n",
              "      <td>18.0</td>\n",
              "      <td>8.2</td>\n",
              "    </tr>\n",
              "    <tr>\n",
              "      <th>538</th>\n",
              "      <td>0.0</td>\n",
              "      <td>36.0</td>\n",
              "      <td>54.0</td>\n",
              "      <td>152.000</td>\n",
              "      <td>23.400000</td>\n",
              "      <td>13.0</td>\n",
              "      <td>74.0</td>\n",
              "      <td>20.0</td>\n",
              "      <td>10.80</td>\n",
              "      <td>2.0</td>\n",
              "      <td>...</td>\n",
              "      <td>0.0</td>\n",
              "      <td>0.0</td>\n",
              "      <td>0.0</td>\n",
              "      <td>110.0</td>\n",
              "      <td>80.0</td>\n",
              "      <td>1.0</td>\n",
              "      <td>0.0</td>\n",
              "      <td>18.0</td>\n",
              "      <td>9.0</td>\n",
              "      <td>7.3</td>\n",
              "    </tr>\n",
              "    <tr>\n",
              "      <th>539</th>\n",
              "      <td>0.0</td>\n",
              "      <td>27.0</td>\n",
              "      <td>50.0</td>\n",
              "      <td>150.000</td>\n",
              "      <td>22.200000</td>\n",
              "      <td>15.0</td>\n",
              "      <td>74.0</td>\n",
              "      <td>20.0</td>\n",
              "      <td>12.00</td>\n",
              "      <td>4.0</td>\n",
              "      <td>...</td>\n",
              "      <td>1.0</td>\n",
              "      <td>0.0</td>\n",
              "      <td>0.0</td>\n",
              "      <td>110.0</td>\n",
              "      <td>70.0</td>\n",
              "      <td>7.0</td>\n",
              "      <td>6.0</td>\n",
              "      <td>18.0</td>\n",
              "      <td>16.0</td>\n",
              "      <td>11.5</td>\n",
              "    </tr>\n",
              "    <tr>\n",
              "      <th>540</th>\n",
              "      <td>1.0</td>\n",
              "      <td>23.0</td>\n",
              "      <td>82.0</td>\n",
              "      <td>165.000</td>\n",
              "      <td>30.100000</td>\n",
              "      <td>13.0</td>\n",
              "      <td>80.0</td>\n",
              "      <td>20.0</td>\n",
              "      <td>10.20</td>\n",
              "      <td>4.0</td>\n",
              "      <td>...</td>\n",
              "      <td>1.0</td>\n",
              "      <td>1.0</td>\n",
              "      <td>0.0</td>\n",
              "      <td>120.0</td>\n",
              "      <td>70.0</td>\n",
              "      <td>9.0</td>\n",
              "      <td>10.0</td>\n",
              "      <td>19.0</td>\n",
              "      <td>18.0</td>\n",
              "      <td>6.9</td>\n",
              "    </tr>\n",
              "  </tbody>\n",
              "</table>\n",
              "<p>541 rows × 41 columns</p>\n",
              "</div>\n",
              "    <div class=\"colab-df-buttons\">\n",
              "\n",
              "  <div class=\"colab-df-container\">\n",
              "    <button class=\"colab-df-convert\" onclick=\"convertToInteractive('df-7b1ade96-04c1-405a-9124-13119e6160eb')\"\n",
              "            title=\"Convert this dataframe to an interactive table.\"\n",
              "            style=\"display:none;\">\n",
              "\n",
              "  <svg xmlns=\"http://www.w3.org/2000/svg\" height=\"24px\" viewBox=\"0 -960 960 960\">\n",
              "    <path d=\"M120-120v-720h720v720H120Zm60-500h600v-160H180v160Zm220 220h160v-160H400v160Zm0 220h160v-160H400v160ZM180-400h160v-160H180v160Zm440 0h160v-160H620v160ZM180-180h160v-160H180v160Zm440 0h160v-160H620v160Z\"/>\n",
              "  </svg>\n",
              "    </button>\n",
              "\n",
              "  <style>\n",
              "    .colab-df-container {\n",
              "      display:flex;\n",
              "      gap: 12px;\n",
              "    }\n",
              "\n",
              "    .colab-df-convert {\n",
              "      background-color: #E8F0FE;\n",
              "      border: none;\n",
              "      border-radius: 50%;\n",
              "      cursor: pointer;\n",
              "      display: none;\n",
              "      fill: #1967D2;\n",
              "      height: 32px;\n",
              "      padding: 0 0 0 0;\n",
              "      width: 32px;\n",
              "    }\n",
              "\n",
              "    .colab-df-convert:hover {\n",
              "      background-color: #E2EBFA;\n",
              "      box-shadow: 0px 1px 2px rgba(60, 64, 67, 0.3), 0px 1px 3px 1px rgba(60, 64, 67, 0.15);\n",
              "      fill: #174EA6;\n",
              "    }\n",
              "\n",
              "    .colab-df-buttons div {\n",
              "      margin-bottom: 4px;\n",
              "    }\n",
              "\n",
              "    [theme=dark] .colab-df-convert {\n",
              "      background-color: #3B4455;\n",
              "      fill: #D2E3FC;\n",
              "    }\n",
              "\n",
              "    [theme=dark] .colab-df-convert:hover {\n",
              "      background-color: #434B5C;\n",
              "      box-shadow: 0px 1px 3px 1px rgba(0, 0, 0, 0.15);\n",
              "      filter: drop-shadow(0px 1px 2px rgba(0, 0, 0, 0.3));\n",
              "      fill: #FFFFFF;\n",
              "    }\n",
              "  </style>\n",
              "\n",
              "    <script>\n",
              "      const buttonEl =\n",
              "        document.querySelector('#df-7b1ade96-04c1-405a-9124-13119e6160eb button.colab-df-convert');\n",
              "      buttonEl.style.display =\n",
              "        google.colab.kernel.accessAllowed ? 'block' : 'none';\n",
              "\n",
              "      async function convertToInteractive(key) {\n",
              "        const element = document.querySelector('#df-7b1ade96-04c1-405a-9124-13119e6160eb');\n",
              "        const dataTable =\n",
              "          await google.colab.kernel.invokeFunction('convertToInteractive',\n",
              "                                                    [key], {});\n",
              "        if (!dataTable) return;\n",
              "\n",
              "        const docLinkHtml = 'Like what you see? Visit the ' +\n",
              "          '<a target=\"_blank\" href=https://colab.research.google.com/notebooks/data_table.ipynb>data table notebook</a>'\n",
              "          + ' to learn more about interactive tables.';\n",
              "        element.innerHTML = '';\n",
              "        dataTable['output_type'] = 'display_data';\n",
              "        await google.colab.output.renderOutput(dataTable, element);\n",
              "        const docLink = document.createElement('div');\n",
              "        docLink.innerHTML = docLinkHtml;\n",
              "        element.appendChild(docLink);\n",
              "      }\n",
              "    </script>\n",
              "  </div>\n",
              "\n",
              "\n",
              "<div id=\"df-e8df201e-8be7-4813-b8f8-14f37e429782\">\n",
              "  <button class=\"colab-df-quickchart\" onclick=\"quickchart('df-e8df201e-8be7-4813-b8f8-14f37e429782')\"\n",
              "            title=\"Suggest charts\"\n",
              "            style=\"display:none;\">\n",
              "\n",
              "<svg xmlns=\"http://www.w3.org/2000/svg\" height=\"24px\"viewBox=\"0 0 24 24\"\n",
              "     width=\"24px\">\n",
              "    <g>\n",
              "        <path d=\"M19 3H5c-1.1 0-2 .9-2 2v14c0 1.1.9 2 2 2h14c1.1 0 2-.9 2-2V5c0-1.1-.9-2-2-2zM9 17H7v-7h2v7zm4 0h-2V7h2v10zm4 0h-2v-4h2v4z\"/>\n",
              "    </g>\n",
              "</svg>\n",
              "  </button>\n",
              "\n",
              "<style>\n",
              "  .colab-df-quickchart {\n",
              "      --bg-color: #E8F0FE;\n",
              "      --fill-color: #1967D2;\n",
              "      --hover-bg-color: #E2EBFA;\n",
              "      --hover-fill-color: #174EA6;\n",
              "      --disabled-fill-color: #AAA;\n",
              "      --disabled-bg-color: #DDD;\n",
              "  }\n",
              "\n",
              "  [theme=dark] .colab-df-quickchart {\n",
              "      --bg-color: #3B4455;\n",
              "      --fill-color: #D2E3FC;\n",
              "      --hover-bg-color: #434B5C;\n",
              "      --hover-fill-color: #FFFFFF;\n",
              "      --disabled-bg-color: #3B4455;\n",
              "      --disabled-fill-color: #666;\n",
              "  }\n",
              "\n",
              "  .colab-df-quickchart {\n",
              "    background-color: var(--bg-color);\n",
              "    border: none;\n",
              "    border-radius: 50%;\n",
              "    cursor: pointer;\n",
              "    display: none;\n",
              "    fill: var(--fill-color);\n",
              "    height: 32px;\n",
              "    padding: 0;\n",
              "    width: 32px;\n",
              "  }\n",
              "\n",
              "  .colab-df-quickchart:hover {\n",
              "    background-color: var(--hover-bg-color);\n",
              "    box-shadow: 0 1px 2px rgba(60, 64, 67, 0.3), 0 1px 3px 1px rgba(60, 64, 67, 0.15);\n",
              "    fill: var(--button-hover-fill-color);\n",
              "  }\n",
              "\n",
              "  .colab-df-quickchart-complete:disabled,\n",
              "  .colab-df-quickchart-complete:disabled:hover {\n",
              "    background-color: var(--disabled-bg-color);\n",
              "    fill: var(--disabled-fill-color);\n",
              "    box-shadow: none;\n",
              "  }\n",
              "\n",
              "  .colab-df-spinner {\n",
              "    border: 2px solid var(--fill-color);\n",
              "    border-color: transparent;\n",
              "    border-bottom-color: var(--fill-color);\n",
              "    animation:\n",
              "      spin 1s steps(1) infinite;\n",
              "  }\n",
              "\n",
              "  @keyframes spin {\n",
              "    0% {\n",
              "      border-color: transparent;\n",
              "      border-bottom-color: var(--fill-color);\n",
              "      border-left-color: var(--fill-color);\n",
              "    }\n",
              "    20% {\n",
              "      border-color: transparent;\n",
              "      border-left-color: var(--fill-color);\n",
              "      border-top-color: var(--fill-color);\n",
              "    }\n",
              "    30% {\n",
              "      border-color: transparent;\n",
              "      border-left-color: var(--fill-color);\n",
              "      border-top-color: var(--fill-color);\n",
              "      border-right-color: var(--fill-color);\n",
              "    }\n",
              "    40% {\n",
              "      border-color: transparent;\n",
              "      border-right-color: var(--fill-color);\n",
              "      border-top-color: var(--fill-color);\n",
              "    }\n",
              "    60% {\n",
              "      border-color: transparent;\n",
              "      border-right-color: var(--fill-color);\n",
              "    }\n",
              "    80% {\n",
              "      border-color: transparent;\n",
              "      border-right-color: var(--fill-color);\n",
              "      border-bottom-color: var(--fill-color);\n",
              "    }\n",
              "    90% {\n",
              "      border-color: transparent;\n",
              "      border-bottom-color: var(--fill-color);\n",
              "    }\n",
              "  }\n",
              "</style>\n",
              "\n",
              "  <script>\n",
              "    async function quickchart(key) {\n",
              "      const quickchartButtonEl =\n",
              "        document.querySelector('#' + key + ' button');\n",
              "      quickchartButtonEl.disabled = true;  // To prevent multiple clicks.\n",
              "      quickchartButtonEl.classList.add('colab-df-spinner');\n",
              "      try {\n",
              "        const charts = await google.colab.kernel.invokeFunction(\n",
              "            'suggestCharts', [key], {});\n",
              "      } catch (error) {\n",
              "        console.error('Error during call to suggestCharts:', error);\n",
              "      }\n",
              "      quickchartButtonEl.classList.remove('colab-df-spinner');\n",
              "      quickchartButtonEl.classList.add('colab-df-quickchart-complete');\n",
              "    }\n",
              "    (() => {\n",
              "      let quickchartButtonEl =\n",
              "        document.querySelector('#df-e8df201e-8be7-4813-b8f8-14f37e429782 button');\n",
              "      quickchartButtonEl.style.display =\n",
              "        google.colab.kernel.accessAllowed ? 'block' : 'none';\n",
              "    })();\n",
              "  </script>\n",
              "</div>\n",
              "    </div>\n",
              "  </div>\n"
            ],
            "application/vnd.google.colaboratory.intrinsic+json": {
              "type": "dataframe",
              "variable_name": "df"
            }
          },
          "metadata": {},
          "execution_count": 5
        }
      ]
    },
    {
      "cell_type": "markdown",
      "source": [
        "Asumimos que todas las variables restantes son importantes, por lo tanto no eliminamos ninguna columa más."
      ],
      "metadata": {
        "id": "yAHdfNohpQgU"
      }
    },
    {
      "cell_type": "markdown",
      "source": [
        "#### Buscamos NaN"
      ],
      "metadata": {
        "id": "ADw6cbhgqtN7"
      }
    },
    {
      "cell_type": "code",
      "source": [
        "df.isna().any()"
      ],
      "metadata": {
        "colab": {
          "base_uri": "https://localhost:8080/"
        },
        "id": "ZmQVFY8aqL9G",
        "outputId": "f208a45f-5ef4-4c2a-e2c2-d9b6cacd08d5"
      },
      "execution_count": 6,
      "outputs": [
        {
          "output_type": "execute_result",
          "data": {
            "text/plain": [
              "PCOS (Y/N)                False\n",
              " Age (yrs)                False\n",
              "Weight (Kg)               False\n",
              "Height(Cm)                False\n",
              "BMI                       False\n",
              "Blood Group               False\n",
              "Pulse rate(bpm)           False\n",
              "RR (breaths/min)          False\n",
              "Hb(g/dl)                  False\n",
              "Cycle(R/I)                False\n",
              "Cycle length(days)        False\n",
              "Marraige Status (Yrs)      True\n",
              "Pregnant(Y/N)             False\n",
              "No. of aborptions         False\n",
              "  I   beta-HCG(mIU/mL)    False\n",
              "II    beta-HCG(mIU/mL)    False\n",
              "FSH(mIU/mL)               False\n",
              "LH(mIU/mL)                False\n",
              "FSH/LH                    False\n",
              "Hip(inch)                 False\n",
              "Waist(inch)               False\n",
              "TSH (mIU/L)               False\n",
              "AMH(ng/mL)                False\n",
              "PRL(ng/mL)                False\n",
              "Vit D3 (ng/mL)            False\n",
              "PRG(ng/mL)                False\n",
              "RBS(mg/dl)                False\n",
              "Weight gain(Y/N)          False\n",
              "hair growth(Y/N)          False\n",
              "Skin darkening (Y/N)      False\n",
              "Hair loss(Y/N)            False\n",
              "Pimples(Y/N)              False\n",
              "Fast food (Y/N)            True\n",
              "Reg.Exercise(Y/N)         False\n",
              "BP _Systolic (mmHg)       False\n",
              "BP _Diastolic (mmHg)      False\n",
              "Follicle No. (L)          False\n",
              "Follicle No. (R)          False\n",
              "Avg. F size (L) (mm)      False\n",
              "Avg. F size (R) (mm)      False\n",
              "Endometrium (mm)          False\n",
              "dtype: bool"
            ]
          },
          "metadata": {},
          "execution_count": 6
        }
      ]
    },
    {
      "cell_type": "code",
      "source": [
        "df.info()"
      ],
      "metadata": {
        "colab": {
          "base_uri": "https://localhost:8080/"
        },
        "id": "m-pxSiZeq97e",
        "outputId": "af3ee2b4-b0ce-4085-c149-a4353e5db79d"
      },
      "execution_count": 7,
      "outputs": [
        {
          "output_type": "stream",
          "name": "stdout",
          "text": [
            "<class 'pandas.core.frame.DataFrame'>\n",
            "Index: 541 entries, 0 to 540\n",
            "Data columns (total 41 columns):\n",
            " #   Column                  Non-Null Count  Dtype  \n",
            "---  ------                  --------------  -----  \n",
            " 0   PCOS (Y/N)              541 non-null    float64\n",
            " 1    Age (yrs)              541 non-null    float64\n",
            " 2   Weight (Kg)             541 non-null    float64\n",
            " 3   Height(Cm)              541 non-null    float64\n",
            " 4   BMI                     541 non-null    float64\n",
            " 5   Blood Group             541 non-null    float64\n",
            " 6   Pulse rate(bpm)         541 non-null    float64\n",
            " 7   RR (breaths/min)        541 non-null    float64\n",
            " 8   Hb(g/dl)                541 non-null    float64\n",
            " 9   Cycle(R/I)              541 non-null    float64\n",
            " 10  Cycle length(days)      541 non-null    float64\n",
            " 11  Marraige Status (Yrs)   540 non-null    float64\n",
            " 12  Pregnant(Y/N)           541 non-null    float64\n",
            " 13  No. of aborptions       541 non-null    float64\n",
            " 14    I   beta-HCG(mIU/mL)  541 non-null    float64\n",
            " 15  II    beta-HCG(mIU/mL)  541 non-null    object \n",
            " 16  FSH(mIU/mL)             541 non-null    float64\n",
            " 17  LH(mIU/mL)              541 non-null    float64\n",
            " 18  FSH/LH                  541 non-null    float64\n",
            " 19  Hip(inch)               541 non-null    float64\n",
            " 20  Waist(inch)             541 non-null    float64\n",
            " 21  TSH (mIU/L)             541 non-null    float64\n",
            " 22  AMH(ng/mL)              541 non-null    object \n",
            " 23  PRL(ng/mL)              541 non-null    float64\n",
            " 24  Vit D3 (ng/mL)          541 non-null    float64\n",
            " 25  PRG(ng/mL)              541 non-null    float64\n",
            " 26  RBS(mg/dl)              541 non-null    float64\n",
            " 27  Weight gain(Y/N)        541 non-null    float64\n",
            " 28  hair growth(Y/N)        541 non-null    float64\n",
            " 29  Skin darkening (Y/N)    541 non-null    float64\n",
            " 30  Hair loss(Y/N)          541 non-null    float64\n",
            " 31  Pimples(Y/N)            541 non-null    float64\n",
            " 32  Fast food (Y/N)         540 non-null    float64\n",
            " 33  Reg.Exercise(Y/N)       541 non-null    float64\n",
            " 34  BP _Systolic (mmHg)     541 non-null    float64\n",
            " 35  BP _Diastolic (mmHg)    541 non-null    float64\n",
            " 36  Follicle No. (L)        541 non-null    float64\n",
            " 37  Follicle No. (R)        541 non-null    float64\n",
            " 38  Avg. F size (L) (mm)    541 non-null    float64\n",
            " 39  Avg. F size (R) (mm)    541 non-null    float64\n",
            " 40  Endometrium (mm)        541 non-null    float64\n",
            "dtypes: float64(39), object(2)\n",
            "memory usage: 177.5+ KB\n"
          ]
        }
      ]
    },
    {
      "cell_type": "markdown",
      "source": [
        "Se observa que en Marriage Status y en Fast Food existe un solo valor nulo, por lo que procedemos a eliminarlos ya que no es una cantidad significante para el dataset. También se observa que las columnas II    beta-HCG(mIU/mL) y AMH(ng/mL) son de tipo object cuando sus registros son numéricos, por lo que hay errores de registro en el dataset que se tienen que solucionar."
      ],
      "metadata": {
        "id": "G15gTV-R7PTY"
      }
    },
    {
      "cell_type": "code",
      "source": [
        "# Eliminar nulos\n",
        "df = df.dropna()\n",
        "df.shape"
      ],
      "metadata": {
        "colab": {
          "base_uri": "https://localhost:8080/"
        },
        "id": "ghUFbXqa1lEf",
        "outputId": "3eb689d7-9171-48e9-c55a-4d3123c57bda"
      },
      "execution_count": 8,
      "outputs": [
        {
          "output_type": "execute_result",
          "data": {
            "text/plain": [
              "(539, 41)"
            ]
          },
          "metadata": {},
          "execution_count": 8
        }
      ]
    },
    {
      "cell_type": "code",
      "source": [
        "# Convertir en datos numéricos\n",
        "df[\"AMH(ng/mL)\"] = pd.to_numeric(df[\"AMH(ng/mL)\"], errors=\"coerce\")\n",
        "df[\"II    beta-HCG(mIU/mL)\"] = pd.to_numeric(df[\"II    beta-HCG(mIU/mL)\"], errors=\"coerce\")\n",
        "df = df.dropna()"
      ],
      "metadata": {
        "colab": {
          "base_uri": "https://localhost:8080/"
        },
        "id": "01VjbWIM79nT",
        "outputId": "4cff7249-20b8-4961-e0ac-864d58f4653f"
      },
      "execution_count": 9,
      "outputs": [
        {
          "output_type": "stream",
          "name": "stderr",
          "text": [
            "<ipython-input-9-a889943594fc>:2: SettingWithCopyWarning: \n",
            "A value is trying to be set on a copy of a slice from a DataFrame.\n",
            "Try using .loc[row_indexer,col_indexer] = value instead\n",
            "\n",
            "See the caveats in the documentation: https://pandas.pydata.org/pandas-docs/stable/user_guide/indexing.html#returning-a-view-versus-a-copy\n",
            "  df[\"AMH(ng/mL)\"] = pd.to_numeric(df[\"AMH(ng/mL)\"], errors=\"coerce\")\n",
            "<ipython-input-9-a889943594fc>:3: SettingWithCopyWarning: \n",
            "A value is trying to be set on a copy of a slice from a DataFrame.\n",
            "Try using .loc[row_indexer,col_indexer] = value instead\n",
            "\n",
            "See the caveats in the documentation: https://pandas.pydata.org/pandas-docs/stable/user_guide/indexing.html#returning-a-view-versus-a-copy\n",
            "  df[\"II    beta-HCG(mIU/mL)\"] = pd.to_numeric(df[\"II    beta-HCG(mIU/mL)\"], errors=\"coerce\")\n"
          ]
        }
      ]
    },
    {
      "cell_type": "markdown",
      "source": [
        "## Análisis explorativo"
      ],
      "metadata": {
        "id": "17LHJvvusRGA"
      }
    },
    {
      "cell_type": "markdown",
      "source": [
        "Una vez con la base de datos limpia, procedemos a realizar un análisis de las diversas variables implicadas."
      ],
      "metadata": {
        "id": "a28HJUxNljHg"
      }
    },
    {
      "cell_type": "code",
      "source": [
        "df.info()"
      ],
      "metadata": {
        "colab": {
          "base_uri": "https://localhost:8080/"
        },
        "id": "iH1Tt-uwquSQ",
        "outputId": "84476c28-6984-42bd-e276-3bb0eb5e80ae"
      },
      "execution_count": 10,
      "outputs": [
        {
          "output_type": "stream",
          "name": "stdout",
          "text": [
            "<class 'pandas.core.frame.DataFrame'>\n",
            "Index: 537 entries, 0 to 540\n",
            "Data columns (total 41 columns):\n",
            " #   Column                  Non-Null Count  Dtype  \n",
            "---  ------                  --------------  -----  \n",
            " 0   PCOS (Y/N)              537 non-null    float64\n",
            " 1    Age (yrs)              537 non-null    float64\n",
            " 2   Weight (Kg)             537 non-null    float64\n",
            " 3   Height(Cm)              537 non-null    float64\n",
            " 4   BMI                     537 non-null    float64\n",
            " 5   Blood Group             537 non-null    float64\n",
            " 6   Pulse rate(bpm)         537 non-null    float64\n",
            " 7   RR (breaths/min)        537 non-null    float64\n",
            " 8   Hb(g/dl)                537 non-null    float64\n",
            " 9   Cycle(R/I)              537 non-null    float64\n",
            " 10  Cycle length(days)      537 non-null    float64\n",
            " 11  Marraige Status (Yrs)   537 non-null    float64\n",
            " 12  Pregnant(Y/N)           537 non-null    float64\n",
            " 13  No. of aborptions       537 non-null    float64\n",
            " 14    I   beta-HCG(mIU/mL)  537 non-null    float64\n",
            " 15  II    beta-HCG(mIU/mL)  537 non-null    float64\n",
            " 16  FSH(mIU/mL)             537 non-null    float64\n",
            " 17  LH(mIU/mL)              537 non-null    float64\n",
            " 18  FSH/LH                  537 non-null    float64\n",
            " 19  Hip(inch)               537 non-null    float64\n",
            " 20  Waist(inch)             537 non-null    float64\n",
            " 21  TSH (mIU/L)             537 non-null    float64\n",
            " 22  AMH(ng/mL)              537 non-null    float64\n",
            " 23  PRL(ng/mL)              537 non-null    float64\n",
            " 24  Vit D3 (ng/mL)          537 non-null    float64\n",
            " 25  PRG(ng/mL)              537 non-null    float64\n",
            " 26  RBS(mg/dl)              537 non-null    float64\n",
            " 27  Weight gain(Y/N)        537 non-null    float64\n",
            " 28  hair growth(Y/N)        537 non-null    float64\n",
            " 29  Skin darkening (Y/N)    537 non-null    float64\n",
            " 30  Hair loss(Y/N)          537 non-null    float64\n",
            " 31  Pimples(Y/N)            537 non-null    float64\n",
            " 32  Fast food (Y/N)         537 non-null    float64\n",
            " 33  Reg.Exercise(Y/N)       537 non-null    float64\n",
            " 34  BP _Systolic (mmHg)     537 non-null    float64\n",
            " 35  BP _Diastolic (mmHg)    537 non-null    float64\n",
            " 36  Follicle No. (L)        537 non-null    float64\n",
            " 37  Follicle No. (R)        537 non-null    float64\n",
            " 38  Avg. F size (L) (mm)    537 non-null    float64\n",
            " 39  Avg. F size (R) (mm)    537 non-null    float64\n",
            " 40  Endometrium (mm)        537 non-null    float64\n",
            "dtypes: float64(41)\n",
            "memory usage: 176.2 KB\n"
          ]
        }
      ]
    },
    {
      "cell_type": "markdown",
      "source": [
        "El dataset resultante quedó con un total de 41 columnas de tipo flotantes con un total de 537 registros. Un ejemplo de visualización del dataset se muestra a continuación:"
      ],
      "metadata": {
        "id": "AdteDNQC8c72"
      }
    },
    {
      "cell_type": "code",
      "source": [
        "df.head()"
      ],
      "metadata": {
        "colab": {
          "base_uri": "https://localhost:8080/",
          "height": 325
        },
        "id": "lsl3Ze3P9jdw",
        "outputId": "ab0552a4-e59f-49bc-b5d7-b4c0785ea43f"
      },
      "execution_count": 11,
      "outputs": [
        {
          "output_type": "execute_result",
          "data": {
            "text/plain": [
              "   PCOS (Y/N)   Age (yrs)  Weight (Kg)  Height(Cm)         BMI  Blood Group  \\\n",
              "0         0.0        28.0         44.6        152.0  19.300000         15.0   \n",
              "1         0.0        36.0         65.0        161.5  24.921163         15.0   \n",
              "2         1.0        33.0         68.8        165.0  25.270891         11.0   \n",
              "3         0.0        37.0         65.0        148.0  29.674945         13.0   \n",
              "4         0.0        25.0         52.0        161.0  20.060954         11.0   \n",
              "\n",
              "   Pulse rate(bpm)   RR (breaths/min)  Hb(g/dl)  Cycle(R/I)  ...  \\\n",
              "0              78.0              22.0     10.48         2.0  ...   \n",
              "1              74.0              20.0     11.70         2.0  ...   \n",
              "2              72.0              18.0     11.80         2.0  ...   \n",
              "3              72.0              20.0     12.00         2.0  ...   \n",
              "4              72.0              18.0     10.00         2.0  ...   \n",
              "\n",
              "   Pimples(Y/N)  Fast food (Y/N)  Reg.Exercise(Y/N)  BP _Systolic (mmHg)  \\\n",
              "0           0.0              1.0                0.0                110.0   \n",
              "1           0.0              0.0                0.0                120.0   \n",
              "2           1.0              1.0                0.0                120.0   \n",
              "3           0.0              0.0                0.0                120.0   \n",
              "4           0.0              0.0                0.0                120.0   \n",
              "\n",
              "   BP _Diastolic (mmHg)  Follicle No. (L)  Follicle No. (R)  \\\n",
              "0                  80.0               3.0               3.0   \n",
              "1                  70.0               3.0               5.0   \n",
              "2                  80.0              13.0              15.0   \n",
              "3                  70.0               2.0               2.0   \n",
              "4                  80.0               3.0               4.0   \n",
              "\n",
              "   Avg. F size (L) (mm)  Avg. F size (R) (mm)  Endometrium (mm)  \n",
              "0                  18.0                  18.0               8.5  \n",
              "1                  15.0                  14.0               3.7  \n",
              "2                  18.0                  20.0              10.0  \n",
              "3                  15.0                  14.0               7.5  \n",
              "4                  16.0                  14.0               7.0  \n",
              "\n",
              "[5 rows x 41 columns]"
            ],
            "text/html": [
              "\n",
              "  <div id=\"df-cc3a2245-f5b9-4142-b93d-fd140c4a6fd3\" class=\"colab-df-container\">\n",
              "    <div>\n",
              "<style scoped>\n",
              "    .dataframe tbody tr th:only-of-type {\n",
              "        vertical-align: middle;\n",
              "    }\n",
              "\n",
              "    .dataframe tbody tr th {\n",
              "        vertical-align: top;\n",
              "    }\n",
              "\n",
              "    .dataframe thead th {\n",
              "        text-align: right;\n",
              "    }\n",
              "</style>\n",
              "<table border=\"1\" class=\"dataframe\">\n",
              "  <thead>\n",
              "    <tr style=\"text-align: right;\">\n",
              "      <th></th>\n",
              "      <th>PCOS (Y/N)</th>\n",
              "      <th>Age (yrs)</th>\n",
              "      <th>Weight (Kg)</th>\n",
              "      <th>Height(Cm)</th>\n",
              "      <th>BMI</th>\n",
              "      <th>Blood Group</th>\n",
              "      <th>Pulse rate(bpm)</th>\n",
              "      <th>RR (breaths/min)</th>\n",
              "      <th>Hb(g/dl)</th>\n",
              "      <th>Cycle(R/I)</th>\n",
              "      <th>...</th>\n",
              "      <th>Pimples(Y/N)</th>\n",
              "      <th>Fast food (Y/N)</th>\n",
              "      <th>Reg.Exercise(Y/N)</th>\n",
              "      <th>BP _Systolic (mmHg)</th>\n",
              "      <th>BP _Diastolic (mmHg)</th>\n",
              "      <th>Follicle No. (L)</th>\n",
              "      <th>Follicle No. (R)</th>\n",
              "      <th>Avg. F size (L) (mm)</th>\n",
              "      <th>Avg. F size (R) (mm)</th>\n",
              "      <th>Endometrium (mm)</th>\n",
              "    </tr>\n",
              "  </thead>\n",
              "  <tbody>\n",
              "    <tr>\n",
              "      <th>0</th>\n",
              "      <td>0.0</td>\n",
              "      <td>28.0</td>\n",
              "      <td>44.6</td>\n",
              "      <td>152.0</td>\n",
              "      <td>19.300000</td>\n",
              "      <td>15.0</td>\n",
              "      <td>78.0</td>\n",
              "      <td>22.0</td>\n",
              "      <td>10.48</td>\n",
              "      <td>2.0</td>\n",
              "      <td>...</td>\n",
              "      <td>0.0</td>\n",
              "      <td>1.0</td>\n",
              "      <td>0.0</td>\n",
              "      <td>110.0</td>\n",
              "      <td>80.0</td>\n",
              "      <td>3.0</td>\n",
              "      <td>3.0</td>\n",
              "      <td>18.0</td>\n",
              "      <td>18.0</td>\n",
              "      <td>8.5</td>\n",
              "    </tr>\n",
              "    <tr>\n",
              "      <th>1</th>\n",
              "      <td>0.0</td>\n",
              "      <td>36.0</td>\n",
              "      <td>65.0</td>\n",
              "      <td>161.5</td>\n",
              "      <td>24.921163</td>\n",
              "      <td>15.0</td>\n",
              "      <td>74.0</td>\n",
              "      <td>20.0</td>\n",
              "      <td>11.70</td>\n",
              "      <td>2.0</td>\n",
              "      <td>...</td>\n",
              "      <td>0.0</td>\n",
              "      <td>0.0</td>\n",
              "      <td>0.0</td>\n",
              "      <td>120.0</td>\n",
              "      <td>70.0</td>\n",
              "      <td>3.0</td>\n",
              "      <td>5.0</td>\n",
              "      <td>15.0</td>\n",
              "      <td>14.0</td>\n",
              "      <td>3.7</td>\n",
              "    </tr>\n",
              "    <tr>\n",
              "      <th>2</th>\n",
              "      <td>1.0</td>\n",
              "      <td>33.0</td>\n",
              "      <td>68.8</td>\n",
              "      <td>165.0</td>\n",
              "      <td>25.270891</td>\n",
              "      <td>11.0</td>\n",
              "      <td>72.0</td>\n",
              "      <td>18.0</td>\n",
              "      <td>11.80</td>\n",
              "      <td>2.0</td>\n",
              "      <td>...</td>\n",
              "      <td>1.0</td>\n",
              "      <td>1.0</td>\n",
              "      <td>0.0</td>\n",
              "      <td>120.0</td>\n",
              "      <td>80.0</td>\n",
              "      <td>13.0</td>\n",
              "      <td>15.0</td>\n",
              "      <td>18.0</td>\n",
              "      <td>20.0</td>\n",
              "      <td>10.0</td>\n",
              "    </tr>\n",
              "    <tr>\n",
              "      <th>3</th>\n",
              "      <td>0.0</td>\n",
              "      <td>37.0</td>\n",
              "      <td>65.0</td>\n",
              "      <td>148.0</td>\n",
              "      <td>29.674945</td>\n",
              "      <td>13.0</td>\n",
              "      <td>72.0</td>\n",
              "      <td>20.0</td>\n",
              "      <td>12.00</td>\n",
              "      <td>2.0</td>\n",
              "      <td>...</td>\n",
              "      <td>0.0</td>\n",
              "      <td>0.0</td>\n",
              "      <td>0.0</td>\n",
              "      <td>120.0</td>\n",
              "      <td>70.0</td>\n",
              "      <td>2.0</td>\n",
              "      <td>2.0</td>\n",
              "      <td>15.0</td>\n",
              "      <td>14.0</td>\n",
              "      <td>7.5</td>\n",
              "    </tr>\n",
              "    <tr>\n",
              "      <th>4</th>\n",
              "      <td>0.0</td>\n",
              "      <td>25.0</td>\n",
              "      <td>52.0</td>\n",
              "      <td>161.0</td>\n",
              "      <td>20.060954</td>\n",
              "      <td>11.0</td>\n",
              "      <td>72.0</td>\n",
              "      <td>18.0</td>\n",
              "      <td>10.00</td>\n",
              "      <td>2.0</td>\n",
              "      <td>...</td>\n",
              "      <td>0.0</td>\n",
              "      <td>0.0</td>\n",
              "      <td>0.0</td>\n",
              "      <td>120.0</td>\n",
              "      <td>80.0</td>\n",
              "      <td>3.0</td>\n",
              "      <td>4.0</td>\n",
              "      <td>16.0</td>\n",
              "      <td>14.0</td>\n",
              "      <td>7.0</td>\n",
              "    </tr>\n",
              "  </tbody>\n",
              "</table>\n",
              "<p>5 rows × 41 columns</p>\n",
              "</div>\n",
              "    <div class=\"colab-df-buttons\">\n",
              "\n",
              "  <div class=\"colab-df-container\">\n",
              "    <button class=\"colab-df-convert\" onclick=\"convertToInteractive('df-cc3a2245-f5b9-4142-b93d-fd140c4a6fd3')\"\n",
              "            title=\"Convert this dataframe to an interactive table.\"\n",
              "            style=\"display:none;\">\n",
              "\n",
              "  <svg xmlns=\"http://www.w3.org/2000/svg\" height=\"24px\" viewBox=\"0 -960 960 960\">\n",
              "    <path d=\"M120-120v-720h720v720H120Zm60-500h600v-160H180v160Zm220 220h160v-160H400v160Zm0 220h160v-160H400v160ZM180-400h160v-160H180v160Zm440 0h160v-160H620v160ZM180-180h160v-160H180v160Zm440 0h160v-160H620v160Z\"/>\n",
              "  </svg>\n",
              "    </button>\n",
              "\n",
              "  <style>\n",
              "    .colab-df-container {\n",
              "      display:flex;\n",
              "      gap: 12px;\n",
              "    }\n",
              "\n",
              "    .colab-df-convert {\n",
              "      background-color: #E8F0FE;\n",
              "      border: none;\n",
              "      border-radius: 50%;\n",
              "      cursor: pointer;\n",
              "      display: none;\n",
              "      fill: #1967D2;\n",
              "      height: 32px;\n",
              "      padding: 0 0 0 0;\n",
              "      width: 32px;\n",
              "    }\n",
              "\n",
              "    .colab-df-convert:hover {\n",
              "      background-color: #E2EBFA;\n",
              "      box-shadow: 0px 1px 2px rgba(60, 64, 67, 0.3), 0px 1px 3px 1px rgba(60, 64, 67, 0.15);\n",
              "      fill: #174EA6;\n",
              "    }\n",
              "\n",
              "    .colab-df-buttons div {\n",
              "      margin-bottom: 4px;\n",
              "    }\n",
              "\n",
              "    [theme=dark] .colab-df-convert {\n",
              "      background-color: #3B4455;\n",
              "      fill: #D2E3FC;\n",
              "    }\n",
              "\n",
              "    [theme=dark] .colab-df-convert:hover {\n",
              "      background-color: #434B5C;\n",
              "      box-shadow: 0px 1px 3px 1px rgba(0, 0, 0, 0.15);\n",
              "      filter: drop-shadow(0px 1px 2px rgba(0, 0, 0, 0.3));\n",
              "      fill: #FFFFFF;\n",
              "    }\n",
              "  </style>\n",
              "\n",
              "    <script>\n",
              "      const buttonEl =\n",
              "        document.querySelector('#df-cc3a2245-f5b9-4142-b93d-fd140c4a6fd3 button.colab-df-convert');\n",
              "      buttonEl.style.display =\n",
              "        google.colab.kernel.accessAllowed ? 'block' : 'none';\n",
              "\n",
              "      async function convertToInteractive(key) {\n",
              "        const element = document.querySelector('#df-cc3a2245-f5b9-4142-b93d-fd140c4a6fd3');\n",
              "        const dataTable =\n",
              "          await google.colab.kernel.invokeFunction('convertToInteractive',\n",
              "                                                    [key], {});\n",
              "        if (!dataTable) return;\n",
              "\n",
              "        const docLinkHtml = 'Like what you see? Visit the ' +\n",
              "          '<a target=\"_blank\" href=https://colab.research.google.com/notebooks/data_table.ipynb>data table notebook</a>'\n",
              "          + ' to learn more about interactive tables.';\n",
              "        element.innerHTML = '';\n",
              "        dataTable['output_type'] = 'display_data';\n",
              "        await google.colab.output.renderOutput(dataTable, element);\n",
              "        const docLink = document.createElement('div');\n",
              "        docLink.innerHTML = docLinkHtml;\n",
              "        element.appendChild(docLink);\n",
              "      }\n",
              "    </script>\n",
              "  </div>\n",
              "\n",
              "\n",
              "<div id=\"df-97b33b02-74f6-4bc9-8e38-6eadc2c23c85\">\n",
              "  <button class=\"colab-df-quickchart\" onclick=\"quickchart('df-97b33b02-74f6-4bc9-8e38-6eadc2c23c85')\"\n",
              "            title=\"Suggest charts\"\n",
              "            style=\"display:none;\">\n",
              "\n",
              "<svg xmlns=\"http://www.w3.org/2000/svg\" height=\"24px\"viewBox=\"0 0 24 24\"\n",
              "     width=\"24px\">\n",
              "    <g>\n",
              "        <path d=\"M19 3H5c-1.1 0-2 .9-2 2v14c0 1.1.9 2 2 2h14c1.1 0 2-.9 2-2V5c0-1.1-.9-2-2-2zM9 17H7v-7h2v7zm4 0h-2V7h2v10zm4 0h-2v-4h2v4z\"/>\n",
              "    </g>\n",
              "</svg>\n",
              "  </button>\n",
              "\n",
              "<style>\n",
              "  .colab-df-quickchart {\n",
              "      --bg-color: #E8F0FE;\n",
              "      --fill-color: #1967D2;\n",
              "      --hover-bg-color: #E2EBFA;\n",
              "      --hover-fill-color: #174EA6;\n",
              "      --disabled-fill-color: #AAA;\n",
              "      --disabled-bg-color: #DDD;\n",
              "  }\n",
              "\n",
              "  [theme=dark] .colab-df-quickchart {\n",
              "      --bg-color: #3B4455;\n",
              "      --fill-color: #D2E3FC;\n",
              "      --hover-bg-color: #434B5C;\n",
              "      --hover-fill-color: #FFFFFF;\n",
              "      --disabled-bg-color: #3B4455;\n",
              "      --disabled-fill-color: #666;\n",
              "  }\n",
              "\n",
              "  .colab-df-quickchart {\n",
              "    background-color: var(--bg-color);\n",
              "    border: none;\n",
              "    border-radius: 50%;\n",
              "    cursor: pointer;\n",
              "    display: none;\n",
              "    fill: var(--fill-color);\n",
              "    height: 32px;\n",
              "    padding: 0;\n",
              "    width: 32px;\n",
              "  }\n",
              "\n",
              "  .colab-df-quickchart:hover {\n",
              "    background-color: var(--hover-bg-color);\n",
              "    box-shadow: 0 1px 2px rgba(60, 64, 67, 0.3), 0 1px 3px 1px rgba(60, 64, 67, 0.15);\n",
              "    fill: var(--button-hover-fill-color);\n",
              "  }\n",
              "\n",
              "  .colab-df-quickchart-complete:disabled,\n",
              "  .colab-df-quickchart-complete:disabled:hover {\n",
              "    background-color: var(--disabled-bg-color);\n",
              "    fill: var(--disabled-fill-color);\n",
              "    box-shadow: none;\n",
              "  }\n",
              "\n",
              "  .colab-df-spinner {\n",
              "    border: 2px solid var(--fill-color);\n",
              "    border-color: transparent;\n",
              "    border-bottom-color: var(--fill-color);\n",
              "    animation:\n",
              "      spin 1s steps(1) infinite;\n",
              "  }\n",
              "\n",
              "  @keyframes spin {\n",
              "    0% {\n",
              "      border-color: transparent;\n",
              "      border-bottom-color: var(--fill-color);\n",
              "      border-left-color: var(--fill-color);\n",
              "    }\n",
              "    20% {\n",
              "      border-color: transparent;\n",
              "      border-left-color: var(--fill-color);\n",
              "      border-top-color: var(--fill-color);\n",
              "    }\n",
              "    30% {\n",
              "      border-color: transparent;\n",
              "      border-left-color: var(--fill-color);\n",
              "      border-top-color: var(--fill-color);\n",
              "      border-right-color: var(--fill-color);\n",
              "    }\n",
              "    40% {\n",
              "      border-color: transparent;\n",
              "      border-right-color: var(--fill-color);\n",
              "      border-top-color: var(--fill-color);\n",
              "    }\n",
              "    60% {\n",
              "      border-color: transparent;\n",
              "      border-right-color: var(--fill-color);\n",
              "    }\n",
              "    80% {\n",
              "      border-color: transparent;\n",
              "      border-right-color: var(--fill-color);\n",
              "      border-bottom-color: var(--fill-color);\n",
              "    }\n",
              "    90% {\n",
              "      border-color: transparent;\n",
              "      border-bottom-color: var(--fill-color);\n",
              "    }\n",
              "  }\n",
              "</style>\n",
              "\n",
              "  <script>\n",
              "    async function quickchart(key) {\n",
              "      const quickchartButtonEl =\n",
              "        document.querySelector('#' + key + ' button');\n",
              "      quickchartButtonEl.disabled = true;  // To prevent multiple clicks.\n",
              "      quickchartButtonEl.classList.add('colab-df-spinner');\n",
              "      try {\n",
              "        const charts = await google.colab.kernel.invokeFunction(\n",
              "            'suggestCharts', [key], {});\n",
              "      } catch (error) {\n",
              "        console.error('Error during call to suggestCharts:', error);\n",
              "      }\n",
              "      quickchartButtonEl.classList.remove('colab-df-spinner');\n",
              "      quickchartButtonEl.classList.add('colab-df-quickchart-complete');\n",
              "    }\n",
              "    (() => {\n",
              "      let quickchartButtonEl =\n",
              "        document.querySelector('#df-97b33b02-74f6-4bc9-8e38-6eadc2c23c85 button');\n",
              "      quickchartButtonEl.style.display =\n",
              "        google.colab.kernel.accessAllowed ? 'block' : 'none';\n",
              "    })();\n",
              "  </script>\n",
              "</div>\n",
              "    </div>\n",
              "  </div>\n"
            ],
            "application/vnd.google.colaboratory.intrinsic+json": {
              "type": "dataframe",
              "variable_name": "df"
            }
          },
          "metadata": {},
          "execution_count": 11
        }
      ]
    },
    {
      "cell_type": "code",
      "source": [
        "# Vamos a dividir el dataset en variables booleanas y variables numéricas\n",
        "df_num = df.drop(columns=[\"PCOS (Y/N)\", \"Pregnant(Y/N)\", \"Weight gain(Y/N)\", \"hair growth(Y/N)\", \"Skin darkening (Y/N)\", \"Hair loss(Y/N)\", \"Pimples(Y/N)\", \"Fast food (Y/N)\", \"Reg.Exercise(Y/N)\"])\n",
        "columnas_bool = [\"PCOS (Y/N)\", \"Pregnant(Y/N)\", \"Weight gain(Y/N)\", \"hair growth(Y/N)\", \"Skin darkening (Y/N)\", \"Hair loss(Y/N)\", \"Pimples(Y/N)\", \"Fast food (Y/N)\", \"Reg.Exercise(Y/N)\"]\n",
        "df_bool = df[columnas_bool]"
      ],
      "metadata": {
        "id": "--vo9x-d9sRY"
      },
      "execution_count": 12,
      "outputs": []
    },
    {
      "cell_type": "markdown",
      "source": [
        "### Variables numéricas"
      ],
      "metadata": {
        "id": "T-jPdX5Bnfih"
      }
    },
    {
      "cell_type": "code",
      "source": [
        "df_num"
      ],
      "metadata": {
        "colab": {
          "base_uri": "https://localhost:8080/",
          "height": 513
        },
        "id": "R1SiWSS_ugg9",
        "outputId": "34d0eb8a-8054-4d81-8a76-a69005e70d5d"
      },
      "execution_count": 13,
      "outputs": [
        {
          "output_type": "execute_result",
          "data": {
            "text/plain": [
              "      Age (yrs)  Weight (Kg)  Height(Cm)         BMI  Blood Group  \\\n",
              "0          28.0         44.6      152.000  19.300000         15.0   \n",
              "1          36.0         65.0      161.500  24.921163         15.0   \n",
              "2          33.0         68.8      165.000  25.270891         11.0   \n",
              "3          37.0         65.0      148.000  29.674945         13.0   \n",
              "4          25.0         52.0      161.000  20.060954         11.0   \n",
              "..          ...          ...          ...        ...          ...   \n",
              "536        35.0         50.0      164.592  18.500000         17.0   \n",
              "537        30.0         63.2      158.000  25.300000         15.0   \n",
              "538        36.0         54.0      152.000  23.400000         13.0   \n",
              "539        27.0         50.0      150.000  22.200000         15.0   \n",
              "540        23.0         82.0      165.000  30.100000         13.0   \n",
              "\n",
              "     Pulse rate(bpm)   RR (breaths/min)  Hb(g/dl)  Cycle(R/I)  \\\n",
              "0                78.0              22.0     10.48         2.0   \n",
              "1                74.0              20.0     11.70         2.0   \n",
              "2                72.0              18.0     11.80         2.0   \n",
              "3                72.0              20.0     12.00         2.0   \n",
              "4                72.0              18.0     10.00         2.0   \n",
              "..                ...               ...       ...         ...   \n",
              "536              72.0              16.0     11.00         2.0   \n",
              "537              72.0              18.0     10.80         2.0   \n",
              "538              74.0              20.0     10.80         2.0   \n",
              "539              74.0              20.0     12.00         4.0   \n",
              "540              80.0              20.0     10.20         4.0   \n",
              "\n",
              "     Cycle length(days)  ...  Vit D3 (ng/mL)  PRG(ng/mL)  RBS(mg/dl)  \\\n",
              "0                   5.0  ...            17.1        0.57        92.0   \n",
              "1                   5.0  ...            61.3        0.97        92.0   \n",
              "2                   5.0  ...            49.7        0.36        84.0   \n",
              "3                   5.0  ...            33.4        0.36        76.0   \n",
              "4                   5.0  ...            43.8        0.38        84.0   \n",
              "..                  ...  ...             ...         ...         ...   \n",
              "536                 5.0  ...            36.6        0.25        92.0   \n",
              "537                 5.0  ...            23.0        0.25       108.0   \n",
              "538                 6.0  ...            22.5        0.25        92.0   \n",
              "539                 2.0  ...            22.4        0.25       115.0   \n",
              "540                 7.0  ...            17.4        0.37       108.0   \n",
              "\n",
              "     BP _Systolic (mmHg)  BP _Diastolic (mmHg)  Follicle No. (L)  \\\n",
              "0                  110.0                  80.0               3.0   \n",
              "1                  120.0                  70.0               3.0   \n",
              "2                  120.0                  80.0              13.0   \n",
              "3                  120.0                  70.0               2.0   \n",
              "4                  120.0                  80.0               3.0   \n",
              "..                   ...                   ...               ...   \n",
              "536                110.0                  70.0               1.0   \n",
              "537                110.0                  70.0               9.0   \n",
              "538                110.0                  80.0               1.0   \n",
              "539                110.0                  70.0               7.0   \n",
              "540                120.0                  70.0               9.0   \n",
              "\n",
              "     Follicle No. (R)  Avg. F size (L) (mm)  Avg. F size (R) (mm)  \\\n",
              "0                 3.0                  18.0                  18.0   \n",
              "1                 5.0                  15.0                  14.0   \n",
              "2                15.0                  18.0                  20.0   \n",
              "3                 2.0                  15.0                  14.0   \n",
              "4                 4.0                  16.0                  14.0   \n",
              "..                ...                   ...                   ...   \n",
              "536               0.0                  17.5                  10.0   \n",
              "537               7.0                  19.0                  18.0   \n",
              "538               0.0                  18.0                   9.0   \n",
              "539               6.0                  18.0                  16.0   \n",
              "540              10.0                  19.0                  18.0   \n",
              "\n",
              "     Endometrium (mm)  \n",
              "0                 8.5  \n",
              "1                 3.7  \n",
              "2                10.0  \n",
              "3                 7.5  \n",
              "4                 7.0  \n",
              "..                ...  \n",
              "536               6.7  \n",
              "537               8.2  \n",
              "538               7.3  \n",
              "539              11.5  \n",
              "540               6.9  \n",
              "\n",
              "[537 rows x 32 columns]"
            ],
            "text/html": [
              "\n",
              "  <div id=\"df-92a823df-74c8-4f41-bf60-fbb59f0b6ce7\" class=\"colab-df-container\">\n",
              "    <div>\n",
              "<style scoped>\n",
              "    .dataframe tbody tr th:only-of-type {\n",
              "        vertical-align: middle;\n",
              "    }\n",
              "\n",
              "    .dataframe tbody tr th {\n",
              "        vertical-align: top;\n",
              "    }\n",
              "\n",
              "    .dataframe thead th {\n",
              "        text-align: right;\n",
              "    }\n",
              "</style>\n",
              "<table border=\"1\" class=\"dataframe\">\n",
              "  <thead>\n",
              "    <tr style=\"text-align: right;\">\n",
              "      <th></th>\n",
              "      <th>Age (yrs)</th>\n",
              "      <th>Weight (Kg)</th>\n",
              "      <th>Height(Cm)</th>\n",
              "      <th>BMI</th>\n",
              "      <th>Blood Group</th>\n",
              "      <th>Pulse rate(bpm)</th>\n",
              "      <th>RR (breaths/min)</th>\n",
              "      <th>Hb(g/dl)</th>\n",
              "      <th>Cycle(R/I)</th>\n",
              "      <th>Cycle length(days)</th>\n",
              "      <th>...</th>\n",
              "      <th>Vit D3 (ng/mL)</th>\n",
              "      <th>PRG(ng/mL)</th>\n",
              "      <th>RBS(mg/dl)</th>\n",
              "      <th>BP _Systolic (mmHg)</th>\n",
              "      <th>BP _Diastolic (mmHg)</th>\n",
              "      <th>Follicle No. (L)</th>\n",
              "      <th>Follicle No. (R)</th>\n",
              "      <th>Avg. F size (L) (mm)</th>\n",
              "      <th>Avg. F size (R) (mm)</th>\n",
              "      <th>Endometrium (mm)</th>\n",
              "    </tr>\n",
              "  </thead>\n",
              "  <tbody>\n",
              "    <tr>\n",
              "      <th>0</th>\n",
              "      <td>28.0</td>\n",
              "      <td>44.6</td>\n",
              "      <td>152.000</td>\n",
              "      <td>19.300000</td>\n",
              "      <td>15.0</td>\n",
              "      <td>78.0</td>\n",
              "      <td>22.0</td>\n",
              "      <td>10.48</td>\n",
              "      <td>2.0</td>\n",
              "      <td>5.0</td>\n",
              "      <td>...</td>\n",
              "      <td>17.1</td>\n",
              "      <td>0.57</td>\n",
              "      <td>92.0</td>\n",
              "      <td>110.0</td>\n",
              "      <td>80.0</td>\n",
              "      <td>3.0</td>\n",
              "      <td>3.0</td>\n",
              "      <td>18.0</td>\n",
              "      <td>18.0</td>\n",
              "      <td>8.5</td>\n",
              "    </tr>\n",
              "    <tr>\n",
              "      <th>1</th>\n",
              "      <td>36.0</td>\n",
              "      <td>65.0</td>\n",
              "      <td>161.500</td>\n",
              "      <td>24.921163</td>\n",
              "      <td>15.0</td>\n",
              "      <td>74.0</td>\n",
              "      <td>20.0</td>\n",
              "      <td>11.70</td>\n",
              "      <td>2.0</td>\n",
              "      <td>5.0</td>\n",
              "      <td>...</td>\n",
              "      <td>61.3</td>\n",
              "      <td>0.97</td>\n",
              "      <td>92.0</td>\n",
              "      <td>120.0</td>\n",
              "      <td>70.0</td>\n",
              "      <td>3.0</td>\n",
              "      <td>5.0</td>\n",
              "      <td>15.0</td>\n",
              "      <td>14.0</td>\n",
              "      <td>3.7</td>\n",
              "    </tr>\n",
              "    <tr>\n",
              "      <th>2</th>\n",
              "      <td>33.0</td>\n",
              "      <td>68.8</td>\n",
              "      <td>165.000</td>\n",
              "      <td>25.270891</td>\n",
              "      <td>11.0</td>\n",
              "      <td>72.0</td>\n",
              "      <td>18.0</td>\n",
              "      <td>11.80</td>\n",
              "      <td>2.0</td>\n",
              "      <td>5.0</td>\n",
              "      <td>...</td>\n",
              "      <td>49.7</td>\n",
              "      <td>0.36</td>\n",
              "      <td>84.0</td>\n",
              "      <td>120.0</td>\n",
              "      <td>80.0</td>\n",
              "      <td>13.0</td>\n",
              "      <td>15.0</td>\n",
              "      <td>18.0</td>\n",
              "      <td>20.0</td>\n",
              "      <td>10.0</td>\n",
              "    </tr>\n",
              "    <tr>\n",
              "      <th>3</th>\n",
              "      <td>37.0</td>\n",
              "      <td>65.0</td>\n",
              "      <td>148.000</td>\n",
              "      <td>29.674945</td>\n",
              "      <td>13.0</td>\n",
              "      <td>72.0</td>\n",
              "      <td>20.0</td>\n",
              "      <td>12.00</td>\n",
              "      <td>2.0</td>\n",
              "      <td>5.0</td>\n",
              "      <td>...</td>\n",
              "      <td>33.4</td>\n",
              "      <td>0.36</td>\n",
              "      <td>76.0</td>\n",
              "      <td>120.0</td>\n",
              "      <td>70.0</td>\n",
              "      <td>2.0</td>\n",
              "      <td>2.0</td>\n",
              "      <td>15.0</td>\n",
              "      <td>14.0</td>\n",
              "      <td>7.5</td>\n",
              "    </tr>\n",
              "    <tr>\n",
              "      <th>4</th>\n",
              "      <td>25.0</td>\n",
              "      <td>52.0</td>\n",
              "      <td>161.000</td>\n",
              "      <td>20.060954</td>\n",
              "      <td>11.0</td>\n",
              "      <td>72.0</td>\n",
              "      <td>18.0</td>\n",
              "      <td>10.00</td>\n",
              "      <td>2.0</td>\n",
              "      <td>5.0</td>\n",
              "      <td>...</td>\n",
              "      <td>43.8</td>\n",
              "      <td>0.38</td>\n",
              "      <td>84.0</td>\n",
              "      <td>120.0</td>\n",
              "      <td>80.0</td>\n",
              "      <td>3.0</td>\n",
              "      <td>4.0</td>\n",
              "      <td>16.0</td>\n",
              "      <td>14.0</td>\n",
              "      <td>7.0</td>\n",
              "    </tr>\n",
              "    <tr>\n",
              "      <th>...</th>\n",
              "      <td>...</td>\n",
              "      <td>...</td>\n",
              "      <td>...</td>\n",
              "      <td>...</td>\n",
              "      <td>...</td>\n",
              "      <td>...</td>\n",
              "      <td>...</td>\n",
              "      <td>...</td>\n",
              "      <td>...</td>\n",
              "      <td>...</td>\n",
              "      <td>...</td>\n",
              "      <td>...</td>\n",
              "      <td>...</td>\n",
              "      <td>...</td>\n",
              "      <td>...</td>\n",
              "      <td>...</td>\n",
              "      <td>...</td>\n",
              "      <td>...</td>\n",
              "      <td>...</td>\n",
              "      <td>...</td>\n",
              "      <td>...</td>\n",
              "    </tr>\n",
              "    <tr>\n",
              "      <th>536</th>\n",
              "      <td>35.0</td>\n",
              "      <td>50.0</td>\n",
              "      <td>164.592</td>\n",
              "      <td>18.500000</td>\n",
              "      <td>17.0</td>\n",
              "      <td>72.0</td>\n",
              "      <td>16.0</td>\n",
              "      <td>11.00</td>\n",
              "      <td>2.0</td>\n",
              "      <td>5.0</td>\n",
              "      <td>...</td>\n",
              "      <td>36.6</td>\n",
              "      <td>0.25</td>\n",
              "      <td>92.0</td>\n",
              "      <td>110.0</td>\n",
              "      <td>70.0</td>\n",
              "      <td>1.0</td>\n",
              "      <td>0.0</td>\n",
              "      <td>17.5</td>\n",
              "      <td>10.0</td>\n",
              "      <td>6.7</td>\n",
              "    </tr>\n",
              "    <tr>\n",
              "      <th>537</th>\n",
              "      <td>30.0</td>\n",
              "      <td>63.2</td>\n",
              "      <td>158.000</td>\n",
              "      <td>25.300000</td>\n",
              "      <td>15.0</td>\n",
              "      <td>72.0</td>\n",
              "      <td>18.0</td>\n",
              "      <td>10.80</td>\n",
              "      <td>2.0</td>\n",
              "      <td>5.0</td>\n",
              "      <td>...</td>\n",
              "      <td>23.0</td>\n",
              "      <td>0.25</td>\n",
              "      <td>108.0</td>\n",
              "      <td>110.0</td>\n",
              "      <td>70.0</td>\n",
              "      <td>9.0</td>\n",
              "      <td>7.0</td>\n",
              "      <td>19.0</td>\n",
              "      <td>18.0</td>\n",
              "      <td>8.2</td>\n",
              "    </tr>\n",
              "    <tr>\n",
              "      <th>538</th>\n",
              "      <td>36.0</td>\n",
              "      <td>54.0</td>\n",
              "      <td>152.000</td>\n",
              "      <td>23.400000</td>\n",
              "      <td>13.0</td>\n",
              "      <td>74.0</td>\n",
              "      <td>20.0</td>\n",
              "      <td>10.80</td>\n",
              "      <td>2.0</td>\n",
              "      <td>6.0</td>\n",
              "      <td>...</td>\n",
              "      <td>22.5</td>\n",
              "      <td>0.25</td>\n",
              "      <td>92.0</td>\n",
              "      <td>110.0</td>\n",
              "      <td>80.0</td>\n",
              "      <td>1.0</td>\n",
              "      <td>0.0</td>\n",
              "      <td>18.0</td>\n",
              "      <td>9.0</td>\n",
              "      <td>7.3</td>\n",
              "    </tr>\n",
              "    <tr>\n",
              "      <th>539</th>\n",
              "      <td>27.0</td>\n",
              "      <td>50.0</td>\n",
              "      <td>150.000</td>\n",
              "      <td>22.200000</td>\n",
              "      <td>15.0</td>\n",
              "      <td>74.0</td>\n",
              "      <td>20.0</td>\n",
              "      <td>12.00</td>\n",
              "      <td>4.0</td>\n",
              "      <td>2.0</td>\n",
              "      <td>...</td>\n",
              "      <td>22.4</td>\n",
              "      <td>0.25</td>\n",
              "      <td>115.0</td>\n",
              "      <td>110.0</td>\n",
              "      <td>70.0</td>\n",
              "      <td>7.0</td>\n",
              "      <td>6.0</td>\n",
              "      <td>18.0</td>\n",
              "      <td>16.0</td>\n",
              "      <td>11.5</td>\n",
              "    </tr>\n",
              "    <tr>\n",
              "      <th>540</th>\n",
              "      <td>23.0</td>\n",
              "      <td>82.0</td>\n",
              "      <td>165.000</td>\n",
              "      <td>30.100000</td>\n",
              "      <td>13.0</td>\n",
              "      <td>80.0</td>\n",
              "      <td>20.0</td>\n",
              "      <td>10.20</td>\n",
              "      <td>4.0</td>\n",
              "      <td>7.0</td>\n",
              "      <td>...</td>\n",
              "      <td>17.4</td>\n",
              "      <td>0.37</td>\n",
              "      <td>108.0</td>\n",
              "      <td>120.0</td>\n",
              "      <td>70.0</td>\n",
              "      <td>9.0</td>\n",
              "      <td>10.0</td>\n",
              "      <td>19.0</td>\n",
              "      <td>18.0</td>\n",
              "      <td>6.9</td>\n",
              "    </tr>\n",
              "  </tbody>\n",
              "</table>\n",
              "<p>537 rows × 32 columns</p>\n",
              "</div>\n",
              "    <div class=\"colab-df-buttons\">\n",
              "\n",
              "  <div class=\"colab-df-container\">\n",
              "    <button class=\"colab-df-convert\" onclick=\"convertToInteractive('df-92a823df-74c8-4f41-bf60-fbb59f0b6ce7')\"\n",
              "            title=\"Convert this dataframe to an interactive table.\"\n",
              "            style=\"display:none;\">\n",
              "\n",
              "  <svg xmlns=\"http://www.w3.org/2000/svg\" height=\"24px\" viewBox=\"0 -960 960 960\">\n",
              "    <path d=\"M120-120v-720h720v720H120Zm60-500h600v-160H180v160Zm220 220h160v-160H400v160Zm0 220h160v-160H400v160ZM180-400h160v-160H180v160Zm440 0h160v-160H620v160ZM180-180h160v-160H180v160Zm440 0h160v-160H620v160Z\"/>\n",
              "  </svg>\n",
              "    </button>\n",
              "\n",
              "  <style>\n",
              "    .colab-df-container {\n",
              "      display:flex;\n",
              "      gap: 12px;\n",
              "    }\n",
              "\n",
              "    .colab-df-convert {\n",
              "      background-color: #E8F0FE;\n",
              "      border: none;\n",
              "      border-radius: 50%;\n",
              "      cursor: pointer;\n",
              "      display: none;\n",
              "      fill: #1967D2;\n",
              "      height: 32px;\n",
              "      padding: 0 0 0 0;\n",
              "      width: 32px;\n",
              "    }\n",
              "\n",
              "    .colab-df-convert:hover {\n",
              "      background-color: #E2EBFA;\n",
              "      box-shadow: 0px 1px 2px rgba(60, 64, 67, 0.3), 0px 1px 3px 1px rgba(60, 64, 67, 0.15);\n",
              "      fill: #174EA6;\n",
              "    }\n",
              "\n",
              "    .colab-df-buttons div {\n",
              "      margin-bottom: 4px;\n",
              "    }\n",
              "\n",
              "    [theme=dark] .colab-df-convert {\n",
              "      background-color: #3B4455;\n",
              "      fill: #D2E3FC;\n",
              "    }\n",
              "\n",
              "    [theme=dark] .colab-df-convert:hover {\n",
              "      background-color: #434B5C;\n",
              "      box-shadow: 0px 1px 3px 1px rgba(0, 0, 0, 0.15);\n",
              "      filter: drop-shadow(0px 1px 2px rgba(0, 0, 0, 0.3));\n",
              "      fill: #FFFFFF;\n",
              "    }\n",
              "  </style>\n",
              "\n",
              "    <script>\n",
              "      const buttonEl =\n",
              "        document.querySelector('#df-92a823df-74c8-4f41-bf60-fbb59f0b6ce7 button.colab-df-convert');\n",
              "      buttonEl.style.display =\n",
              "        google.colab.kernel.accessAllowed ? 'block' : 'none';\n",
              "\n",
              "      async function convertToInteractive(key) {\n",
              "        const element = document.querySelector('#df-92a823df-74c8-4f41-bf60-fbb59f0b6ce7');\n",
              "        const dataTable =\n",
              "          await google.colab.kernel.invokeFunction('convertToInteractive',\n",
              "                                                    [key], {});\n",
              "        if (!dataTable) return;\n",
              "\n",
              "        const docLinkHtml = 'Like what you see? Visit the ' +\n",
              "          '<a target=\"_blank\" href=https://colab.research.google.com/notebooks/data_table.ipynb>data table notebook</a>'\n",
              "          + ' to learn more about interactive tables.';\n",
              "        element.innerHTML = '';\n",
              "        dataTable['output_type'] = 'display_data';\n",
              "        await google.colab.output.renderOutput(dataTable, element);\n",
              "        const docLink = document.createElement('div');\n",
              "        docLink.innerHTML = docLinkHtml;\n",
              "        element.appendChild(docLink);\n",
              "      }\n",
              "    </script>\n",
              "  </div>\n",
              "\n",
              "\n",
              "<div id=\"df-37ce57eb-1a14-4b3b-ac6b-4953d385bb81\">\n",
              "  <button class=\"colab-df-quickchart\" onclick=\"quickchart('df-37ce57eb-1a14-4b3b-ac6b-4953d385bb81')\"\n",
              "            title=\"Suggest charts\"\n",
              "            style=\"display:none;\">\n",
              "\n",
              "<svg xmlns=\"http://www.w3.org/2000/svg\" height=\"24px\"viewBox=\"0 0 24 24\"\n",
              "     width=\"24px\">\n",
              "    <g>\n",
              "        <path d=\"M19 3H5c-1.1 0-2 .9-2 2v14c0 1.1.9 2 2 2h14c1.1 0 2-.9 2-2V5c0-1.1-.9-2-2-2zM9 17H7v-7h2v7zm4 0h-2V7h2v10zm4 0h-2v-4h2v4z\"/>\n",
              "    </g>\n",
              "</svg>\n",
              "  </button>\n",
              "\n",
              "<style>\n",
              "  .colab-df-quickchart {\n",
              "      --bg-color: #E8F0FE;\n",
              "      --fill-color: #1967D2;\n",
              "      --hover-bg-color: #E2EBFA;\n",
              "      --hover-fill-color: #174EA6;\n",
              "      --disabled-fill-color: #AAA;\n",
              "      --disabled-bg-color: #DDD;\n",
              "  }\n",
              "\n",
              "  [theme=dark] .colab-df-quickchart {\n",
              "      --bg-color: #3B4455;\n",
              "      --fill-color: #D2E3FC;\n",
              "      --hover-bg-color: #434B5C;\n",
              "      --hover-fill-color: #FFFFFF;\n",
              "      --disabled-bg-color: #3B4455;\n",
              "      --disabled-fill-color: #666;\n",
              "  }\n",
              "\n",
              "  .colab-df-quickchart {\n",
              "    background-color: var(--bg-color);\n",
              "    border: none;\n",
              "    border-radius: 50%;\n",
              "    cursor: pointer;\n",
              "    display: none;\n",
              "    fill: var(--fill-color);\n",
              "    height: 32px;\n",
              "    padding: 0;\n",
              "    width: 32px;\n",
              "  }\n",
              "\n",
              "  .colab-df-quickchart:hover {\n",
              "    background-color: var(--hover-bg-color);\n",
              "    box-shadow: 0 1px 2px rgba(60, 64, 67, 0.3), 0 1px 3px 1px rgba(60, 64, 67, 0.15);\n",
              "    fill: var(--button-hover-fill-color);\n",
              "  }\n",
              "\n",
              "  .colab-df-quickchart-complete:disabled,\n",
              "  .colab-df-quickchart-complete:disabled:hover {\n",
              "    background-color: var(--disabled-bg-color);\n",
              "    fill: var(--disabled-fill-color);\n",
              "    box-shadow: none;\n",
              "  }\n",
              "\n",
              "  .colab-df-spinner {\n",
              "    border: 2px solid var(--fill-color);\n",
              "    border-color: transparent;\n",
              "    border-bottom-color: var(--fill-color);\n",
              "    animation:\n",
              "      spin 1s steps(1) infinite;\n",
              "  }\n",
              "\n",
              "  @keyframes spin {\n",
              "    0% {\n",
              "      border-color: transparent;\n",
              "      border-bottom-color: var(--fill-color);\n",
              "      border-left-color: var(--fill-color);\n",
              "    }\n",
              "    20% {\n",
              "      border-color: transparent;\n",
              "      border-left-color: var(--fill-color);\n",
              "      border-top-color: var(--fill-color);\n",
              "    }\n",
              "    30% {\n",
              "      border-color: transparent;\n",
              "      border-left-color: var(--fill-color);\n",
              "      border-top-color: var(--fill-color);\n",
              "      border-right-color: var(--fill-color);\n",
              "    }\n",
              "    40% {\n",
              "      border-color: transparent;\n",
              "      border-right-color: var(--fill-color);\n",
              "      border-top-color: var(--fill-color);\n",
              "    }\n",
              "    60% {\n",
              "      border-color: transparent;\n",
              "      border-right-color: var(--fill-color);\n",
              "    }\n",
              "    80% {\n",
              "      border-color: transparent;\n",
              "      border-right-color: var(--fill-color);\n",
              "      border-bottom-color: var(--fill-color);\n",
              "    }\n",
              "    90% {\n",
              "      border-color: transparent;\n",
              "      border-bottom-color: var(--fill-color);\n",
              "    }\n",
              "  }\n",
              "</style>\n",
              "\n",
              "  <script>\n",
              "    async function quickchart(key) {\n",
              "      const quickchartButtonEl =\n",
              "        document.querySelector('#' + key + ' button');\n",
              "      quickchartButtonEl.disabled = true;  // To prevent multiple clicks.\n",
              "      quickchartButtonEl.classList.add('colab-df-spinner');\n",
              "      try {\n",
              "        const charts = await google.colab.kernel.invokeFunction(\n",
              "            'suggestCharts', [key], {});\n",
              "      } catch (error) {\n",
              "        console.error('Error during call to suggestCharts:', error);\n",
              "      }\n",
              "      quickchartButtonEl.classList.remove('colab-df-spinner');\n",
              "      quickchartButtonEl.classList.add('colab-df-quickchart-complete');\n",
              "    }\n",
              "    (() => {\n",
              "      let quickchartButtonEl =\n",
              "        document.querySelector('#df-37ce57eb-1a14-4b3b-ac6b-4953d385bb81 button');\n",
              "      quickchartButtonEl.style.display =\n",
              "        google.colab.kernel.accessAllowed ? 'block' : 'none';\n",
              "    })();\n",
              "  </script>\n",
              "</div>\n",
              "    </div>\n",
              "  </div>\n"
            ],
            "application/vnd.google.colaboratory.intrinsic+json": {
              "type": "dataframe",
              "variable_name": "df_num"
            }
          },
          "metadata": {},
          "execution_count": 13
        }
      ]
    },
    {
      "cell_type": "markdown",
      "source": [
        "#### Edad"
      ],
      "metadata": {
        "id": "nEhPg_QRnoS2"
      }
    },
    {
      "cell_type": "code",
      "source": [
        "plt.hist(df_num[\" Age (yrs)\"], bins=10,edgecolor = \"black\")\n",
        "plt.xlabel('Edad')\n",
        "plt.ylabel('Frecuencia')\n",
        "plt.title('Histograma de Edad')"
      ],
      "metadata": {
        "id": "-RREFjH4ALUs",
        "colab": {
          "base_uri": "https://localhost:8080/",
          "height": 489
        },
        "outputId": "fc5e4742-b976-4d33-b90c-eeb1552ec903"
      },
      "execution_count": 14,
      "outputs": [
        {
          "output_type": "execute_result",
          "data": {
            "text/plain": [
              "Text(0.5, 1.0, 'Histograma de Edad')"
            ]
          },
          "metadata": {},
          "execution_count": 14
        },
        {
          "output_type": "display_data",
          "data": {
            "text/plain": [
              "<Figure size 640x480 with 1 Axes>"
            ],
            "image/png": "[encoded data removed]"
          },
          "metadata": {}
        }
      ]
    },
    {
      "cell_type": "markdown",
      "source": [
        "Aquí podemos observar cómo es que se distribuye la edad entre todos los registros, donde podemos observar que la gran mayoría de los registros se encuentran entre los 25 y los 31 años."
      ],
      "metadata": {
        "id": "tGVTm4DKvewi"
      }
    },
    {
      "cell_type": "markdown",
      "source": [
        "#### Peso"
      ],
      "metadata": {
        "id": "E3wphX23ubOu"
      }
    },
    {
      "cell_type": "code",
      "source": [
        "plt.boxplot(df_num[\"Weight (Kg)\"], vert=False)\n",
        "\n",
        "plt.xlabel('Peso (Kg)')\n",
        "plt.title('Boxplot Peso')"
      ],
      "metadata": {
        "colab": {
          "base_uri": "https://localhost:8080/",
          "height": 489
        },
        "id": "kZDocdfeu48K",
        "outputId": "3b69678c-fe86-4d29-8f9e-f1f9394d8932"
      },
      "execution_count": 15,
      "outputs": [
        {
          "output_type": "execute_result",
          "data": {
            "text/plain": [
              "Text(0.5, 1.0, 'Boxplot Peso')"
            ]
          },
          "metadata": {},
          "execution_count": 15
        },
        {
          "output_type": "display_data",
          "data": {
            "text/plain": [
              "<Figure size 640x480 with 1 Axes>"
            ],
            "image/png": "[encoded data removed]"
          },
          "metadata": {}
        }
      ]
    },
    {
      "cell_type": "markdown",
      "source": [
        "Con este diagrama de cajas y bigotes se puede observar cómo se encuentra la distrubución del peso en los registros, dando un rango intercuartílico de 34 a 86 kilogramos aproximadamente, siendo la mediana aproximadamente 60 kilogramos, con ciertos valores extremos tanto inferiores como superiores."
      ],
      "metadata": {
        "id": "QHNNg4sDwgRO"
      }
    },
    {
      "cell_type": "markdown",
      "source": [
        "#### Altura"
      ],
      "metadata": {
        "id": "GN29211CxqRh"
      }
    },
    {
      "cell_type": "code",
      "source": [
        "plt.boxplot(df_num[\"Height(Cm) \"], vert=False)\n",
        "\n",
        "plt.xlabel('Altura (Cm)')\n",
        "plt.title('Boxplot Altura')"
      ],
      "metadata": {
        "colab": {
          "base_uri": "https://localhost:8080/",
          "height": 489
        },
        "id": "HF9R9nrCxvHL",
        "outputId": "bfc5151f-d479-4ca7-fe01-061118ee0dda"
      },
      "execution_count": 16,
      "outputs": [
        {
          "output_type": "execute_result",
          "data": {
            "text/plain": [
              "Text(0.5, 1.0, 'Boxplot Altura')"
            ]
          },
          "metadata": {},
          "execution_count": 16
        },
        {
          "output_type": "display_data",
          "data": {
            "text/plain": [
              "<Figure size 640x480 with 1 Axes>"
            ],
            "image/png": "[encoded data removed]"
          },
          "metadata": {}
        }
      ]
    },
    {
      "cell_type": "markdown",
      "source": [
        "De este diagrama de cajas y bigotes se puede apreciar lo mismo que con el anterior, el rango intercuartílico de esta variable es de 1.4 metros hasta 1.72 metros aproximadamente, teniendo solamente cuatro valores atípicos, con una mediana de aproximadamente 1.56 metros."
      ],
      "metadata": {
        "id": "345Soe6Nx2d6"
      }
    },
    {
      "cell_type": "markdown",
      "source": [
        "#### Indice de Masa Corporal"
      ],
      "metadata": {
        "id": "3fkVqpdUyUmZ"
      }
    },
    {
      "cell_type": "code",
      "source": [
        "plt.hist(df_num[\"BMI\"], bins=4, edgecolor = \"black\")\n",
        "plt.xlabel('IMC')\n",
        "plt.ylabel('Frecuencia')\n",
        "plt.title('Histograma de IMC')"
      ],
      "metadata": {
        "colab": {
          "base_uri": "https://localhost:8080/",
          "height": 489
        },
        "id": "8BHQbh9MyY4Q",
        "outputId": "75893d85-60f4-4bef-a5ad-bd3e8de66f5c"
      },
      "execution_count": 17,
      "outputs": [
        {
          "output_type": "execute_result",
          "data": {
            "text/plain": [
              "Text(0.5, 1.0, 'Histograma de IMC')"
            ]
          },
          "metadata": {},
          "execution_count": 17
        },
        {
          "output_type": "display_data",
          "data": {
            "text/plain": [
              "<Figure size 640x480 with 1 Axes>"
            ],
            "image/png": "[encoded data removed]"
          },
          "metadata": {}
        }
      ]
    },
    {
      "cell_type": "markdown",
      "source": [
        "De este histograma se puede observar que el grupo con más registros con amplia diferencia es el del peso normal (18.5-24.9) seguido del grupo con sobrepeso (25.0-29.9)"
      ],
      "metadata": {
        "id": "FMbEDpFnywkv"
      }
    },
    {
      "cell_type": "markdown",
      "source": [
        "#### Grupo sanguíneo"
      ],
      "metadata": {
        "id": "ehvvDYRpzrcQ"
      }
    },
    {
      "cell_type": "code",
      "source": [
        "frecuencia_bg = df[\"Blood Group\"].value_counts()\n",
        "frecuencia_bg.plot(kind='pie', autopct='%1.1f%%')\n",
        "plt.title('Tipos de sangre')"
      ],
      "metadata": {
        "colab": {
          "base_uri": "https://localhost:8080/",
          "height": 445
        },
        "id": "Rb0lGoNLzwPP",
        "outputId": "057bdebe-baf4-4731-a4a3-702c47591bea"
      },
      "execution_count": 18,
      "outputs": [
        {
          "output_type": "execute_result",
          "data": {
            "text/plain": [
              "Text(0.5, 1.0, 'Tipos de sangre')"
            ]
          },
          "metadata": {},
          "execution_count": 18
        },
        {
          "output_type": "display_data",
          "data": {
            "text/plain": [
              "<Figure size 640x480 with 1 Axes>"
            ],
            "image/png": "[encoded data removed]"
          },
          "metadata": {}
        }
      ]
    },
    {
      "cell_type": "markdown",
      "source": [
        "Aquí se puede observar que solamente entre dos tipos de sangre (15 y 13) se agrupa a más del 50% de los registros y si se juntan con la tercera opción (11) se tienen más del 75% de los registros totales, por lo que es sumamente común que una mujer tenga alguno de estos tres tipos de sangre."
      ],
      "metadata": {
        "id": "-IuMJPnn2Nt2"
      }
    },
    {
      "cell_type": "markdown",
      "source": [
        "#### Pulsos por minuto"
      ],
      "metadata": {
        "id": "3HXs8KHzG5zt"
      }
    },
    {
      "cell_type": "code",
      "source": [
        "plt.boxplot(df_num[\"Pulse rate(bpm) \"], vert=False)\n",
        "plt.xlabel('Pulsos por minuto')\n",
        "plt.title('Boxplot Pulsos')"
      ],
      "metadata": {
        "colab": {
          "base_uri": "https://localhost:8080/",
          "height": 489
        },
        "id": "PvtmGqjdG9NK",
        "outputId": "6eeffdc6-b79a-4484-aeb7-047079c7f562"
      },
      "execution_count": 19,
      "outputs": [
        {
          "output_type": "execute_result",
          "data": {
            "text/plain": [
              "Text(0.5, 1.0, 'Boxplot Pulsos')"
            ]
          },
          "metadata": {},
          "execution_count": 19
        },
        {
          "output_type": "display_data",
          "data": {
            "text/plain": [
              "<Figure size 640x480 with 1 Axes>"
            ],
            "image/png": "[encoded data removed]"
          },
          "metadata": {}
        }
      ]
    },
    {
      "cell_type": "markdown",
      "source": [
        "Aquí se demuestra que el dataset contiene errores, pues existen dos registros (13 y 18) que son valores imposibles, por lo que se asumirá que estos valores deberían de ser 73 y 78 respectivamente y se hará la modificación manualmente."
      ],
      "metadata": {
        "id": "5__SH8mPHl8g"
      }
    },
    {
      "cell_type": "code",
      "source": [
        "df_num['Pulse rate(bpm) '] = df_num['Pulse rate(bpm) '].replace(13, 73)\n",
        "df_num['Pulse rate(bpm) '] = df_num['Pulse rate(bpm) '].replace(18, 78)\n",
        "\n",
        "# También se corrige en el dataset original\n",
        "df['Pulse rate(bpm) '] = df['Pulse rate(bpm) '].replace(13, 73)\n",
        "df['Pulse rate(bpm) '] = df['Pulse rate(bpm) '].replace(18, 78)\n",
        "\n",
        "# Se muestra el diagrama nuevamente\n",
        "plt.boxplot(df_num[\"Pulse rate(bpm) \"], vert=False)\n",
        "plt.xlabel('Pulsos por minuto')\n",
        "plt.title('Boxplot Pulsos por minuto')"
      ],
      "metadata": {
        "colab": {
          "base_uri": "https://localhost:8080/",
          "height": 489
        },
        "id": "q8a9V5AWIvON",
        "outputId": "e582da3f-50e3-4532-9975-7deda9cf60b5"
      },
      "execution_count": 20,
      "outputs": [
        {
          "output_type": "execute_result",
          "data": {
            "text/plain": [
              "Text(0.5, 1.0, 'Boxplot Pulsos por minuto')"
            ]
          },
          "metadata": {},
          "execution_count": 20
        },
        {
          "output_type": "display_data",
          "data": {
            "text/plain": [
              "<Figure size 640x480 with 1 Axes>"
            ],
            "image/png": "[encoded data removed]"
          },
          "metadata": {}
        }
      ]
    },
    {
      "cell_type": "markdown",
      "source": [
        "En este boxplot nuevo se puede apreciar bien la información, se muestra que el rango intercuartílico es de 70 a 76 pulsos por minuto (ppm), la mediana se encuentra en 72 ppm y existen tres datos extremos superiores."
      ],
      "metadata": {
        "id": "HaccvsM1KvA2"
      }
    },
    {
      "cell_type": "markdown",
      "source": [
        "#### Respiraciones por minuto"
      ],
      "metadata": {
        "id": "3oAHX08QLC-W"
      }
    },
    {
      "cell_type": "code",
      "source": [
        "plt.boxplot(df_num[\"RR (breaths/min)\"], vert=False)\n",
        "plt.xlabel('Respiraciones por minuto')\n",
        "plt.title('Boxplot Respiraciones por minuto')"
      ],
      "metadata": {
        "colab": {
          "base_uri": "https://localhost:8080/",
          "height": 489
        },
        "id": "5uLe0mwqJP2a",
        "outputId": "7d7c47d1-a038-4669-b91e-f47c49774674"
      },
      "execution_count": 21,
      "outputs": [
        {
          "output_type": "execute_result",
          "data": {
            "text/plain": [
              "Text(0.5, 1.0, 'Boxplot Respiraciones por minuto')"
            ]
          },
          "metadata": {},
          "execution_count": 21
        },
        {
          "output_type": "display_data",
          "data": {
            "text/plain": [
              "<Figure size 640x480 with 1 Axes>"
            ],
            "image/png": "[encoded data removed]"
          },
          "metadata": {}
        }
      ]
    },
    {
      "cell_type": "markdown",
      "source": [
        "Este diagrama es muy parecido al anterior, se muestra que el rango intercuartílico de respiraciones por minuto es de 16 a 22, mientras qye la mediana se ubica en 18 respiraciones por minuto, por último se tienen tres datos extremos superiores nuevamente."
      ],
      "metadata": {
        "id": "b-oqK_3YLN-S"
      }
    },
    {
      "cell_type": "markdown",
      "source": [
        "#### Hemoglobina"
      ],
      "metadata": {
        "id": "AqrsqM3ELhRK"
      }
    },
    {
      "cell_type": "code",
      "source": [
        "plt.boxplot(df_num[\"Hb(g/dl)\"], vert=False)\n",
        "plt.xlabel('Hemoglobina (g/dl)')\n",
        "plt.title('Boxplot Niveles de Hemoglobina')"
      ],
      "metadata": {
        "colab": {
          "base_uri": "https://localhost:8080/",
          "height": 489
        },
        "id": "3Vy-AffoLjGG",
        "outputId": "2f65a4a1-3dfa-4a92-df4b-ce754d27487e"
      },
      "execution_count": 22,
      "outputs": [
        {
          "output_type": "execute_result",
          "data": {
            "text/plain": [
              "Text(0.5, 1.0, 'Boxplot Niveles de Hemoglobina')"
            ]
          },
          "metadata": {},
          "execution_count": 22
        },
        {
          "output_type": "display_data",
          "data": {
            "text/plain": [
              "<Figure size 640x480 with 1 Axes>"
            ],
            "image/png": "[encoded data removed]"
          },
          "metadata": {}
        }
      ]
    },
    {
      "cell_type": "markdown",
      "source": [
        "Al igual que en los dos gráficos anteriores se empleó un diagrama de cajas y bigotes para representar el nivel de hemoglobina, se tiene un rango intercuartílico de 9 a 13.4 g/dl con una mediana de 11 g/dl mientras que se tienen 5 datos atípicos, uno inferior y cuatro superiores."
      ],
      "metadata": {
        "id": "JoRsrO1ZL2xx"
      }
    },
    {
      "cell_type": "markdown",
      "source": [
        "#### Regularidad e irregularidad en el periodo"
      ],
      "metadata": {
        "id": "0NzUKhcTMsh2"
      }
    },
    {
      "cell_type": "code",
      "source": [
        "frecuencia_cri = df[\"Cycle(R/I)\"].value_counts()\n",
        "frecuencia_cri.plot(kind='pie', autopct='%1.1f%%')\n",
        "plt.title('Conteo Irregularidad en Periodo')"
      ],
      "metadata": {
        "colab": {
          "base_uri": "https://localhost:8080/",
          "height": 445
        },
        "id": "bFgn2TZwMwpk",
        "outputId": "e64f96da-3c7d-4019-fb22-ec1ac1881342"
      },
      "execution_count": 23,
      "outputs": [
        {
          "output_type": "execute_result",
          "data": {
            "text/plain": [
              "Text(0.5, 1.0, 'Conteo Irregularidad en Periodo')"
            ]
          },
          "metadata": {},
          "execution_count": 23
        },
        {
          "output_type": "display_data",
          "data": {
            "text/plain": [
              "<Figure size 640x480 with 1 Axes>"
            ],
            "image/png": "[encoded data removed]"
          },
          "metadata": {}
        }
      ]
    },
    {
      "cell_type": "markdown",
      "source": [
        "En este caso, dentro del dataset no queda muy claro si el 2 hace referencia a regular o irregular y en la documentación no hay información al respecto, por lo que se asume que 2 es regular y 4 es irregular. Con esto en mente se puede observar que casi tres cuartas partes de los registros mantienen un periodo regular. También se muestra un valor 5, que no se explica su significado, pero al ser solamente un registro se opta por ignorarlo."
      ],
      "metadata": {
        "id": "M5YR7AD8M_8G"
      }
    },
    {
      "cell_type": "markdown",
      "source": [
        "#### Duración del periodo"
      ],
      "metadata": {
        "id": "rZ2KVjqKO37V"
      }
    },
    {
      "cell_type": "code",
      "source": [
        "frecuencia_cl = df[\"Cycle length(days)\"].value_counts()\n",
        "frecuencia_cl.plot(kind=\"bar\")\n",
        "plt.title('Duración del periodo')\n",
        "plt.xlabel(\"Duración del periodo (dias)\")"
      ],
      "metadata": {
        "colab": {
          "base_uri": "https://localhost:8080/",
          "height": 507
        },
        "id": "YIvrvlIdO5Xv",
        "outputId": "844dcbbe-b5f1-4e83-8df4-0d7aa95e3e8c"
      },
      "execution_count": 24,
      "outputs": [
        {
          "output_type": "execute_result",
          "data": {
            "text/plain": [
              "Text(0.5, 0, 'Duración del periodo (dias)')"
            ]
          },
          "metadata": {},
          "execution_count": 24
        },
        {
          "output_type": "display_data",
          "data": {
            "text/plain": [
              "<Figure size 640x480 with 1 Axes>"
            ],
            "image/png": "[encoded data removed]"
          },
          "metadata": {}
        }
      ]
    },
    {
      "cell_type": "markdown",
      "source": [
        "En esta gráfica se puede observar que lo más normal es que el periodo dure un aproximado de 5 días, con los siguientes valores más comunes siendo un día más o un día menos, mientras que el máximo que duró un periodo fueron 12 días y el mínimo 0."
      ],
      "metadata": {
        "id": "n0tu93anPhld"
      }
    },
    {
      "cell_type": "markdown",
      "source": [
        "#### Años de matrimonio"
      ],
      "metadata": {
        "id": "LnoAnIybP2jn"
      }
    },
    {
      "cell_type": "code",
      "source": [
        "plt.boxplot(df_num[\"Marraige Status (Yrs)\"], vert=False)\n",
        "plt.xlabel('Años de matrimonio')\n",
        "plt.title('Boxplot años de matrimonio')"
      ],
      "metadata": {
        "colab": {
          "base_uri": "https://localhost:8080/",
          "height": 489
        },
        "id": "XEXa51C1P4VE",
        "outputId": "54172a23-22e5-4218-a7ca-043bc120d702"
      },
      "execution_count": 25,
      "outputs": [
        {
          "output_type": "execute_result",
          "data": {
            "text/plain": [
              "Text(0.5, 1.0, 'Boxplot años de matrimonio')"
            ]
          },
          "metadata": {},
          "execution_count": 25
        },
        {
          "output_type": "display_data",
          "data": {
            "text/plain": [
              "<Figure size 640x480 with 1 Axes>"
            ],
            "image/png": "[encoded data removed]"
          },
          "metadata": {}
        }
      ]
    },
    {
      "cell_type": "markdown",
      "source": [
        "En este gráfico de cajas y bigotes se muestra que el rango intercuartílico es de 0 a 20 años, con una mediana en aproximadamente 7 años. Se tienen un total de 5 datos extremos, siendo el mayor de estos más de 30 años."
      ],
      "metadata": {
        "id": "b21U1HSpQEhB"
      }
    },
    {
      "cell_type": "markdown",
      "source": [
        "#### Número de abortos"
      ],
      "metadata": {
        "id": "yZLY6InzQXDc"
      }
    },
    {
      "cell_type": "code",
      "source": [
        "frecuencia_abo = df[\"No. of aborptions\"].value_counts()\n",
        "frecuencia_abo.plot(kind='pie', autopct='%1.1f%%')\n",
        "plt.title('Conteo Número de abortos')"
      ],
      "metadata": {
        "colab": {
          "base_uri": "https://localhost:8080/",
          "height": 445
        },
        "id": "5BPfpGPPQiRC",
        "outputId": "ab011e55-4c3c-4b70-e3c2-82a10e984669"
      },
      "execution_count": 26,
      "outputs": [
        {
          "output_type": "execute_result",
          "data": {
            "text/plain": [
              "Text(0.5, 1.0, 'Conteo Número de abortos')"
            ]
          },
          "metadata": {},
          "execution_count": 26
        },
        {
          "output_type": "display_data",
          "data": {
            "text/plain": [
              "<Figure size 640x480 with 1 Axes>"
            ],
            "image/png": "[encoded data removed]"
          },
          "metadata": {}
        }
      ]
    },
    {
      "cell_type": "markdown",
      "source": [
        "En esta gráfica de pastel se demuestra que más del 80% de mujeres no han tenido un aborto, mientras que el resto se distribuye desde 1 hasta 5 abortos, siendo cada vez menos comunes a medida que aumenta el número de abortos."
      ],
      "metadata": {
        "id": "9so6drrOQ2pB"
      }
    },
    {
      "cell_type": "markdown",
      "source": [
        "#### Niveles Beta-HCG\n",
        "Se realizaron dos pruebas de los niveles Beta-HCG para apreciar posibles diferencias."
      ],
      "metadata": {
        "id": "X5XJdd5YRFS0"
      }
    },
    {
      "cell_type": "code",
      "source": [
        "plt.hist(df_num[\"  I   beta-HCG(mIU/mL)\"], bins = 50, edgecolor = \"black\")\n",
        "plt.xlabel(\"Nivel Beta-HCG\")\n",
        "plt.ylabel('Frecuencia')\n",
        "plt.title('Nivel Beta-HCG Prueba 1')"
      ],
      "metadata": {
        "colab": {
          "base_uri": "https://localhost:8080/",
          "height": 489
        },
        "id": "h5AK8-GORk8x",
        "outputId": "a48071e6-e40b-4498-c61c-275e05fe0747"
      },
      "execution_count": 27,
      "outputs": [
        {
          "output_type": "execute_result",
          "data": {
            "text/plain": [
              "Text(0.5, 1.0, 'Nivel Beta-HCG Prueba 1')"
            ]
          },
          "metadata": {},
          "execution_count": 27
        },
        {
          "output_type": "display_data",
          "data": {
            "text/plain": [
              "<Figure size 640x480 with 1 Axes>"
            ],
            "image/png": "[encoded data removed]"
          },
          "metadata": {}
        }
      ]
    },
    {
      "cell_type": "markdown",
      "source": [
        "En el histograma se demuestra que es extremadamente común que en la primera prueba de nivel Beta se obtenga un resultado en un rango de apenas unos cientos mIU/mL; sin embargo, existen diversos registros que son un poco atípicos es incluso unos que llegan a un extremo muy elevado, llegando a más de 30,000 mIU/mL."
      ],
      "metadata": {
        "id": "dJ6W6xMMJhEB"
      }
    },
    {
      "cell_type": "code",
      "source": [
        "plt.hist(df_num[\"II    beta-HCG(mIU/mL)\"], bins = 50, edgecolor = \"black\")\n",
        "plt.xlabel(\"Nivel Beta-HCG\")\n",
        "plt.ylabel('Frecuencia')\n",
        "plt.title('Nivel Beta-HCG Prueba 2')"
      ],
      "metadata": {
        "colab": {
          "base_uri": "https://localhost:8080/",
          "height": 489
        },
        "id": "Ly4HRDQjUm0_",
        "outputId": "780547b5-27dc-473f-93f0-7ff2fc2006bf"
      },
      "execution_count": 28,
      "outputs": [
        {
          "output_type": "execute_result",
          "data": {
            "text/plain": [
              "Text(0.5, 1.0, 'Nivel Beta-HCG Prueba 2')"
            ]
          },
          "metadata": {},
          "execution_count": 28
        },
        {
          "output_type": "display_data",
          "data": {
            "text/plain": [
              "<Figure size 640x480 with 1 Axes>"
            ],
            "image/png": "[encoded data removed]"
          },
          "metadata": {}
        }
      ]
    },
    {
      "cell_type": "markdown",
      "source": [
        "En la segunda prueba se presenta un histograma muy parecido al anterior; sin embargo, el rango de este es 5000 uniades menor."
      ],
      "metadata": {
        "id": "PTIzfgo1UtpR"
      }
    },
    {
      "cell_type": "markdown",
      "source": [
        "#### Follicle Stimulating Hormone"
      ],
      "metadata": {
        "id": "9O0Gf8rTU9He"
      }
    },
    {
      "cell_type": "code",
      "source": [
        "plt.boxplot(df_num[\"FSH(mIU/mL)\"], vert=False)\n",
        "plt.xlabel('Niveles de hormona (mIU/mL)')\n",
        "plt.title('Follicle Stimulating Hormone')"
      ],
      "metadata": {
        "colab": {
          "base_uri": "https://localhost:8080/",
          "height": 489
        },
        "id": "4YNN5msvU_pB",
        "outputId": "a6852b4d-0112-434d-b5c7-915b5840a556"
      },
      "execution_count": 29,
      "outputs": [
        {
          "output_type": "execute_result",
          "data": {
            "text/plain": [
              "Text(0.5, 1.0, 'Follicle Stimulating Hormone')"
            ]
          },
          "metadata": {},
          "execution_count": 29
        },
        {
          "output_type": "display_data",
          "data": {
            "text/plain": [
              "<Figure size 640x480 with 1 Axes>"
            ],
            "image/png": "[encoded data removed]"
          },
          "metadata": {}
        }
      ]
    },
    {
      "cell_type": "markdown",
      "source": [
        "De este gráfico no se puede obtener mucha información ya que un solo dato atípico no nos permite observar correctamente la distribución de los datos."
      ],
      "metadata": {
        "id": "8q28oIw2Vun6"
      }
    },
    {
      "cell_type": "markdown",
      "source": [
        "#### Lutenizing hormone"
      ],
      "metadata": {
        "id": "wdSACQP4V-ez"
      }
    },
    {
      "cell_type": "code",
      "source": [
        "plt.boxplot(df_num[\"LH(mIU/mL)\"], vert=False)\n",
        "plt.xlabel('Niveles de hormona (mIU/mL)')\n",
        "plt.title('Lutenizing hormone')"
      ],
      "metadata": {
        "colab": {
          "base_uri": "https://localhost:8080/",
          "height": 489
        },
        "id": "B2ALEtGRWARP",
        "outputId": "981a90b1-d691-419d-fbb1-21e205e5081d"
      },
      "execution_count": 30,
      "outputs": [
        {
          "output_type": "execute_result",
          "data": {
            "text/plain": [
              "Text(0.5, 1.0, 'Lutenizing hormone')"
            ]
          },
          "metadata": {},
          "execution_count": 30
        },
        {
          "output_type": "display_data",
          "data": {
            "text/plain": [
              "<Figure size 640x480 with 1 Axes>"
            ],
            "image/png": "[encoded data removed]"
          },
          "metadata": {}
        }
      ]
    },
    {
      "cell_type": "markdown",
      "source": [
        "En este gráfico ocurre lo mismo que en el anterior, no se puede obtener información adecuada debido a un dato extremadamente atípico."
      ],
      "metadata": {
        "id": "mYMRsg3nWWGZ"
      }
    },
    {
      "cell_type": "markdown",
      "source": [
        "#### Transformación de datos"
      ],
      "metadata": {
        "id": "NkO4SZmriDFU"
      }
    },
    {
      "cell_type": "markdown",
      "source": [
        "Estas últimas variables requieren de una transformación para poderlas apreciar correctamente, es por eso que se les aplica una transformación logarítmica que se encarga de hacer los datos atípicos más manejables."
      ],
      "metadata": {
        "id": "Trm0uEt2iISU"
      }
    },
    {
      "cell_type": "code",
      "source": [
        "#Creamos una función para transformar los datos\n",
        "def log_transform(column):\n",
        "    # Agregar una constante pequeña para manejar los ceros\n",
        "    return column.apply(lambda x: np.log(x + 1))\n",
        "\n",
        "df_transformada = df[[\"  I   beta-HCG(mIU/mL)\",\"II    beta-HCG(mIU/mL)\", \"FSH(mIU/mL)\", \"LH(mIU/mL)\"]]\n",
        "\n",
        "# Aplica la transformacion a cada columna\n",
        "df_transformada = df_transformada.apply(log_transform)\n",
        "\n",
        "#df_transformada"
      ],
      "metadata": {
        "id": "2mPhZrz_iH1V"
      },
      "execution_count": 31,
      "outputs": []
    },
    {
      "cell_type": "markdown",
      "source": [
        "Repetimos los últimos 4 plots:"
      ],
      "metadata": {
        "id": "O9g1r4rujGD5"
      }
    },
    {
      "cell_type": "code",
      "source": [
        "plt.hist(df_transformada[\"  I   beta-HCG(mIU/mL)\"], bins = 5, edgecolor = \"black\")\n",
        "plt.xlabel(\"Nivel Beta-HCG(mIU/mL)\")\n",
        "plt.ylabel('Frecuencia')\n",
        "plt.title('Nivel Beta-HCG Prueba 1')"
      ],
      "metadata": {
        "colab": {
          "base_uri": "https://localhost:8080/",
          "height": 489
        },
        "id": "jA9U6s-ijIkY",
        "outputId": "53680a60-904b-4453-a34a-3946fabdc021"
      },
      "execution_count": 32,
      "outputs": [
        {
          "output_type": "execute_result",
          "data": {
            "text/plain": [
              "Text(0.5, 1.0, 'Nivel Beta-HCG Prueba 1')"
            ]
          },
          "metadata": {},
          "execution_count": 32
        },
        {
          "output_type": "display_data",
          "data": {
            "text/plain": [
              "<Figure size 640x480 with 1 Axes>"
            ],
            "image/png": "[encoded data removed]"
          },
          "metadata": {}
        }
      ]
    },
    {
      "cell_type": "markdown",
      "source": [
        "Ya podemos observar que la primera prueba de nivel Beta tiende a tener valores menores a los 3 mIU/mL y entre 5 y 6.5 mIU/mL (después de la transformación)."
      ],
      "metadata": {
        "id": "-5vBsicJjnfY"
      }
    },
    {
      "cell_type": "code",
      "source": [
        "plt.hist(df_transformada[\"II    beta-HCG(mIU/mL)\"], bins = 5, edgecolor = \"black\")\n",
        "plt.xlabel(\"Nivel Beta-HCG(mIU/mL)\")\n",
        "plt.ylabel('Frecuencia')\n",
        "plt.title('Nivel Beta-HCG Prueba 2')"
      ],
      "metadata": {
        "colab": {
          "base_uri": "https://localhost:8080/",
          "height": 489
        },
        "id": "ddTjjkN3kB9Z",
        "outputId": "e4d461a6-4737-4f36-b61b-e72465548167"
      },
      "execution_count": 33,
      "outputs": [
        {
          "output_type": "execute_result",
          "data": {
            "text/plain": [
              "Text(0.5, 1.0, 'Nivel Beta-HCG Prueba 2')"
            ]
          },
          "metadata": {},
          "execution_count": 33
        },
        {
          "output_type": "display_data",
          "data": {
            "text/plain": [
              "<Figure size 640x480 with 1 Axes>"
            ],
            "image/png": "[encoded data removed]"
          },
          "metadata": {}
        }
      ]
    },
    {
      "cell_type": "markdown",
      "source": [
        "Para la segunda prueba de nivel Beta podemos observar que los niveles tienden a bajar, pues ahora tenemos muchas más personas con un nivel Beta menor a los 3 mIU/mL. (Después de la transformación logarítmica)"
      ],
      "metadata": {
        "id": "bbc_M5Y8kQF8"
      }
    },
    {
      "cell_type": "code",
      "source": [
        "plt.boxplot(df_transformada[\"FSH(mIU/mL)\"], vert=False)\n",
        "plt.xlabel('Niveles de hormona (mIU/mL)')\n",
        "plt.title('Follicle Stimulating Hormone')"
      ],
      "metadata": {
        "colab": {
          "base_uri": "https://localhost:8080/",
          "height": 489
        },
        "id": "UCYdHJzvkbhn",
        "outputId": "1dbf268c-7dae-4c0c-df69-d2ba58e7feb6"
      },
      "execution_count": 34,
      "outputs": [
        {
          "output_type": "execute_result",
          "data": {
            "text/plain": [
              "Text(0.5, 1.0, 'Follicle Stimulating Hormone')"
            ]
          },
          "metadata": {},
          "execution_count": 34
        },
        {
          "output_type": "display_data",
          "data": {
            "text/plain": [
              "<Figure size 640x480 with 1 Axes>"
            ],
            "image/png": "[encoded data removed]"
          },
          "metadata": {}
        }
      ]
    },
    {
      "cell_type": "markdown",
      "source": [
        "Después de la transformación logarítmica podemos observar que el dato sigue siendo anormalmente atípico, pero ya se pueden analizar los datos, tenemos un rango intercuartílico que va desde aproximadamente 1 hasata 3 con una mediana que llega casi a 2 mIU/mL. Teniendo un dato atípico inferior y 5 datos atípicos superiores."
      ],
      "metadata": {
        "id": "ogeL-Wt_k7h9"
      }
    },
    {
      "cell_type": "code",
      "source": [
        "plt.boxplot(df_transformada[\"LH(mIU/mL)\"], vert=False)\n",
        "plt.xlabel('Niveles de hormona (mIU/mL)')\n",
        "plt.title('Lutenizing hormone')"
      ],
      "metadata": {
        "colab": {
          "base_uri": "https://localhost:8080/",
          "height": 489
        },
        "id": "_DsnqwwYlQJh",
        "outputId": "96bb5996-1b3c-45d8-d307-c54fe45237e3"
      },
      "execution_count": 35,
      "outputs": [
        {
          "output_type": "execute_result",
          "data": {
            "text/plain": [
              "Text(0.5, 1.0, 'Lutenizing hormone')"
            ]
          },
          "metadata": {},
          "execution_count": 35
        },
        {
          "output_type": "display_data",
          "data": {
            "text/plain": [
              "<Figure size 640x480 with 1 Axes>"
            ],
            "image/png": "[encoded data removed]"
          },
          "metadata": {}
        }
      ]
    },
    {
      "cell_type": "markdown",
      "source": [
        "Después de la transformación logarítmica podemos observar que solamente existe un dato atípico para estos niveles de hormonas. El rango intercuartílico se encuentra desde casi 0 hasta 3 mIU/mL, con la mediana en aproximadamente 1.4 mIU/mL."
      ],
      "metadata": {
        "id": "Tuj15Dy_lamZ"
      }
    },
    {
      "cell_type": "markdown",
      "source": [
        "### Variables categóricas"
      ],
      "metadata": {
        "id": "U9Bn54m2Wqb3"
      }
    },
    {
      "cell_type": "code",
      "source": [
        "df_bool"
      ],
      "metadata": {
        "colab": {
          "base_uri": "https://localhost:8080/",
          "height": 441
        },
        "id": "gPuoKwpRWuqJ",
        "outputId": "694520b5-6874-4f48-e251-3267c8a82185"
      },
      "execution_count": 36,
      "outputs": [
        {
          "output_type": "execute_result",
          "data": {
            "text/plain": [
              "     PCOS (Y/N)  Pregnant(Y/N)  Weight gain(Y/N)  hair growth(Y/N)  \\\n",
              "0           0.0            0.0               0.0               0.0   \n",
              "1           0.0            1.0               0.0               0.0   \n",
              "2           1.0            1.0               0.0               0.0   \n",
              "3           0.0            0.0               0.0               0.0   \n",
              "4           0.0            1.0               0.0               0.0   \n",
              "..          ...            ...               ...               ...   \n",
              "536         0.0            0.0               0.0               0.0   \n",
              "537         0.0            1.0               1.0               0.0   \n",
              "538         0.0            0.0               0.0               0.0   \n",
              "539         0.0            0.0               0.0               0.0   \n",
              "540         1.0            0.0               1.0               1.0   \n",
              "\n",
              "     Skin darkening (Y/N)  Hair loss(Y/N)  Pimples(Y/N)  Fast food (Y/N)  \\\n",
              "0                     0.0             0.0           0.0              1.0   \n",
              "1                     0.0             0.0           0.0              0.0   \n",
              "2                     0.0             1.0           1.0              1.0   \n",
              "3                     0.0             0.0           0.0              0.0   \n",
              "4                     0.0             1.0           0.0              0.0   \n",
              "..                    ...             ...           ...              ...   \n",
              "536                   0.0             0.0           0.0              0.0   \n",
              "537                   0.0             0.0           0.0              0.0   \n",
              "538                   0.0             0.0           0.0              0.0   \n",
              "539                   0.0             0.0           1.0              0.0   \n",
              "540                   1.0             1.0           1.0              1.0   \n",
              "\n",
              "     Reg.Exercise(Y/N)  \n",
              "0                  0.0  \n",
              "1                  0.0  \n",
              "2                  0.0  \n",
              "3                  0.0  \n",
              "4                  0.0  \n",
              "..                 ...  \n",
              "536                0.0  \n",
              "537                0.0  \n",
              "538                0.0  \n",
              "539                0.0  \n",
              "540                0.0  \n",
              "\n",
              "[537 rows x 9 columns]"
            ],
            "text/html": [
              "\n",
              "  <div id=\"df-1ab9a773-5b5a-4bab-845d-f64d08481477\" class=\"colab-df-container\">\n",
              "    <div>\n",
              "<style scoped>\n",
              "    .dataframe tbody tr th:only-of-type {\n",
              "        vertical-align: middle;\n",
              "    }\n",
              "\n",
              "    .dataframe tbody tr th {\n",
              "        vertical-align: top;\n",
              "    }\n",
              "\n",
              "    .dataframe thead th {\n",
              "        text-align: right;\n",
              "    }\n",
              "</style>\n",
              "<table border=\"1\" class=\"dataframe\">\n",
              "  <thead>\n",
              "    <tr style=\"text-align: right;\">\n",
              "      <th></th>\n",
              "      <th>PCOS (Y/N)</th>\n",
              "      <th>Pregnant(Y/N)</th>\n",
              "      <th>Weight gain(Y/N)</th>\n",
              "      <th>hair growth(Y/N)</th>\n",
              "      <th>Skin darkening (Y/N)</th>\n",
              "      <th>Hair loss(Y/N)</th>\n",
              "      <th>Pimples(Y/N)</th>\n",
              "      <th>Fast food (Y/N)</th>\n",
              "      <th>Reg.Exercise(Y/N)</th>\n",
              "    </tr>\n",
              "  </thead>\n",
              "  <tbody>\n",
              "    <tr>\n",
              "      <th>0</th>\n",
              "      <td>0.0</td>\n",
              "      <td>0.0</td>\n",
              "      <td>0.0</td>\n",
              "      <td>0.0</td>\n",
              "      <td>0.0</td>\n",
              "      <td>0.0</td>\n",
              "      <td>0.0</td>\n",
              "      <td>1.0</td>\n",
              "      <td>0.0</td>\n",
              "    </tr>\n",
              "    <tr>\n",
              "      <th>1</th>\n",
              "      <td>0.0</td>\n",
              "      <td>1.0</td>\n",
              "      <td>0.0</td>\n",
              "      <td>0.0</td>\n",
              "      <td>0.0</td>\n",
              "      <td>0.0</td>\n",
              "      <td>0.0</td>\n",
              "      <td>0.0</td>\n",
              "      <td>0.0</td>\n",
              "    </tr>\n",
              "    <tr>\n",
              "      <th>2</th>\n",
              "      <td>1.0</td>\n",
              "      <td>1.0</td>\n",
              "      <td>0.0</td>\n",
              "      <td>0.0</td>\n",
              "      <td>0.0</td>\n",
              "      <td>1.0</td>\n",
              "      <td>1.0</td>\n",
              "      <td>1.0</td>\n",
              "      <td>0.0</td>\n",
              "    </tr>\n",
              "    <tr>\n",
              "      <th>3</th>\n",
              "      <td>0.0</td>\n",
              "      <td>0.0</td>\n",
              "      <td>0.0</td>\n",
              "      <td>0.0</td>\n",
              "      <td>0.0</td>\n",
              "      <td>0.0</td>\n",
              "      <td>0.0</td>\n",
              "      <td>0.0</td>\n",
              "      <td>0.0</td>\n",
              "    </tr>\n",
              "    <tr>\n",
              "      <th>4</th>\n",
              "      <td>0.0</td>\n",
              "      <td>1.0</td>\n",
              "      <td>0.0</td>\n",
              "      <td>0.0</td>\n",
              "      <td>0.0</td>\n",
              "      <td>1.0</td>\n",
              "      <td>0.0</td>\n",
              "      <td>0.0</td>\n",
              "      <td>0.0</td>\n",
              "    </tr>\n",
              "    <tr>\n",
              "      <th>...</th>\n",
              "      <td>...</td>\n",
              "      <td>...</td>\n",
              "      <td>...</td>\n",
              "      <td>...</td>\n",
              "      <td>...</td>\n",
              "      <td>...</td>\n",
              "      <td>...</td>\n",
              "      <td>...</td>\n",
              "      <td>...</td>\n",
              "    </tr>\n",
              "    <tr>\n",
              "      <th>536</th>\n",
              "      <td>0.0</td>\n",
              "      <td>0.0</td>\n",
              "      <td>0.0</td>\n",
              "      <td>0.0</td>\n",
              "      <td>0.0</td>\n",
              "      <td>0.0</td>\n",
              "      <td>0.0</td>\n",
              "      <td>0.0</td>\n",
              "      <td>0.0</td>\n",
              "    </tr>\n",
              "    <tr>\n",
              "      <th>537</th>\n",
              "      <td>0.0</td>\n",
              "      <td>1.0</td>\n",
              "      <td>1.0</td>\n",
              "      <td>0.0</td>\n",
              "      <td>0.0</td>\n",
              "      <td>0.0</td>\n",
              "      <td>0.0</td>\n",
              "      <td>0.0</td>\n",
              "      <td>0.0</td>\n",
              "    </tr>\n",
              "    <tr>\n",
              "      <th>538</th>\n",
              "      <td>0.0</td>\n",
              "      <td>0.0</td>\n",
              "      <td>0.0</td>\n",
              "      <td>0.0</td>\n",
              "      <td>0.0</td>\n",
              "      <td>0.0</td>\n",
              "      <td>0.0</td>\n",
              "      <td>0.0</td>\n",
              "      <td>0.0</td>\n",
              "    </tr>\n",
              "    <tr>\n",
              "      <th>539</th>\n",
              "      <td>0.0</td>\n",
              "      <td>0.0</td>\n",
              "      <td>0.0</td>\n",
              "      <td>0.0</td>\n",
              "      <td>0.0</td>\n",
              "      <td>0.0</td>\n",
              "      <td>1.0</td>\n",
              "      <td>0.0</td>\n",
              "      <td>0.0</td>\n",
              "    </tr>\n",
              "    <tr>\n",
              "      <th>540</th>\n",
              "      <td>1.0</td>\n",
              "      <td>0.0</td>\n",
              "      <td>1.0</td>\n",
              "      <td>1.0</td>\n",
              "      <td>1.0</td>\n",
              "      <td>1.0</td>\n",
              "      <td>1.0</td>\n",
              "      <td>1.0</td>\n",
              "      <td>0.0</td>\n",
              "    </tr>\n",
              "  </tbody>\n",
              "</table>\n",
              "<p>537 rows × 9 columns</p>\n",
              "</div>\n",
              "    <div class=\"colab-df-buttons\">\n",
              "\n",
              "  <div class=\"colab-df-container\">\n",
              "    <button class=\"colab-df-convert\" onclick=\"convertToInteractive('df-1ab9a773-5b5a-4bab-845d-f64d08481477')\"\n",
              "            title=\"Convert this dataframe to an interactive table.\"\n",
              "            style=\"display:none;\">\n",
              "\n",
              "  <svg xmlns=\"http://www.w3.org/2000/svg\" height=\"24px\" viewBox=\"0 -960 960 960\">\n",
              "    <path d=\"M120-120v-720h720v720H120Zm60-500h600v-160H180v160Zm220 220h160v-160H400v160Zm0 220h160v-160H400v160ZM180-400h160v-160H180v160Zm440 0h160v-160H620v160ZM180-180h160v-160H180v160Zm440 0h160v-160H620v160Z\"/>\n",
              "  </svg>\n",
              "    </button>\n",
              "\n",
              "  <style>\n",
              "    .colab-df-container {\n",
              "      display:flex;\n",
              "      gap: 12px;\n",
              "    }\n",
              "\n",
              "    .colab-df-convert {\n",
              "      background-color: #E8F0FE;\n",
              "      border: none;\n",
              "      border-radius: 50%;\n",
              "      cursor: pointer;\n",
              "      display: none;\n",
              "      fill: #1967D2;\n",
              "      height: 32px;\n",
              "      padding: 0 0 0 0;\n",
              "      width: 32px;\n",
              "    }\n",
              "\n",
              "    .colab-df-convert:hover {\n",
              "      background-color: #E2EBFA;\n",
              "      box-shadow: 0px 1px 2px rgba(60, 64, 67, 0.3), 0px 1px 3px 1px rgba(60, 64, 67, 0.15);\n",
              "      fill: #174EA6;\n",
              "    }\n",
              "\n",
              "    .colab-df-buttons div {\n",
              "      margin-bottom: 4px;\n",
              "    }\n",
              "\n",
              "    [theme=dark] .colab-df-convert {\n",
              "      background-color: #3B4455;\n",
              "      fill: #D2E3FC;\n",
              "    }\n",
              "\n",
              "    [theme=dark] .colab-df-convert:hover {\n",
              "      background-color: #434B5C;\n",
              "      box-shadow: 0px 1px 3px 1px rgba(0, 0, 0, 0.15);\n",
              "      filter: drop-shadow(0px 1px 2px rgba(0, 0, 0, 0.3));\n",
              "      fill: #FFFFFF;\n",
              "    }\n",
              "  </style>\n",
              "\n",
              "    <script>\n",
              "      const buttonEl =\n",
              "        document.querySelector('#df-1ab9a773-5b5a-4bab-845d-f64d08481477 button.colab-df-convert');\n",
              "      buttonEl.style.display =\n",
              "        google.colab.kernel.accessAllowed ? 'block' : 'none';\n",
              "\n",
              "      async function convertToInteractive(key) {\n",
              "        const element = document.querySelector('#df-1ab9a773-5b5a-4bab-845d-f64d08481477');\n",
              "        const dataTable =\n",
              "          await google.colab.kernel.invokeFunction('convertToInteractive',\n",
              "                                                    [key], {});\n",
              "        if (!dataTable) return;\n",
              "\n",
              "        const docLinkHtml = 'Like what you see? Visit the ' +\n",
              "          '<a target=\"_blank\" href=https://colab.research.google.com/notebooks/data_table.ipynb>data table notebook</a>'\n",
              "          + ' to learn more about interactive tables.';\n",
              "        element.innerHTML = '';\n",
              "        dataTable['output_type'] = 'display_data';\n",
              "        await google.colab.output.renderOutput(dataTable, element);\n",
              "        const docLink = document.createElement('div');\n",
              "        docLink.innerHTML = docLinkHtml;\n",
              "        element.appendChild(docLink);\n",
              "      }\n",
              "    </script>\n",
              "  </div>\n",
              "\n",
              "\n",
              "<div id=\"df-6329cbd2-7cf5-4f16-aeba-7fe5663a1ac9\">\n",
              "  <button class=\"colab-df-quickchart\" onclick=\"quickchart('df-6329cbd2-7cf5-4f16-aeba-7fe5663a1ac9')\"\n",
              "            title=\"Suggest charts\"\n",
              "            style=\"display:none;\">\n",
              "\n",
              "<svg xmlns=\"http://www.w3.org/2000/svg\" height=\"24px\"viewBox=\"0 0 24 24\"\n",
              "     width=\"24px\">\n",
              "    <g>\n",
              "        <path d=\"M19 3H5c-1.1 0-2 .9-2 2v14c0 1.1.9 2 2 2h14c1.1 0 2-.9 2-2V5c0-1.1-.9-2-2-2zM9 17H7v-7h2v7zm4 0h-2V7h2v10zm4 0h-2v-4h2v4z\"/>\n",
              "    </g>\n",
              "</svg>\n",
              "  </button>\n",
              "\n",
              "<style>\n",
              "  .colab-df-quickchart {\n",
              "      --bg-color: #E8F0FE;\n",
              "      --fill-color: #1967D2;\n",
              "      --hover-bg-color: #E2EBFA;\n",
              "      --hover-fill-color: #174EA6;\n",
              "      --disabled-fill-color: #AAA;\n",
              "      --disabled-bg-color: #DDD;\n",
              "  }\n",
              "\n",
              "  [theme=dark] .colab-df-quickchart {\n",
              "      --bg-color: #3B4455;\n",
              "      --fill-color: #D2E3FC;\n",
              "      --hover-bg-color: #434B5C;\n",
              "      --hover-fill-color: #FFFFFF;\n",
              "      --disabled-bg-color: #3B4455;\n",
              "      --disabled-fill-color: #666;\n",
              "  }\n",
              "\n",
              "  .colab-df-quickchart {\n",
              "    background-color: var(--bg-color);\n",
              "    border: none;\n",
              "    border-radius: 50%;\n",
              "    cursor: pointer;\n",
              "    display: none;\n",
              "    fill: var(--fill-color);\n",
              "    height: 32px;\n",
              "    padding: 0;\n",
              "    width: 32px;\n",
              "  }\n",
              "\n",
              "  .colab-df-quickchart:hover {\n",
              "    background-color: var(--hover-bg-color);\n",
              "    box-shadow: 0 1px 2px rgba(60, 64, 67, 0.3), 0 1px 3px 1px rgba(60, 64, 67, 0.15);\n",
              "    fill: var(--button-hover-fill-color);\n",
              "  }\n",
              "\n",
              "  .colab-df-quickchart-complete:disabled,\n",
              "  .colab-df-quickchart-complete:disabled:hover {\n",
              "    background-color: var(--disabled-bg-color);\n",
              "    fill: var(--disabled-fill-color);\n",
              "    box-shadow: none;\n",
              "  }\n",
              "\n",
              "  .colab-df-spinner {\n",
              "    border: 2px solid var(--fill-color);\n",
              "    border-color: transparent;\n",
              "    border-bottom-color: var(--fill-color);\n",
              "    animation:\n",
              "      spin 1s steps(1) infinite;\n",
              "  }\n",
              "\n",
              "  @keyframes spin {\n",
              "    0% {\n",
              "      border-color: transparent;\n",
              "      border-bottom-color: var(--fill-color);\n",
              "      border-left-color: var(--fill-color);\n",
              "    }\n",
              "    20% {\n",
              "      border-color: transparent;\n",
              "      border-left-color: var(--fill-color);\n",
              "      border-top-color: var(--fill-color);\n",
              "    }\n",
              "    30% {\n",
              "      border-color: transparent;\n",
              "      border-left-color: var(--fill-color);\n",
              "      border-top-color: var(--fill-color);\n",
              "      border-right-color: var(--fill-color);\n",
              "    }\n",
              "    40% {\n",
              "      border-color: transparent;\n",
              "      border-right-color: var(--fill-color);\n",
              "      border-top-color: var(--fill-color);\n",
              "    }\n",
              "    60% {\n",
              "      border-color: transparent;\n",
              "      border-right-color: var(--fill-color);\n",
              "    }\n",
              "    80% {\n",
              "      border-color: transparent;\n",
              "      border-right-color: var(--fill-color);\n",
              "      border-bottom-color: var(--fill-color);\n",
              "    }\n",
              "    90% {\n",
              "      border-color: transparent;\n",
              "      border-bottom-color: var(--fill-color);\n",
              "    }\n",
              "  }\n",
              "</style>\n",
              "\n",
              "  <script>\n",
              "    async function quickchart(key) {\n",
              "      const quickchartButtonEl =\n",
              "        document.querySelector('#' + key + ' button');\n",
              "      quickchartButtonEl.disabled = true;  // To prevent multiple clicks.\n",
              "      quickchartButtonEl.classList.add('colab-df-spinner');\n",
              "      try {\n",
              "        const charts = await google.colab.kernel.invokeFunction(\n",
              "            'suggestCharts', [key], {});\n",
              "      } catch (error) {\n",
              "        console.error('Error during call to suggestCharts:', error);\n",
              "      }\n",
              "      quickchartButtonEl.classList.remove('colab-df-spinner');\n",
              "      quickchartButtonEl.classList.add('colab-df-quickchart-complete');\n",
              "    }\n",
              "    (() => {\n",
              "      let quickchartButtonEl =\n",
              "        document.querySelector('#df-6329cbd2-7cf5-4f16-aeba-7fe5663a1ac9 button');\n",
              "      quickchartButtonEl.style.display =\n",
              "        google.colab.kernel.accessAllowed ? 'block' : 'none';\n",
              "    })();\n",
              "  </script>\n",
              "</div>\n",
              "    </div>\n",
              "  </div>\n"
            ],
            "application/vnd.google.colaboratory.intrinsic+json": {
              "type": "dataframe",
              "variable_name": "df_bool",
              "summary": "{\n  \"name\": \"df_bool\",\n  \"rows\": 537,\n  \"fields\": [\n    {\n      \"column\": \"PCOS (Y/N)\",\n      \"properties\": {\n        \"dtype\": \"number\",\n        \"std\": 0.4691414133813652,\n        \"min\": 0.0,\n        \"max\": 1.0,\n        \"num_unique_values\": 2,\n        \"samples\": [\n          1.0,\n          0.0\n        ],\n        \"semantic_type\": \"\",\n        \"description\": \"\"\n      }\n    },\n    {\n      \"column\": \"Pregnant(Y/N)\",\n      \"properties\": {\n        \"dtype\": \"number\",\n        \"std\": 0.4867187414433377,\n        \"min\": 0.0,\n        \"max\": 1.0,\n        \"num_unique_values\": 2,\n        \"samples\": [\n          1.0,\n          0.0\n        ],\n        \"semantic_type\": \"\",\n        \"description\": \"\"\n      }\n    },\n    {\n      \"column\": \"Weight gain(Y/N)\",\n      \"properties\": {\n        \"dtype\": \"number\",\n        \"std\": 0.4853462905051474,\n        \"min\": 0.0,\n        \"max\": 1.0,\n        \"num_unique_values\": 2,\n        \"samples\": [\n          1.0,\n          0.0\n        ],\n        \"semantic_type\": \"\",\n        \"description\": \"\"\n      }\n    },\n    {\n      \"column\": \"hair growth(Y/N)\",\n      \"properties\": {\n        \"dtype\": \"number\",\n        \"std\": 0.44629439562664003,\n        \"min\": 0.0,\n        \"max\": 1.0,\n        \"num_unique_values\": 2,\n        \"samples\": [\n          1.0,\n          0.0\n        ],\n        \"semantic_type\": \"\",\n        \"description\": \"\"\n      }\n    },\n    {\n      \"column\": \"Skin darkening (Y/N)\",\n      \"properties\": {\n        \"dtype\": \"number\",\n        \"std\": 0.46100623826178205,\n        \"min\": 0.0,\n        \"max\": 1.0,\n        \"num_unique_values\": 2,\n        \"samples\": [\n          1.0,\n          0.0\n        ],\n        \"semantic_type\": \"\",\n        \"description\": \"\"\n      }\n    },\n    {\n      \"column\": \"Hair loss(Y/N)\",\n      \"properties\": {\n        \"dtype\": \"number\",\n        \"std\": 0.49820406219181346,\n        \"min\": 0.0,\n        \"max\": 1.0,\n        \"num_unique_values\": 2,\n        \"samples\": [\n          1.0,\n          0.0\n        ],\n        \"semantic_type\": \"\",\n        \"description\": \"\"\n      }\n    },\n    {\n      \"column\": \"Pimples(Y/N)\",\n      \"properties\": {\n        \"dtype\": \"number\",\n        \"std\": 0.5003959076280331,\n        \"min\": 0.0,\n        \"max\": 1.0,\n        \"num_unique_values\": 2,\n        \"samples\": [\n          1.0,\n          0.0\n        ],\n        \"semantic_type\": \"\",\n        \"description\": \"\"\n      }\n    },\n    {\n      \"column\": \"Fast food (Y/N)\",\n      \"properties\": {\n        \"dtype\": \"number\",\n        \"std\": 0.500215357051119,\n        \"min\": 0.0,\n        \"max\": 1.0,\n        \"num_unique_values\": 2,\n        \"samples\": [\n          0.0,\n          1.0\n        ],\n        \"semantic_type\": \"\",\n        \"description\": \"\"\n      }\n    },\n    {\n      \"column\": \"Reg.Exercise(Y/N)\",\n      \"properties\": {\n        \"dtype\": \"number\",\n        \"std\": 0.42986207120571074,\n        \"min\": 0.0,\n        \"max\": 1.0,\n        \"num_unique_values\": 2,\n        \"samples\": [\n          1.0,\n          0.0\n        ],\n        \"semantic_type\": \"\",\n        \"description\": \"\"\n      }\n    }\n  ]\n}"
            }
          },
          "metadata": {},
          "execution_count": 36
        }
      ]
    },
    {
      "cell_type": "code",
      "source": [
        "# Calcular porcentajes para cada variable\n",
        "porcentajes = (df_bool.mean() * 100).round(2)\n",
        "\n",
        "# Crear un subplot de tamaño adecuado\n",
        "\n",
        "num_plots = len(df_bool.columns)\n",
        "num_cols = 3\n",
        "num_rows = (num_plots - 1) // num_cols + 1\n",
        "\n",
        "fig, axes = plt.subplots(num_rows, num_cols, figsize=(5, 2*num_rows))\n",
        "\n",
        "# Iterar sobre cada columna y dibujar los diagramas de pastel\n",
        "for i, (col, ax) in enumerate(zip(df_bool.columns, axes.flatten())):\n",
        "    counts = df[col].value_counts(normalize=True)\n",
        "    ax.pie(counts, labels=counts.index, autopct='%1.1f%%')\n",
        "    ax.set_title(f'{col}')\n",
        "\n",
        "plt.tight_layout()\n",
        "plt.show()"
      ],
      "metadata": {
        "colab": {
          "base_uri": "https://localhost:8080/",
          "height": 587
        },
        "id": "-uJ0d4tzXK7H",
        "outputId": "3f862493-28e9-458c-bd5d-f91123a0d710"
      },
      "execution_count": 151,
      "outputs": [
        {
          "output_type": "display_data",
          "data": {
            "text/plain": [
              "<Figure size 500x600 with 9 Axes>"
            ],
            "image/png": "[encoded data removed]"
          },
          "metadata": {}
        }
      ]
    },
    {
      "cell_type": "markdown",
      "source": [
        "Las variables cualitativas se pueden expresar adecuadamente por medio de diagramas de pie, de esta manera podemos observar la distribución de las respuestas de las diferentes mujeres. Inmediatamente sale a la vista el dato de que 32.6% de las mujeres en este dataset fueron clasificadas como portadoras del síndrome, cuando en la parte de investigación se considera que solamente del 8% al 13% de las mujeres en edad reproductiva son diagnosticadas con el síndrome. Esto puede deberse a que muchas de las mujeres se sometieron a la revisión al suponer que algo no estaba bien con ellas y al final resultó que sus suposiciones eran ciertas."
      ],
      "metadata": {
        "id": "4a0y2mwNojsF"
      }
    },
    {
      "cell_type": "markdown",
      "source": [
        "## Modelos de aprendizaje supervisado"
      ],
      "metadata": {
        "id": "25Xbn3-HpeE9"
      }
    },
    {
      "cell_type": "markdown",
      "source": [
        "### Visto en clase"
      ],
      "metadata": {
        "id": "GRobqGgfLSUp"
      }
    },
    {
      "cell_type": "markdown",
      "source": [
        "El método que vamos a aplicar visto en clase es el de las redes neuronales, esto debido a que la cantidad de columnas presentes en nuestro dataset son más de 40. Originalmente íbamos a aplicar árboles de decisión, pero al ser tantas columnas la magnitud de estos árboles crece exponencialmente. Las redes neuronales se desempeñan adecuadamente cuando se considera que se tienen muchas variables que pueden afectar a la variable a predecir."
      ],
      "metadata": {
        "id": "JyTJYwYqLgSd"
      }
    },
    {
      "cell_type": "code",
      "source": [
        "import random\n",
        "import seaborn as sns\n",
        "from sklearn.model_selection import train_test_split\n",
        "pd.options.display.float_format = '{:.2f}'.format"
      ],
      "metadata": {
        "id": "AX5X5En7PXx0"
      },
      "execution_count": 38,
      "outputs": []
    },
    {
      "cell_type": "code",
      "source": [
        "#Separamos la clase a predecir en y y dejamos el dataset en X para más facilidad de programar\n",
        "y = df[\"PCOS (Y/N)\"]\n",
        "#y\n",
        "X = df"
      ],
      "metadata": {
        "id": "m0gfy5dUOTbs"
      },
      "execution_count": 39,
      "outputs": []
    },
    {
      "cell_type": "code",
      "source": [
        "# Se hace la división de train y test con una semilla fija para que sea reproducible\n",
        "X_train, X_test, y_train, y_test = train_test_split (X, y, test_size = 0.2,  random_state = 42)"
      ],
      "metadata": {
        "id": "v81iB84POt59"
      },
      "execution_count": 40,
      "outputs": []
    },
    {
      "cell_type": "markdown",
      "source": [
        "#### GridSearch"
      ],
      "metadata": {
        "id": "wxwJAoYqSgEn"
      }
    },
    {
      "cell_type": "markdown",
      "source": [
        "Con ayuda de la función GridSearchCV de sklearn aplicamos cross validation para encontrar la combinación del modelo que mejor rendimiento tiene. Nota: Es necesario ajustar el número de hidden layers y max iter dependiendo de los resultados anteriores. El mejor modelo que encontramos fue el siguiente después de varias búsquedas:"
      ],
      "metadata": {
        "id": "bUlUlichSlnW"
      }
    },
    {
      "cell_type": "code",
      "source": [
        "from sklearn.model_selection import GridSearchCV\n",
        "from sklearn.neural_network import MLPClassifier\n",
        "from sklearn.metrics import f1_score, make_scorer, accuracy_score, confusion_matrix, classification_report, recall_score, roc_curve\n",
        "from warnings import simplefilter\n",
        "from sklearn.exceptions import ConvergenceWarning\n",
        "simplefilter(\"ignore\", category=ConvergenceWarning)"
      ],
      "metadata": {
        "id": "48C_OcwKDag4"
      },
      "execution_count": 158,
      "outputs": []
    },
    {
      "cell_type": "code",
      "source": [
        "# Hidden_layer_sizes eliminados:\n",
        "# (10,10),(50,50),(100,50),(100,100),(300,300)\n",
        "\n",
        "# Max_iter eliminados:\n",
        "# 2, 5, 20, 50, 100\n",
        "\n",
        "parameters = {'hidden_layer_sizes':[(20,20),(20,25),(25,25),(20,50),(50,25)], 'max_iter' : [500,1000,2500]}\n",
        "nn = MLPClassifier()\n",
        "clf_nn = GridSearchCV(nn, parameters,verbose = 3,cv = 5 , scoring=\"accuracy\")\n",
        "clf_nn.fit(X_train, y_train)\n",
        "resultados_modelo1 = pd.DataFrame(clf_nn.cv_results_)\n",
        "resultados_modelo1.sort_values(\"rank_test_score\")"
      ],
      "metadata": {
        "colab": {
          "base_uri": "https://localhost:8080/",
          "height": 1000
        },
        "id": "RlEBKRM4SxyF",
        "outputId": "527b5983-5c4e-4ead-8490-2736c6ce2bb7"
      },
      "execution_count": 136,
      "outputs": [
        {
          "output_type": "stream",
          "name": "stdout",
          "text": [
            "Fitting 5 folds for each of 15 candidates, totalling 75 fits\n",
            "[CV 1/5] END hidden_layer_sizes=(20, 20), max_iter=500;, score=0.767 total time=   0.2s\n",
            "[CV 2/5] END hidden_layer_sizes=(20, 20), max_iter=500;, score=0.814 total time=   0.7s\n",
            "[CV 3/5] END hidden_layer_sizes=(20, 20), max_iter=500;, score=0.779 total time=   0.1s\n",
            "[CV 4/5] END hidden_layer_sizes=(20, 20), max_iter=500;, score=0.733 total time=   0.2s\n",
            "[CV 5/5] END hidden_layer_sizes=(20, 20), max_iter=500;, score=0.682 total time=   0.2s\n",
            "[CV 1/5] END hidden_layer_sizes=(20, 20), max_iter=1000;, score=0.744 total time=   0.2s\n",
            "[CV 2/5] END hidden_layer_sizes=(20, 20), max_iter=1000;, score=0.860 total time=   1.0s\n",
            "[CV 3/5] END hidden_layer_sizes=(20, 20), max_iter=1000;, score=0.837 total time=   0.1s\n",
            "[CV 4/5] END hidden_layer_sizes=(20, 20), max_iter=1000;, score=0.686 total time=   0.1s\n",
            "[CV 5/5] END hidden_layer_sizes=(20, 20), max_iter=1000;, score=0.788 total time=   0.1s\n",
            "[CV 1/5] END hidden_layer_sizes=(20, 20), max_iter=2500;, score=0.779 total time=   0.4s\n",
            "[CV 2/5] END hidden_layer_sizes=(20, 20), max_iter=2500;, score=0.814 total time=   0.4s\n",
            "[CV 3/5] END hidden_layer_sizes=(20, 20), max_iter=2500;, score=0.581 total time=   0.0s\n",
            "[CV 4/5] END hidden_layer_sizes=(20, 20), max_iter=2500;, score=0.756 total time=   0.1s\n",
            "[CV 5/5] END hidden_layer_sizes=(20, 20), max_iter=2500;, score=0.765 total time=   0.2s\n",
            "[CV 1/5] END hidden_layer_sizes=(20, 25), max_iter=500;, score=0.779 total time=   0.1s\n",
            "[CV 2/5] END hidden_layer_sizes=(20, 25), max_iter=500;, score=0.779 total time=   0.4s\n",
            "[CV 3/5] END hidden_layer_sizes=(20, 25), max_iter=500;, score=0.535 total time=   0.1s\n",
            "[CV 4/5] END hidden_layer_sizes=(20, 25), max_iter=500;, score=0.674 total time=   0.1s\n",
            "[CV 5/5] END hidden_layer_sizes=(20, 25), max_iter=500;, score=0.718 total time=   0.2s\n",
            "[CV 1/5] END hidden_layer_sizes=(20, 25), max_iter=1000;, score=0.733 total time=   0.1s\n",
            "[CV 2/5] END hidden_layer_sizes=(20, 25), max_iter=1000;, score=0.826 total time=   0.8s\n",
            "[CV 3/5] END hidden_layer_sizes=(20, 25), max_iter=1000;, score=0.709 total time=   0.2s\n",
            "[CV 4/5] END hidden_layer_sizes=(20, 25), max_iter=1000;, score=0.640 total time=   0.0s\n",
            "[CV 5/5] END hidden_layer_sizes=(20, 25), max_iter=1000;, score=0.788 total time=   0.2s\n",
            "[CV 1/5] END hidden_layer_sizes=(20, 25), max_iter=2500;, score=0.791 total time=   0.3s\n",
            "[CV 2/5] END hidden_layer_sizes=(20, 25), max_iter=2500;, score=0.826 total time=   0.6s\n",
            "[CV 3/5] END hidden_layer_sizes=(20, 25), max_iter=2500;, score=0.872 total time=   0.2s\n",
            "[CV 4/5] END hidden_layer_sizes=(20, 25), max_iter=2500;, score=0.709 total time=   0.1s\n",
            "[CV 5/5] END hidden_layer_sizes=(20, 25), max_iter=2500;, score=0.765 total time=   0.1s\n",
            "[CV 1/5] END hidden_layer_sizes=(25, 25), max_iter=500;, score=0.709 total time=   0.2s\n",
            "[CV 2/5] END hidden_layer_sizes=(25, 25), max_iter=500;, score=0.686 total time=   0.4s\n",
            "[CV 3/5] END hidden_layer_sizes=(25, 25), max_iter=500;, score=0.709 total time=   0.2s\n",
            "[CV 4/5] END hidden_layer_sizes=(25, 25), max_iter=500;, score=0.709 total time=   0.1s\n",
            "[CV 5/5] END hidden_layer_sizes=(25, 25), max_iter=500;, score=0.729 total time=   0.1s\n",
            "[CV 1/5] END hidden_layer_sizes=(25, 25), max_iter=1000;, score=0.756 total time=   0.1s\n",
            "[CV 2/5] END hidden_layer_sizes=(25, 25), max_iter=1000;, score=0.826 total time=   1.1s\n",
            "[CV 3/5] END hidden_layer_sizes=(25, 25), max_iter=1000;, score=0.849 total time=   0.2s\n",
            "[CV 4/5] END hidden_layer_sizes=(25, 25), max_iter=1000;, score=0.674 total time=   0.1s\n",
            "[CV 5/5] END hidden_layer_sizes=(25, 25), max_iter=1000;, score=0.741 total time=   0.2s\n",
            "[CV 1/5] END hidden_layer_sizes=(25, 25), max_iter=2500;, score=0.744 total time=   0.2s\n",
            "[CV 2/5] END hidden_layer_sizes=(25, 25), max_iter=2500;, score=0.767 total time=   0.8s\n",
            "[CV 3/5] END hidden_layer_sizes=(25, 25), max_iter=2500;, score=0.779 total time=   0.1s\n",
            "[CV 4/5] END hidden_layer_sizes=(25, 25), max_iter=2500;, score=0.674 total time=   0.2s\n",
            "[CV 5/5] END hidden_layer_sizes=(25, 25), max_iter=2500;, score=0.741 total time=   0.2s\n",
            "[CV 1/5] END hidden_layer_sizes=(20, 50), max_iter=500;, score=0.674 total time=   0.1s\n",
            "[CV 2/5] END hidden_layer_sizes=(20, 50), max_iter=500;, score=0.721 total time=   0.4s\n",
            "[CV 3/5] END hidden_layer_sizes=(20, 50), max_iter=500;, score=0.721 total time=   0.3s\n",
            "[CV 4/5] END hidden_layer_sizes=(20, 50), max_iter=500;, score=0.744 total time=   0.4s\n",
            "[CV 5/5] END hidden_layer_sizes=(20, 50), max_iter=500;, score=0.647 total time=   0.2s\n",
            "[CV 1/5] END hidden_layer_sizes=(20, 50), max_iter=1000;, score=0.779 total time=   0.3s\n",
            "[CV 2/5] END hidden_layer_sizes=(20, 50), max_iter=1000;, score=0.791 total time=   1.3s\n",
            "[CV 3/5] END hidden_layer_sizes=(20, 50), max_iter=1000;, score=0.814 total time=   0.2s\n",
            "[CV 4/5] END hidden_layer_sizes=(20, 50), max_iter=1000;, score=0.616 total time=   0.2s\n",
            "[CV 5/5] END hidden_layer_sizes=(20, 50), max_iter=1000;, score=0.694 total time=   0.2s\n",
            "[CV 1/5] END hidden_layer_sizes=(20, 50), max_iter=2500;, score=0.663 total time=   0.2s\n",
            "[CV 2/5] END hidden_layer_sizes=(20, 50), max_iter=2500;, score=0.826 total time=   1.7s\n",
            "[CV 3/5] END hidden_layer_sizes=(20, 50), max_iter=2500;, score=0.721 total time=   0.2s\n",
            "[CV 4/5] END hidden_layer_sizes=(20, 50), max_iter=2500;, score=0.640 total time=   0.2s\n",
            "[CV 5/5] END hidden_layer_sizes=(20, 50), max_iter=2500;, score=0.600 total time=   0.2s\n",
            "[CV 1/5] END hidden_layer_sizes=(50, 25), max_iter=500;, score=0.721 total time=   0.1s\n",
            "[CV 2/5] END hidden_layer_sizes=(50, 25), max_iter=500;, score=0.814 total time=   1.3s\n",
            "[CV 3/5] END hidden_layer_sizes=(50, 25), max_iter=500;, score=0.837 total time=   0.2s\n",
            "[CV 4/5] END hidden_layer_sizes=(50, 25), max_iter=500;, score=0.779 total time=   0.3s\n",
            "[CV 5/5] END hidden_layer_sizes=(50, 25), max_iter=500;, score=0.753 total time=   0.2s\n",
            "[CV 1/5] END hidden_layer_sizes=(50, 25), max_iter=1000;, score=0.709 total time=   0.2s\n",
            "[CV 2/5] END hidden_layer_sizes=(50, 25), max_iter=1000;, score=0.826 total time=   2.1s\n",
            "[CV 3/5] END hidden_layer_sizes=(50, 25), max_iter=1000;, score=0.767 total time=   0.2s\n",
            "[CV 4/5] END hidden_layer_sizes=(50, 25), max_iter=1000;, score=0.791 total time=   0.2s\n",
            "[CV 5/5] END hidden_layer_sizes=(50, 25), max_iter=1000;, score=0.741 total time=   0.2s\n",
            "[CV 1/5] END hidden_layer_sizes=(50, 25), max_iter=2500;, score=0.802 total time=   0.6s\n",
            "[CV 2/5] END hidden_layer_sizes=(50, 25), max_iter=2500;, score=0.849 total time=   2.3s\n",
            "[CV 3/5] END hidden_layer_sizes=(50, 25), max_iter=2500;, score=0.860 total time=   0.4s\n",
            "[CV 4/5] END hidden_layer_sizes=(50, 25), max_iter=2500;, score=0.767 total time=   0.2s\n",
            "[CV 5/5] END hidden_layer_sizes=(50, 25), max_iter=2500;, score=0.765 total time=   0.2s\n"
          ]
        },
        {
          "output_type": "execute_result",
          "data": {
            "text/plain": [
              "    mean_fit_time  std_fit_time  mean_score_time  std_score_time  \\\n",
              "14           0.74          0.78             0.00            0.00   \n",
              "5            0.25          0.19             0.00            0.00   \n",
              "1            0.31          0.35             0.00            0.00   \n",
              "12           0.42          0.43             0.00            0.00   \n",
              "7            0.33          0.36             0.00            0.00   \n",
              "13           0.59          0.77             0.00            0.00   \n",
              "0            0.25          0.20             0.00            0.00   \n",
              "8            0.30          0.25             0.00            0.00   \n",
              "4            0.25          0.26             0.00            0.00   \n",
              "2            0.23          0.16             0.00            0.00   \n",
              "10           0.41          0.43             0.00            0.00   \n",
              "6            0.19          0.09             0.00            0.00   \n",
              "9            0.29          0.11             0.01            0.00   \n",
              "3            0.18          0.11             0.00            0.00   \n",
              "11           0.47          0.59             0.00            0.00   \n",
              "\n",
              "   param_hidden_layer_sizes param_max_iter  \\\n",
              "14                 (50, 25)           2500   \n",
              "5                  (20, 25)           2500   \n",
              "1                  (20, 20)           1000   \n",
              "12                 (50, 25)            500   \n",
              "7                  (25, 25)           1000   \n",
              "13                 (50, 25)           1000   \n",
              "0                  (20, 20)            500   \n",
              "8                  (25, 25)           2500   \n",
              "4                  (20, 25)           1000   \n",
              "2                  (20, 20)           2500   \n",
              "10                 (20, 50)           1000   \n",
              "6                  (25, 25)            500   \n",
              "9                  (20, 50)            500   \n",
              "3                  (20, 25)            500   \n",
              "11                 (20, 50)           2500   \n",
              "\n",
              "                                               params  split0_test_score  \\\n",
              "14  {'hidden_layer_sizes': (50, 25), 'max_iter': 2...               0.80   \n",
              "5   {'hidden_layer_sizes': (20, 25), 'max_iter': 2...               0.79   \n",
              "1   {'hidden_layer_sizes': (20, 20), 'max_iter': 1...               0.74   \n",
              "12  {'hidden_layer_sizes': (50, 25), 'max_iter': 500}               0.72   \n",
              "7   {'hidden_layer_sizes': (25, 25), 'max_iter': 1...               0.76   \n",
              "13  {'hidden_layer_sizes': (50, 25), 'max_iter': 1...               0.71   \n",
              "0   {'hidden_layer_sizes': (20, 20), 'max_iter': 500}               0.77   \n",
              "8   {'hidden_layer_sizes': (25, 25), 'max_iter': 2...               0.74   \n",
              "4   {'hidden_layer_sizes': (20, 25), 'max_iter': 1...               0.73   \n",
              "2   {'hidden_layer_sizes': (20, 20), 'max_iter': 2...               0.78   \n",
              "10  {'hidden_layer_sizes': (20, 50), 'max_iter': 1...               0.78   \n",
              "6   {'hidden_layer_sizes': (25, 25), 'max_iter': 500}               0.71   \n",
              "9   {'hidden_layer_sizes': (20, 50), 'max_iter': 500}               0.67   \n",
              "3   {'hidden_layer_sizes': (20, 25), 'max_iter': 500}               0.78   \n",
              "11  {'hidden_layer_sizes': (20, 50), 'max_iter': 2...               0.66   \n",
              "\n",
              "    split1_test_score  split2_test_score  split3_test_score  \\\n",
              "14               0.85               0.86               0.77   \n",
              "5                0.83               0.87               0.71   \n",
              "1                0.86               0.84               0.69   \n",
              "12               0.81               0.84               0.78   \n",
              "7                0.83               0.85               0.67   \n",
              "13               0.83               0.77               0.79   \n",
              "0                0.81               0.78               0.73   \n",
              "8                0.77               0.78               0.67   \n",
              "4                0.83               0.71               0.64   \n",
              "2                0.81               0.58               0.76   \n",
              "10               0.79               0.81               0.62   \n",
              "6                0.69               0.71               0.71   \n",
              "9                0.72               0.72               0.74   \n",
              "3                0.78               0.53               0.67   \n",
              "11               0.83               0.72               0.64   \n",
              "\n",
              "    split4_test_score  mean_test_score  std_test_score  rank_test_score  \n",
              "14               0.76             0.81            0.04                1  \n",
              "5                0.76             0.79            0.06                2  \n",
              "1                0.79             0.78            0.06                3  \n",
              "12               0.75             0.78            0.04                4  \n",
              "7                0.74             0.77            0.06                5  \n",
              "13               0.74             0.77            0.04                6  \n",
              "0                0.68             0.76            0.04                7  \n",
              "8                0.74             0.74            0.04                8  \n",
              "4                0.79             0.74            0.06                9  \n",
              "2                0.76             0.74            0.08               10  \n",
              "10               0.69             0.74            0.07               11  \n",
              "6                0.73             0.71            0.01               12  \n",
              "9                0.65             0.70            0.04               13  \n",
              "3                0.72             0.70            0.09               14  \n",
              "11               0.60             0.69            0.08               15  "
            ],
            "text/html": [
              "\n",
              "  <div id=\"df-82c4cb87-4b11-4c50-a08b-cda637873e22\" class=\"colab-df-container\">\n",
              "    <div>\n",
              "<style scoped>\n",
              "    .dataframe tbody tr th:only-of-type {\n",
              "        vertical-align: middle;\n",
              "    }\n",
              "\n",
              "    .dataframe tbody tr th {\n",
              "        vertical-align: top;\n",
              "    }\n",
              "\n",
              "    .dataframe thead th {\n",
              "        text-align: right;\n",
              "    }\n",
              "</style>\n",
              "<table border=\"1\" class=\"dataframe\">\n",
              "  <thead>\n",
              "    <tr style=\"text-align: right;\">\n",
              "      <th></th>\n",
              "      <th>mean_fit_time</th>\n",
              "      <th>std_fit_time</th>\n",
              "      <th>mean_score_time</th>\n",
              "      <th>std_score_time</th>\n",
              "      <th>param_hidden_layer_sizes</th>\n",
              "      <th>param_max_iter</th>\n",
              "      <th>params</th>\n",
              "      <th>split0_test_score</th>\n",
              "      <th>split1_test_score</th>\n",
              "      <th>split2_test_score</th>\n",
              "      <th>split3_test_score</th>\n",
              "      <th>split4_test_score</th>\n",
              "      <th>mean_test_score</th>\n",
              "      <th>std_test_score</th>\n",
              "      <th>rank_test_score</th>\n",
              "    </tr>\n",
              "  </thead>\n",
              "  <tbody>\n",
              "    <tr>\n",
              "      <th>14</th>\n",
              "      <td>0.74</td>\n",
              "      <td>0.78</td>\n",
              "      <td>0.00</td>\n",
              "      <td>0.00</td>\n",
              "      <td>(50, 25)</td>\n",
              "      <td>2500</td>\n",
              "      <td>{'hidden_layer_sizes': (50, 25), 'max_iter': 2...</td>\n",
              "      <td>0.80</td>\n",
              "      <td>0.85</td>\n",
              "      <td>0.86</td>\n",
              "      <td>0.77</td>\n",
              "      <td>0.76</td>\n",
              "      <td>0.81</td>\n",
              "      <td>0.04</td>\n",
              "      <td>1</td>\n",
              "    </tr>\n",
              "    <tr>\n",
              "      <th>5</th>\n",
              "      <td>0.25</td>\n",
              "      <td>0.19</td>\n",
              "      <td>0.00</td>\n",
              "      <td>0.00</td>\n",
              "      <td>(20, 25)</td>\n",
              "      <td>2500</td>\n",
              "      <td>{'hidden_layer_sizes': (20, 25), 'max_iter': 2...</td>\n",
              "      <td>0.79</td>\n",
              "      <td>0.83</td>\n",
              "      <td>0.87</td>\n",
              "      <td>0.71</td>\n",
              "      <td>0.76</td>\n",
              "      <td>0.79</td>\n",
              "      <td>0.06</td>\n",
              "      <td>2</td>\n",
              "    </tr>\n",
              "    <tr>\n",
              "      <th>1</th>\n",
              "      <td>0.31</td>\n",
              "      <td>0.35</td>\n",
              "      <td>0.00</td>\n",
              "      <td>0.00</td>\n",
              "      <td>(20, 20)</td>\n",
              "      <td>1000</td>\n",
              "      <td>{'hidden_layer_sizes': (20, 20), 'max_iter': 1...</td>\n",
              "      <td>0.74</td>\n",
              "      <td>0.86</td>\n",
              "      <td>0.84</td>\n",
              "      <td>0.69</td>\n",
              "      <td>0.79</td>\n",
              "      <td>0.78</td>\n",
              "      <td>0.06</td>\n",
              "      <td>3</td>\n",
              "    </tr>\n",
              "    <tr>\n",
              "      <th>12</th>\n",
              "      <td>0.42</td>\n",
              "      <td>0.43</td>\n",
              "      <td>0.00</td>\n",
              "      <td>0.00</td>\n",
              "      <td>(50, 25)</td>\n",
              "      <td>500</td>\n",
              "      <td>{'hidden_layer_sizes': (50, 25), 'max_iter': 500}</td>\n",
              "      <td>0.72</td>\n",
              "      <td>0.81</td>\n",
              "      <td>0.84</td>\n",
              "      <td>0.78</td>\n",
              "      <td>0.75</td>\n",
              "      <td>0.78</td>\n",
              "      <td>0.04</td>\n",
              "      <td>4</td>\n",
              "    </tr>\n",
              "    <tr>\n",
              "      <th>7</th>\n",
              "      <td>0.33</td>\n",
              "      <td>0.36</td>\n",
              "      <td>0.00</td>\n",
              "      <td>0.00</td>\n",
              "      <td>(25, 25)</td>\n",
              "      <td>1000</td>\n",
              "      <td>{'hidden_layer_sizes': (25, 25), 'max_iter': 1...</td>\n",
              "      <td>0.76</td>\n",
              "      <td>0.83</td>\n",
              "      <td>0.85</td>\n",
              "      <td>0.67</td>\n",
              "      <td>0.74</td>\n",
              "      <td>0.77</td>\n",
              "      <td>0.06</td>\n",
              "      <td>5</td>\n",
              "    </tr>\n",
              "    <tr>\n",
              "      <th>13</th>\n",
              "      <td>0.59</td>\n",
              "      <td>0.77</td>\n",
              "      <td>0.00</td>\n",
              "      <td>0.00</td>\n",
              "      <td>(50, 25)</td>\n",
              "      <td>1000</td>\n",
              "      <td>{'hidden_layer_sizes': (50, 25), 'max_iter': 1...</td>\n",
              "      <td>0.71</td>\n",
              "      <td>0.83</td>\n",
              "      <td>0.77</td>\n",
              "      <td>0.79</td>\n",
              "      <td>0.74</td>\n",
              "      <td>0.77</td>\n",
              "      <td>0.04</td>\n",
              "      <td>6</td>\n",
              "    </tr>\n",
              "    <tr>\n",
              "      <th>0</th>\n",
              "      <td>0.25</td>\n",
              "      <td>0.20</td>\n",
              "      <td>0.00</td>\n",
              "      <td>0.00</td>\n",
              "      <td>(20, 20)</td>\n",
              "      <td>500</td>\n",
              "      <td>{'hidden_layer_sizes': (20, 20), 'max_iter': 500}</td>\n",
              "      <td>0.77</td>\n",
              "      <td>0.81</td>\n",
              "      <td>0.78</td>\n",
              "      <td>0.73</td>\n",
              "      <td>0.68</td>\n",
              "      <td>0.76</td>\n",
              "      <td>0.04</td>\n",
              "      <td>7</td>\n",
              "    </tr>\n",
              "    <tr>\n",
              "      <th>8</th>\n",
              "      <td>0.30</td>\n",
              "      <td>0.25</td>\n",
              "      <td>0.00</td>\n",
              "      <td>0.00</td>\n",
              "      <td>(25, 25)</td>\n",
              "      <td>2500</td>\n",
              "      <td>{'hidden_layer_sizes': (25, 25), 'max_iter': 2...</td>\n",
              "      <td>0.74</td>\n",
              "      <td>0.77</td>\n",
              "      <td>0.78</td>\n",
              "      <td>0.67</td>\n",
              "      <td>0.74</td>\n",
              "      <td>0.74</td>\n",
              "      <td>0.04</td>\n",
              "      <td>8</td>\n",
              "    </tr>\n",
              "    <tr>\n",
              "      <th>4</th>\n",
              "      <td>0.25</td>\n",
              "      <td>0.26</td>\n",
              "      <td>0.00</td>\n",
              "      <td>0.00</td>\n",
              "      <td>(20, 25)</td>\n",
              "      <td>1000</td>\n",
              "      <td>{'hidden_layer_sizes': (20, 25), 'max_iter': 1...</td>\n",
              "      <td>0.73</td>\n",
              "      <td>0.83</td>\n",
              "      <td>0.71</td>\n",
              "      <td>0.64</td>\n",
              "      <td>0.79</td>\n",
              "      <td>0.74</td>\n",
              "      <td>0.06</td>\n",
              "      <td>9</td>\n",
              "    </tr>\n",
              "    <tr>\n",
              "      <th>2</th>\n",
              "      <td>0.23</td>\n",
              "      <td>0.16</td>\n",
              "      <td>0.00</td>\n",
              "      <td>0.00</td>\n",
              "      <td>(20, 20)</td>\n",
              "      <td>2500</td>\n",
              "      <td>{'hidden_layer_sizes': (20, 20), 'max_iter': 2...</td>\n",
              "      <td>0.78</td>\n",
              "      <td>0.81</td>\n",
              "      <td>0.58</td>\n",
              "      <td>0.76</td>\n",
              "      <td>0.76</td>\n",
              "      <td>0.74</td>\n",
              "      <td>0.08</td>\n",
              "      <td>10</td>\n",
              "    </tr>\n",
              "    <tr>\n",
              "      <th>10</th>\n",
              "      <td>0.41</td>\n",
              "      <td>0.43</td>\n",
              "      <td>0.00</td>\n",
              "      <td>0.00</td>\n",
              "      <td>(20, 50)</td>\n",
              "      <td>1000</td>\n",
              "      <td>{'hidden_layer_sizes': (20, 50), 'max_iter': 1...</td>\n",
              "      <td>0.78</td>\n",
              "      <td>0.79</td>\n",
              "      <td>0.81</td>\n",
              "      <td>0.62</td>\n",
              "      <td>0.69</td>\n",
              "      <td>0.74</td>\n",
              "      <td>0.07</td>\n",
              "      <td>11</td>\n",
              "    </tr>\n",
              "    <tr>\n",
              "      <th>6</th>\n",
              "      <td>0.19</td>\n",
              "      <td>0.09</td>\n",
              "      <td>0.00</td>\n",
              "      <td>0.00</td>\n",
              "      <td>(25, 25)</td>\n",
              "      <td>500</td>\n",
              "      <td>{'hidden_layer_sizes': (25, 25), 'max_iter': 500}</td>\n",
              "      <td>0.71</td>\n",
              "      <td>0.69</td>\n",
              "      <td>0.71</td>\n",
              "      <td>0.71</td>\n",
              "      <td>0.73</td>\n",
              "      <td>0.71</td>\n",
              "      <td>0.01</td>\n",
              "      <td>12</td>\n",
              "    </tr>\n",
              "    <tr>\n",
              "      <th>9</th>\n",
              "      <td>0.29</td>\n",
              "      <td>0.11</td>\n",
              "      <td>0.01</td>\n",
              "      <td>0.00</td>\n",
              "      <td>(20, 50)</td>\n",
              "      <td>500</td>\n",
              "      <td>{'hidden_layer_sizes': (20, 50), 'max_iter': 500}</td>\n",
              "      <td>0.67</td>\n",
              "      <td>0.72</td>\n",
              "      <td>0.72</td>\n",
              "      <td>0.74</td>\n",
              "      <td>0.65</td>\n",
              "      <td>0.70</td>\n",
              "      <td>0.04</td>\n",
              "      <td>13</td>\n",
              "    </tr>\n",
              "    <tr>\n",
              "      <th>3</th>\n",
              "      <td>0.18</td>\n",
              "      <td>0.11</td>\n",
              "      <td>0.00</td>\n",
              "      <td>0.00</td>\n",
              "      <td>(20, 25)</td>\n",
              "      <td>500</td>\n",
              "      <td>{'hidden_layer_sizes': (20, 25), 'max_iter': 500}</td>\n",
              "      <td>0.78</td>\n",
              "      <td>0.78</td>\n",
              "      <td>0.53</td>\n",
              "      <td>0.67</td>\n",
              "      <td>0.72</td>\n",
              "      <td>0.70</td>\n",
              "      <td>0.09</td>\n",
              "      <td>14</td>\n",
              "    </tr>\n",
              "    <tr>\n",
              "      <th>11</th>\n",
              "      <td>0.47</td>\n",
              "      <td>0.59</td>\n",
              "      <td>0.00</td>\n",
              "      <td>0.00</td>\n",
              "      <td>(20, 50)</td>\n",
              "      <td>2500</td>\n",
              "      <td>{'hidden_layer_sizes': (20, 50), 'max_iter': 2...</td>\n",
              "      <td>0.66</td>\n",
              "      <td>0.83</td>\n",
              "      <td>0.72</td>\n",
              "      <td>0.64</td>\n",
              "      <td>0.60</td>\n",
              "      <td>0.69</td>\n",
              "      <td>0.08</td>\n",
              "      <td>15</td>\n",
              "    </tr>\n",
              "  </tbody>\n",
              "</table>\n",
              "</div>\n",
              "    <div class=\"colab-df-buttons\">\n",
              "\n",
              "  <div class=\"colab-df-container\">\n",
              "    <button class=\"colab-df-convert\" onclick=\"convertToInteractive('df-82c4cb87-4b11-4c50-a08b-cda637873e22')\"\n",
              "            title=\"Convert this dataframe to an interactive table.\"\n",
              "            style=\"display:none;\">\n",
              "\n",
              "  <svg xmlns=\"http://www.w3.org/2000/svg\" height=\"24px\" viewBox=\"0 -960 960 960\">\n",
              "    <path d=\"M120-120v-720h720v720H120Zm60-500h600v-160H180v160Zm220 220h160v-160H400v160Zm0 220h160v-160H400v160ZM180-400h160v-160H180v160Zm440 0h160v-160H620v160ZM180-180h160v-160H180v160Zm440 0h160v-160H620v160Z\"/>\n",
              "  </svg>\n",
              "    </button>\n",
              "\n",
              "  <style>\n",
              "    .colab-df-container {\n",
              "      display:flex;\n",
              "      gap: 12px;\n",
              "    }\n",
              "\n",
              "    .colab-df-convert {\n",
              "      background-color: #E8F0FE;\n",
              "      border: none;\n",
              "      border-radius: 50%;\n",
              "      cursor: pointer;\n",
              "      display: none;\n",
              "      fill: #1967D2;\n",
              "      height: 32px;\n",
              "      padding: 0 0 0 0;\n",
              "      width: 32px;\n",
              "    }\n",
              "\n",
              "    .colab-df-convert:hover {\n",
              "      background-color: #E2EBFA;\n",
              "      box-shadow: 0px 1px 2px rgba(60, 64, 67, 0.3), 0px 1px 3px 1px rgba(60, 64, 67, 0.15);\n",
              "      fill: #174EA6;\n",
              "    }\n",
              "\n",
              "    .colab-df-buttons div {\n",
              "      margin-bottom: 4px;\n",
              "    }\n",
              "\n",
              "    [theme=dark] .colab-df-convert {\n",
              "      background-color: #3B4455;\n",
              "      fill: #D2E3FC;\n",
              "    }\n",
              "\n",
              "    [theme=dark] .colab-df-convert:hover {\n",
              "      background-color: #434B5C;\n",
              "      box-shadow: 0px 1px 3px 1px rgba(0, 0, 0, 0.15);\n",
              "      filter: drop-shadow(0px 1px 2px rgba(0, 0, 0, 0.3));\n",
              "      fill: #FFFFFF;\n",
              "    }\n",
              "  </style>\n",
              "\n",
              "    <script>\n",
              "      const buttonEl =\n",
              "        document.querySelector('#df-82c4cb87-4b11-4c50-a08b-cda637873e22 button.colab-df-convert');\n",
              "      buttonEl.style.display =\n",
              "        google.colab.kernel.accessAllowed ? 'block' : 'none';\n",
              "\n",
              "      async function convertToInteractive(key) {\n",
              "        const element = document.querySelector('#df-82c4cb87-4b11-4c50-a08b-cda637873e22');\n",
              "        const dataTable =\n",
              "          await google.colab.kernel.invokeFunction('convertToInteractive',\n",
              "                                                    [key], {});\n",
              "        if (!dataTable) return;\n",
              "\n",
              "        const docLinkHtml = 'Like what you see? Visit the ' +\n",
              "          '<a target=\"_blank\" href=https://colab.research.google.com/notebooks/data_table.ipynb>data table notebook</a>'\n",
              "          + ' to learn more about interactive tables.';\n",
              "        element.innerHTML = '';\n",
              "        dataTable['output_type'] = 'display_data';\n",
              "        await google.colab.output.renderOutput(dataTable, element);\n",
              "        const docLink = document.createElement('div');\n",
              "        docLink.innerHTML = docLinkHtml;\n",
              "        element.appendChild(docLink);\n",
              "      }\n",
              "    </script>\n",
              "  </div>\n",
              "\n",
              "\n",
              "<div id=\"df-38d112be-2b88-4ca5-b49b-db8354d055a7\">\n",
              "  <button class=\"colab-df-quickchart\" onclick=\"quickchart('df-38d112be-2b88-4ca5-b49b-db8354d055a7')\"\n",
              "            title=\"Suggest charts\"\n",
              "            style=\"display:none;\">\n",
              "\n",
              "<svg xmlns=\"http://www.w3.org/2000/svg\" height=\"24px\"viewBox=\"0 0 24 24\"\n",
              "     width=\"24px\">\n",
              "    <g>\n",
              "        <path d=\"M19 3H5c-1.1 0-2 .9-2 2v14c0 1.1.9 2 2 2h14c1.1 0 2-.9 2-2V5c0-1.1-.9-2-2-2zM9 17H7v-7h2v7zm4 0h-2V7h2v10zm4 0h-2v-4h2v4z\"/>\n",
              "    </g>\n",
              "</svg>\n",
              "  </button>\n",
              "\n",
              "<style>\n",
              "  .colab-df-quickchart {\n",
              "      --bg-color: #E8F0FE;\n",
              "      --fill-color: #1967D2;\n",
              "      --hover-bg-color: #E2EBFA;\n",
              "      --hover-fill-color: #174EA6;\n",
              "      --disabled-fill-color: #AAA;\n",
              "      --disabled-bg-color: #DDD;\n",
              "  }\n",
              "\n",
              "  [theme=dark] .colab-df-quickchart {\n",
              "      --bg-color: #3B4455;\n",
              "      --fill-color: #D2E3FC;\n",
              "      --hover-bg-color: #434B5C;\n",
              "      --hover-fill-color: #FFFFFF;\n",
              "      --disabled-bg-color: #3B4455;\n",
              "      --disabled-fill-color: #666;\n",
              "  }\n",
              "\n",
              "  .colab-df-quickchart {\n",
              "    background-color: var(--bg-color);\n",
              "    border: none;\n",
              "    border-radius: 50%;\n",
              "    cursor: pointer;\n",
              "    display: none;\n",
              "    fill: var(--fill-color);\n",
              "    height: 32px;\n",
              "    padding: 0;\n",
              "    width: 32px;\n",
              "  }\n",
              "\n",
              "  .colab-df-quickchart:hover {\n",
              "    background-color: var(--hover-bg-color);\n",
              "    box-shadow: 0 1px 2px rgba(60, 64, 67, 0.3), 0 1px 3px 1px rgba(60, 64, 67, 0.15);\n",
              "    fill: var(--button-hover-fill-color);\n",
              "  }\n",
              "\n",
              "  .colab-df-quickchart-complete:disabled,\n",
              "  .colab-df-quickchart-complete:disabled:hover {\n",
              "    background-color: var(--disabled-bg-color);\n",
              "    fill: var(--disabled-fill-color);\n",
              "    box-shadow: none;\n",
              "  }\n",
              "\n",
              "  .colab-df-spinner {\n",
              "    border: 2px solid var(--fill-color);\n",
              "    border-color: transparent;\n",
              "    border-bottom-color: var(--fill-color);\n",
              "    animation:\n",
              "      spin 1s steps(1) infinite;\n",
              "  }\n",
              "\n",
              "  @keyframes spin {\n",
              "    0% {\n",
              "      border-color: transparent;\n",
              "      border-bottom-color: var(--fill-color);\n",
              "      border-left-color: var(--fill-color);\n",
              "    }\n",
              "    20% {\n",
              "      border-color: transparent;\n",
              "      border-left-color: var(--fill-color);\n",
              "      border-top-color: var(--fill-color);\n",
              "    }\n",
              "    30% {\n",
              "      border-color: transparent;\n",
              "      border-left-color: var(--fill-color);\n",
              "      border-top-color: var(--fill-color);\n",
              "      border-right-color: var(--fill-color);\n",
              "    }\n",
              "    40% {\n",
              "      border-color: transparent;\n",
              "      border-right-color: var(--fill-color);\n",
              "      border-top-color: var(--fill-color);\n",
              "    }\n",
              "    60% {\n",
              "      border-color: transparent;\n",
              "      border-right-color: var(--fill-color);\n",
              "    }\n",
              "    80% {\n",
              "      border-color: transparent;\n",
              "      border-right-color: var(--fill-color);\n",
              "      border-bottom-color: var(--fill-color);\n",
              "    }\n",
              "    90% {\n",
              "      border-color: transparent;\n",
              "      border-bottom-color: var(--fill-color);\n",
              "    }\n",
              "  }\n",
              "</style>\n",
              "\n",
              "  <script>\n",
              "    async function quickchart(key) {\n",
              "      const quickchartButtonEl =\n",
              "        document.querySelector('#' + key + ' button');\n",
              "      quickchartButtonEl.disabled = true;  // To prevent multiple clicks.\n",
              "      quickchartButtonEl.classList.add('colab-df-spinner');\n",
              "      try {\n",
              "        const charts = await google.colab.kernel.invokeFunction(\n",
              "            'suggestCharts', [key], {});\n",
              "      } catch (error) {\n",
              "        console.error('Error during call to suggestCharts:', error);\n",
              "      }\n",
              "      quickchartButtonEl.classList.remove('colab-df-spinner');\n",
              "      quickchartButtonEl.classList.add('colab-df-quickchart-complete');\n",
              "    }\n",
              "    (() => {\n",
              "      let quickchartButtonEl =\n",
              "        document.querySelector('#df-38d112be-2b88-4ca5-b49b-db8354d055a7 button');\n",
              "      quickchartButtonEl.style.display =\n",
              "        google.colab.kernel.accessAllowed ? 'block' : 'none';\n",
              "    })();\n",
              "  </script>\n",
              "</div>\n",
              "    </div>\n",
              "  </div>\n"
            ],
            "application/vnd.google.colaboratory.intrinsic+json": {
              "type": "dataframe",
              "summary": "{\n  \"name\": \"resultados_modelo1\",\n  \"rows\": 15,\n  \"fields\": [\n    {\n      \"column\": \"mean_fit_time\",\n      \"properties\": {\n        \"dtype\": \"number\",\n        \"std\": 0.1560164649898703,\n        \"min\": 0.17880401611328126,\n        \"max\": 0.7429110050201416,\n        \"num_unique_values\": 15,\n        \"samples\": [\n          0.2318117618560791,\n          0.18797988891601564,\n          0.7429110050201416\n        ],\n        \"semantic_type\": \"\",\n        \"description\": \"\"\n      }\n    },\n    {\n      \"column\": \"std_fit_time\",\n      \"properties\": {\n        \"dtype\": \"number\",\n        \"std\": 0.22760795722320595,\n        \"min\": 0.09033277094078936,\n        \"max\": 0.7843402727527051,\n        \"num_unique_values\": 15,\n        \"samples\": [\n          0.1556314299359621,\n          0.09033277094078936,\n          0.7843402727527051\n        ],\n        \"semantic_type\": \"\",\n        \"description\": \"\"\n      }\n    },\n    {\n      \"column\": \"mean_score_time\",\n      \"properties\": {\n        \"dtype\": \"number\",\n        \"std\": 0.0009049978075618071,\n        \"min\": 0.002704477310180664,\n        \"max\": 0.006064939498901367,\n        \"num_unique_values\": 15,\n        \"samples\": [\n          0.002826881408691406,\n          0.0028032779693603514,\n          0.003979778289794922\n        ],\n        \"semantic_type\": \"\",\n        \"description\": \"\"\n      }\n    },\n    {\n      \"column\": \"std_score_time\",\n      \"properties\": {\n        \"dtype\": \"number\",\n        \"std\": 0.0008271056432986444,\n        \"min\": 1.900146715870451e-05,\n        \"max\": 0.0031782350619369744,\n        \"num_unique_values\": 15,\n        \"samples\": [\n          0.0001316111501803143,\n          7.040390432976276e-05,\n          0.00010283870834261042\n        ],\n        \"semantic_type\": \"\",\n        \"description\": \"\"\n      }\n    },\n    {\n      \"column\": \"param_hidden_layer_sizes\",\n      \"properties\": {\n        \"dtype\": \"category\",\n        \"num_unique_values\": 5,\n        \"samples\": [\n          [\n            20,\n            25\n          ],\n          [\n            20,\n            50\n          ],\n          [\n            20,\n            20\n          ]\n        ],\n        \"semantic_type\": \"\",\n        \"description\": \"\"\n      }\n    },\n    {\n      \"column\": \"param_max_iter\",\n      \"properties\": {\n        \"dtype\": \"date\",\n        \"min\": 500,\n        \"max\": 2500,\n        \"num_unique_values\": 3,\n        \"samples\": [\n          2500,\n          1000,\n          500\n        ],\n        \"semantic_type\": \"\",\n        \"description\": \"\"\n      }\n    },\n    {\n      \"column\": \"params\",\n      \"properties\": {\n        \"dtype\": \"object\",\n        \"semantic_type\": \"\",\n        \"description\": \"\"\n      }\n    },\n    {\n      \"column\": \"split0_test_score\",\n      \"properties\": {\n        \"dtype\": \"number\",\n        \"std\": 0.04180197710468576,\n        \"min\": 0.6627906976744186,\n        \"max\": 0.8023255813953488,\n        \"num_unique_values\": 11,\n        \"samples\": [\n          0.7093023255813954,\n          0.8023255813953488,\n          0.6744186046511628\n        ],\n        \"semantic_type\": \"\",\n        \"description\": \"\"\n      }\n    },\n    {\n      \"column\": \"split1_test_score\",\n      \"properties\": {\n        \"dtype\": \"number\",\n        \"std\": 0.04681517779554659,\n        \"min\": 0.686046511627907,\n        \"max\": 0.8604651162790697,\n        \"num_unique_values\": 9,\n        \"samples\": [\n          0.7209302325581395,\n          0.8255813953488372,\n          0.7906976744186046\n        ],\n        \"semantic_type\": \"\",\n        \"description\": \"\"\n      }\n    },\n    {\n      \"column\": \"split2_test_score\",\n      \"properties\": {\n        \"dtype\": \"number\",\n        \"std\": 0.09888117060246675,\n        \"min\": 0.5348837209302325,\n        \"max\": 0.872093023255814,\n        \"num_unique_values\": 11,\n        \"samples\": [\n          0.7790697674418605,\n          0.8604651162790697,\n          0.7209302325581395\n        ],\n        \"semantic_type\": \"\",\n        \"description\": \"\"\n      }\n    },\n    {\n      \"column\": \"split3_test_score\",\n      \"properties\": {\n        \"dtype\": \"number\",\n        \"std\": 0.05426752081774842,\n        \"min\": 0.6162790697674418,\n        \"max\": 0.7906976744186046,\n        \"num_unique_values\": 11,\n        \"samples\": [\n          0.7906976744186046,\n          0.7674418604651163,\n          0.6162790697674418\n        ],\n        \"semantic_type\": \"\",\n        \"description\": \"\"\n      }\n    },\n    {\n      \"column\": \"split4_test_score\",\n      \"properties\": {\n        \"dtype\": \"number\",\n        \"std\": 0.05258830422544815,\n        \"min\": 0.6,\n        \"max\": 0.788235294117647,\n        \"num_unique_values\": 10,\n        \"samples\": [\n          0.7176470588235294,\n          0.788235294117647,\n          0.6941176470588235\n        ],\n        \"semantic_type\": \"\",\n        \"description\": \"\"\n      }\n    },\n    {\n      \"column\": \"mean_test_score\",\n      \"properties\": {\n        \"dtype\": \"number\",\n        \"std\": 0.0366697550740103,\n        \"min\": 0.6897674418604651,\n        \"max\": 0.8087551299589603,\n        \"num_unique_values\": 15,\n        \"samples\": [\n          0.7389876880984952,\n          0.7086730506155952,\n          0.8087551299589603\n        ],\n        \"semantic_type\": \"\",\n        \"description\": \"\"\n      }\n    },\n    {\n      \"column\": \"std_test_score\",\n      \"properties\": {\n        \"dtype\": \"number\",\n        \"std\": 0.021038703602150776,\n        \"min\": 0.013734937128562308,\n        \"max\": 0.09020953416128881,\n        \"num_unique_values\": 15,\n        \"samples\": [\n          0.08124818571718756,\n          0.013734937128562308,\n          0.039922317856990554\n        ],\n        \"semantic_type\": \"\",\n        \"description\": \"\"\n      }\n    },\n    {\n      \"column\": \"rank_test_score\",\n      \"properties\": {\n        \"dtype\": \"int32\",\n        \"num_unique_values\": 15,\n        \"samples\": [\n          10,\n          12,\n          1\n        ],\n        \"semantic_type\": \"\",\n        \"description\": \"\"\n      }\n    }\n  ]\n}"
            }
          },
          "metadata": {},
          "execution_count": 136
        }
      ]
    },
    {
      "cell_type": "code",
      "source": [
        "# Guardamos el mejor modelo de acuerdo con el GridSearch\n",
        "clf_nn_best = clf_nn.best_estimator_"
      ],
      "metadata": {
        "id": "t_XCtNrq0FXw"
      },
      "execution_count": 137,
      "outputs": []
    },
    {
      "cell_type": "markdown",
      "source": [
        "#### Rendimiento del modelo"
      ],
      "metadata": {
        "id": "C1nw8OpC0hy-"
      }
    },
    {
      "cell_type": "code",
      "source": [
        "import seaborn as sns\n",
        "\n",
        "\n",
        "y_true = np.array(y_test)\n",
        "y_pred = clf_nn_best.predict(X_test)"
      ],
      "metadata": {
        "id": "E87_nSpV0mHw"
      },
      "execution_count": 203,
      "outputs": []
    },
    {
      "cell_type": "code",
      "source": [
        "clr = classification_report(y_true, y_pred)\n",
        "print(clr)"
      ],
      "metadata": {
        "id": "_Nq1zA290RVt",
        "colab": {
          "base_uri": "https://localhost:8080/"
        },
        "outputId": "e78d80c3-6590-4b3c-a1ba-44aadca37ee0"
      },
      "execution_count": 204,
      "outputs": [
        {
          "output_type": "stream",
          "name": "stdout",
          "text": [
            "              precision    recall  f1-score   support\n",
            "\n",
            "         0.0       0.91      0.42      0.57        74\n",
            "         1.0       0.42      0.91      0.57        34\n",
            "\n",
            "    accuracy                           0.57       108\n",
            "   macro avg       0.67      0.67      0.57       108\n",
            "weighted avg       0.76      0.57      0.57       108\n",
            "\n"
          ]
        }
      ]
    },
    {
      "cell_type": "code",
      "source": [
        "cm = confusion_matrix(y_true, y_pred)\n",
        "\n",
        "\n",
        "plt.figure(figsize=(8, 8))\n",
        "sns.heatmap(cm, annot=True, vmin=0, fmt='g', cmap='Greens', cbar=False)\n",
        "plt.xticks(np.arange(2) + 0.5)\n",
        "plt.yticks(np.arange(2) + 0.5)\n",
        "plt.xlabel(\"Predicción\")\n",
        "plt.ylabel(\"Valor real\")\n",
        "plt.title(\"Matriz de Confusión Redes Neuronales\")\n",
        "plt.show()"
      ],
      "metadata": {
        "id": "1f4GBfJU1sgT",
        "colab": {
          "base_uri": "https://localhost:8080/",
          "height": 718
        },
        "outputId": "327410c1-297b-4a59-d6d1-41cc2bec5234"
      },
      "execution_count": 205,
      "outputs": [
        {
          "output_type": "display_data",
          "data": {
            "text/plain": [
              "<Figure size 800x800 with 1 Axes>"
            ],
            "image/png": "[encoded data removed]"
          },
          "metadata": {}
        }
      ]
    },
    {
      "cell_type": "markdown",
      "source": [
        "En cuanto al rendimiento del modelo podemos observar que el realizar la validación cruzada nos ayudó a estimar el mejor modelo, quizá existiera algún modelo con mejor accuracy que el seleccionado, pero lo que hace GridSearch es buscar aquel modelo que en general tuvo mejor desempeño, no solo con una sección especíifica de los datos. Esto elimina el factor de que exista un modelo que realice bien su tarea meramente por suerte.\n",
        "\n",
        "Al revisar la matriz de confusión podemos notar que a la hora de predecir cuando una persona está enferema y verdaderamente lo está es bastante eficiente (teniendo un excelente 91% en recall); sin embargo, a la hora de predecir si una persona no está enferma tiene áreas de oportunidad ya que el recall de esa variable es bastante pobre (42%). No obstante, consideramos que en cuestiones de salud es mucho más importante predecir adecuadamente si una persona posea una enfermedad (es decir, tener una buena precisión en los verdaderos positivos). Ahora bien, los falsos negativos también son importantes y predecirlos érroneamente puede tener sus consecuencias, pero siempre se le puede invitar al paciente a realizarse una prueba formal en cualquier otro hospital para asegurarnos de que esté libre de la enfermedad."
      ],
      "metadata": {
        "id": "Jyoy-c4f2Kj2"
      }
    },
    {
      "cell_type": "markdown",
      "source": [
        "También se realizó una curva ROC para observar el rendimiento del modelo."
      ],
      "metadata": {
        "id": "pfzEYiK6DKn3"
      }
    },
    {
      "cell_type": "code",
      "source": [
        "fpr, tpr, thresholds = roc_curve(y_test, y_pred)\n",
        "\n",
        "\n",
        "plt.figure()\n",
        "plt.plot(fpr, tpr, color='darkorange', lw=2,)\n",
        "plt.plot([0, 1], [0, 1], color='navy', lw=2, linestyle='--')\n",
        "plt.xlim([0.0, 1.0])\n",
        "plt.ylim([0.0, 1.05])\n",
        "plt.xlabel('Especificidad')\n",
        "plt.ylabel('Sensibilidad')\n",
        "plt.title('Curva ROC Redes Neuronales')\n",
        "plt.show()"
      ],
      "metadata": {
        "colab": {
          "base_uri": "https://localhost:8080/",
          "height": 472
        },
        "id": "CXJ4Lp6wDKRZ",
        "outputId": "a11064c5-8878-4e2d-e6bf-cef6e73568ce"
      },
      "execution_count": 206,
      "outputs": [
        {
          "output_type": "display_data",
          "data": {
            "text/plain": [
              "<Figure size 640x480 with 1 Axes>"
            ],
            "image/png": "[encoded data removed]"
          },
          "metadata": {}
        }
      ]
    },
    {
      "cell_type": "markdown",
      "source": [
        "### Ajeno a la clase"
      ],
      "metadata": {
        "id": "MwG-SiN3LUiF"
      }
    },
    {
      "cell_type": "markdown",
      "source": [
        "Para el método ajeno a la clase, consideramos que lo más óptimo es realizar el método de random forest. Consideramos que es probable que este método arroje peores resultados que las redes neuronales, debido a que siguen siendo árboles de decisión, pero tenemos la esperanza de que al ser muchos árboles aleatorios al juntarse se consiga un resultado por lo menos aceptable."
      ],
      "metadata": {
        "id": "cFk7wqz2MG_c"
      }
    },
    {
      "cell_type": "markdown",
      "source": [
        "#### Modelo"
      ],
      "metadata": {
        "id": "XsdnN-x5gRct"
      }
    },
    {
      "cell_type": "code",
      "source": [
        "from sklearn.model_selection import train_test_split\n",
        "from sklearn.ensemble import RandomForestClassifier\n",
        "from sklearn.metrics import accuracy_score"
      ],
      "metadata": {
        "id": "tYTdvdGaS_sA"
      },
      "execution_count": 207,
      "outputs": []
    },
    {
      "cell_type": "code",
      "source": [
        "#Separamos la clase a predecir en y y dejamos el dataset en X para más facilidad de programar\n",
        "y = df[\"PCOS (Y/N)\"]\n",
        "#y\n",
        "X = df.drop([\"PCOS (Y/N)\"], axis = 1)\n",
        "#X"
      ],
      "metadata": {
        "id": "Rk7bSCe6UEao"
      },
      "execution_count": 208,
      "outputs": []
    },
    {
      "cell_type": "code",
      "source": [
        "# Se elige la misma semilla que en el modelo anterior para asegurar una comparación justa\n",
        "X_train, X_test, y_train, y_test = train_test_split(X, y, test_size=0.2, random_state=42)"
      ],
      "metadata": {
        "id": "6Qm_iF0EfRsc"
      },
      "execution_count": 209,
      "outputs": []
    },
    {
      "cell_type": "code",
      "source": [
        "# Creamos el modelo\n",
        "clf = RandomForestClassifier(n_estimators=100, random_state=42)\n",
        "# Entrenar el modelo\n",
        "clf.fit(X_train, y_train)"
      ],
      "metadata": {
        "colab": {
          "base_uri": "https://localhost:8080/",
          "height": 74
        },
        "id": "YXeaumOlfiR-",
        "outputId": "aecf2299-c7d9-4c7c-f04d-a2358ab74aba"
      },
      "execution_count": 210,
      "outputs": [
        {
          "output_type": "execute_result",
          "data": {
            "text/plain": [
              "RandomForestClassifier(random_state=42)"
            ],
            "text/html": [
              "<style>#sk-container-id-14 {color: black;background-color: white;}#sk-container-id-14 pre{padding: 0;}#sk-container-id-14 div.sk-toggleable {background-color: white;}#sk-container-id-14 label.sk-toggleable__label {cursor: pointer;display: block;width: 100%;margin-bottom: 0;padding: 0.3em;box-sizing: border-box;text-align: center;}#sk-container-id-14 label.sk-toggleable__label-arrow:before {content: \"▸\";float: left;margin-right: 0.25em;color: #696969;}#sk-container-id-14 label.sk-toggleable__label-arrow:hover:before {color: black;}#sk-container-id-14 div.sk-estimator:hover label.sk-toggleable__label-arrow:before {color: black;}#sk-container-id-14 div.sk-toggleable__content {max-height: 0;max-width: 0;overflow: hidden;text-align: left;background-color: #f0f8ff;}#sk-container-id-14 div.sk-toggleable__content pre {margin: 0.2em;color: black;border-radius: 0.25em;background-color: #f0f8ff;}#sk-container-id-14 input.sk-toggleable__control:checked~div.sk-toggleable__content {max-height: 200px;max-width: 100%;overflow: auto;}#sk-container-id-14 input.sk-toggleable__control:checked~label.sk-toggleable__label-arrow:before {content: \"▾\";}#sk-container-id-14 div.sk-estimator input.sk-toggleable__control:checked~label.sk-toggleable__label {background-color: #d4ebff;}#sk-container-id-14 div.sk-label input.sk-toggleable__control:checked~label.sk-toggleable__label {background-color: #d4ebff;}#sk-container-id-14 input.sk-hidden--visually {border: 0;clip: rect(1px 1px 1px 1px);clip: rect(1px, 1px, 1px, 1px);height: 1px;margin: -1px;overflow: hidden;padding: 0;position: absolute;width: 1px;}#sk-container-id-14 div.sk-estimator {font-family: monospace;background-color: #f0f8ff;border: 1px dotted black;border-radius: 0.25em;box-sizing: border-box;margin-bottom: 0.5em;}#sk-container-id-14 div.sk-estimator:hover {background-color: #d4ebff;}#sk-container-id-14 div.sk-parallel-item::after {content: \"\";width: 100%;border-bottom: 1px solid gray;flex-grow: 1;}#sk-container-id-14 div.sk-label:hover label.sk-toggleable__label {background-color: #d4ebff;}#sk-container-id-14 div.sk-serial::before {content: \"\";position: absolute;border-left: 1px solid gray;box-sizing: border-box;top: 0;bottom: 0;left: 50%;z-index: 0;}#sk-container-id-14 div.sk-serial {display: flex;flex-direction: column;align-items: center;background-color: white;padding-right: 0.2em;padding-left: 0.2em;position: relative;}#sk-container-id-14 div.sk-item {position: relative;z-index: 1;}#sk-container-id-14 div.sk-parallel {display: flex;align-items: stretch;justify-content: center;background-color: white;position: relative;}#sk-container-id-14 div.sk-item::before, #sk-container-id-14 div.sk-parallel-item::before {content: \"\";position: absolute;border-left: 1px solid gray;box-sizing: border-box;top: 0;bottom: 0;left: 50%;z-index: -1;}#sk-container-id-14 div.sk-parallel-item {display: flex;flex-direction: column;z-index: 1;position: relative;background-color: white;}#sk-container-id-14 div.sk-parallel-item:first-child::after {align-self: flex-end;width: 50%;}#sk-container-id-14 div.sk-parallel-item:last-child::after {align-self: flex-start;width: 50%;}#sk-container-id-14 div.sk-parallel-item:only-child::after {width: 0;}#sk-container-id-14 div.sk-dashed-wrapped {border: 1px dashed gray;margin: 0 0.4em 0.5em 0.4em;box-sizing: border-box;padding-bottom: 0.4em;background-color: white;}#sk-container-id-14 div.sk-label label {font-family: monospace;font-weight: bold;display: inline-block;line-height: 1.2em;}#sk-container-id-14 div.sk-label-container {text-align: center;}#sk-container-id-14 div.sk-container {/* jupyter's `normalize.less` sets `[hidden] { display: none; }` but bootstrap.min.css set `[hidden] { display: none !important; }` so we also need the `!important` here to be able to override the default hidden behavior on the sphinx rendered scikit-learn.org. See: https://github.com/scikit-learn/scikit-learn/issues/21755 */display: inline-block !important;position: relative;}#sk-container-id-14 div.sk-text-repr-fallback {display: none;}</style><div id=\"sk-container-id-14\" class=\"sk-top-container\"><div class=\"sk-text-repr-fallback\"><pre>RandomForestClassifier(random_state=42)</pre><b>In a Jupyter environment, please rerun this cell to show the HTML representation or trust the notebook. <br />On GitHub, the HTML representation is unable to render, please try loading this page with nbviewer.org.</b></div><div class=\"sk-container\" hidden><div class=\"sk-item\"><div class=\"sk-estimator sk-toggleable\"><input class=\"sk-toggleable__control sk-hidden--visually\" id=\"sk-estimator-id-14\" type=\"checkbox\" checked><label for=\"sk-estimator-id-14\" class=\"sk-toggleable__label sk-toggleable__label-arrow\">RandomForestClassifier</label><div class=\"sk-toggleable__content\"><pre>RandomForestClassifier(random_state=42)</pre></div></div></div></div></div>"
            ]
          },
          "metadata": {},
          "execution_count": 210
        }
      ]
    },
    {
      "cell_type": "code",
      "source": [
        "y_pred = clf.predict(X_test)\n",
        "y_true = np.array(y_test)"
      ],
      "metadata": {
        "id": "1dEvOuQEf2JQ"
      },
      "execution_count": 211,
      "outputs": []
    },
    {
      "cell_type": "markdown",
      "source": [
        "#### Rendimiento del modelo"
      ],
      "metadata": {
        "id": "7GGgnYGIgOJV"
      }
    },
    {
      "cell_type": "code",
      "source": [
        "clr = classification_report(y_true, y_pred)\n",
        "print(clr)"
      ],
      "metadata": {
        "colab": {
          "base_uri": "https://localhost:8080/"
        },
        "id": "OSHWoFgvf70_",
        "outputId": "b7c8503a-f93b-4ba3-a18b-ca01edc56bb5"
      },
      "execution_count": 212,
      "outputs": [
        {
          "output_type": "stream",
          "name": "stdout",
          "text": [
            "              precision    recall  f1-score   support\n",
            "\n",
            "         0.0       0.89      0.95      0.92        74\n",
            "         1.0       0.86      0.74      0.79        34\n",
            "\n",
            "    accuracy                           0.88       108\n",
            "   macro avg       0.87      0.84      0.85       108\n",
            "weighted avg       0.88      0.88      0.88       108\n",
            "\n"
          ]
        }
      ]
    },
    {
      "cell_type": "code",
      "source": [
        "cm = confusion_matrix(y_true, y_pred)\n",
        "\n",
        "\n",
        "plt.figure(figsize=(8, 8))\n",
        "sns.heatmap(cm, annot=True, vmin=0, fmt='g', cmap='Greens', cbar=False)\n",
        "plt.xticks(np.arange(2) + 0.5)\n",
        "plt.yticks(np.arange(2) + 0.5)\n",
        "plt.xlabel(\"Predicción\")\n",
        "plt.ylabel(\"Valor real\")\n",
        "plt.title(\"Matriz de Confusión Random Forest\")\n",
        "plt.show()"
      ],
      "metadata": {
        "colab": {
          "base_uri": "https://localhost:8080/",
          "height": 718
        },
        "id": "B12aPDjpgXSC",
        "outputId": "5f252959-8c07-4a0a-d967-13a6c18ee513"
      },
      "execution_count": 213,
      "outputs": [
        {
          "output_type": "display_data",
          "data": {
            "text/plain": [
              "<Figure size 800x800 with 1 Axes>"
            ],
            "image/png": "[encoded data removed]"
          },
          "metadata": {}
        }
      ]
    },
    {
      "cell_type": "markdown",
      "source": [
        "De igual manera que en modelo de redes neuronales, se deicidió emplear una curva ROC para random forest para medir su desempeño."
      ],
      "metadata": {
        "id": "hiFf4MqnD_qr"
      }
    },
    {
      "cell_type": "code",
      "source": [
        "fpr, tpr, thresholds = roc_curve(y_test, y_pred)\n",
        "\n",
        "\n",
        "plt.figure()\n",
        "plt.plot(fpr, tpr, lw=2)\n",
        "plt.plot([0, 1], [0, 1], lw=2)\n",
        "plt.xlim([0.0, 1.0])\n",
        "plt.ylim([0.0, 1.05])\n",
        "plt.xlabel('Especificidad')\n",
        "plt.ylabel('Sensibilidad')\n",
        "plt.title('Curva ROC Random Forest')\n",
        "plt.show()"
      ],
      "metadata": {
        "colab": {
          "base_uri": "https://localhost:8080/",
          "height": 472
        },
        "id": "fyPzZROjD_ad",
        "outputId": "249feda3-29c0-470a-e897-59f7a7afd954"
      },
      "execution_count": 214,
      "outputs": [
        {
          "output_type": "display_data",
          "data": {
            "text/plain": [
              "<Figure size 640x480 with 1 Axes>"
            ],
            "image/png": "[encoded data removed]"
          },
          "metadata": {}
        }
      ]
    },
    {
      "cell_type": "markdown",
      "source": [
        "Ya tenemos los resultados de ambos modelos y se pueden observar diversas diferencias entre ellos. Comenzando con el recall de random forest, tuve un excelente desempeño para predecir correctamente cuando los pacientes no poseen la enfermedad (un 95% de efectividad). Mientras que para predecir si una persona padece la enfermedad tiene un recall apenas satisfactorio (casi 3 de 4 pacientes), por lo que este modelo resulta especialmente útil para predecir si una persona se encuentra libre de la enfermedad, mientras que para decidir si la padece es mucho más recomendable emplear el modelo de redes neuronales."
      ],
      "metadata": {
        "id": "pIhYN7pXhYJB"
      }
    }
  ]
}